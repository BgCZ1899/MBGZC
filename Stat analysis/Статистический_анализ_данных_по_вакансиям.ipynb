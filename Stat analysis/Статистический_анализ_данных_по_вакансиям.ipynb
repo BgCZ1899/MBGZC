{
  "cells": [
    {
      "cell_type": "markdown",
      "metadata": {
        "id": "25vfb6g6Ovyl"
      },
      "source": [
        "#**1. Подготовка данных к анализу**"
      ]
    },
    {
      "cell_type": "code",
      "execution_count": null,
      "metadata": {
        "id": "lzWQybhrLE7f"
      },
      "outputs": [],
      "source": [
        "!gdown --id "
      ]
    },
    {
      "cell_type": "code",
      "execution_count": 20,
      "metadata": {
        "id": "J6dpXUtALX9s"
      },
      "outputs": [],
      "source": [
        "%matplotlib inline\n",
        "import numpy as np\n",
        "import pandas as pd\n",
        "import matplotlib.pyplot as plt\n",
        "import scipy\n",
        "import scipy.stats as stats\n",
        "import seaborn as sns\n",
        "import sklearn.linear_model as lm\n",
        "import statsmodels.api as sm\n",
        "import statsmodels.formula.api as smf\n",
        "\n",
        "pd.options.display.max_rows = 8\n",
        "\n",
        "dataset_reg = pd.read_excel('region roles (26.05.22).xlsx')"
      ]
    },
    {
      "cell_type": "code",
      "execution_count": 21,
      "metadata": {
        "id": "KVNyxV558pHl"
      },
      "outputs": [],
      "source": [
        "support = 'поддержки'\n",
        "def sup(val):\n",
        "  if support in val:\n",
        "    val = 'Специалист службы поддержки'\n",
        "  return val\n",
        "  \n",
        "dataset_reg['name'] = dataset_reg['name'].apply(sup)"
      ]
    },
    {
      "cell_type": "code",
      "execution_count": 22,
      "metadata": {
        "colab": {
          "base_uri": "https://localhost:8080/"
        },
        "id": "AF6DD4wN9tuM",
        "outputId": "503a5093-86d9-4dd2-f642-e2daaaabde0b"
      },
      "outputs": [
        {
          "output_type": "execute_result",
          "data": {
            "text/plain": [
              "False    65445\n",
              "True      4211\n",
              "Name: name, dtype: int64"
            ]
          },
          "metadata": {},
          "execution_count": 22
        }
      ],
      "source": [
        "dataset_reg['name'].str.contains('Специалист службы поддержки').value_counts()"
      ]
    },
    {
      "cell_type": "code",
      "execution_count": 23,
      "metadata": {
        "colab": {
          "base_uri": "https://localhost:8080/"
        },
        "id": "TlTI4Ict-BV0",
        "outputId": "0312a406-56b1-4f98-eb06-8a1be911a831"
      },
      "outputs": [
        {
          "output_type": "execute_result",
          "data": {
            "text/plain": [
              "False    68946\n",
              "True       710\n",
              "Name: name, dtype: int64"
            ]
          },
          "metadata": {},
          "execution_count": 23
        }
      ],
      "source": [
        "dataset_reg['name'].str.contains('1C').value_counts()"
      ]
    },
    {
      "cell_type": "code",
      "execution_count": 24,
      "metadata": {
        "id": "1snMTXngLmOz"
      },
      "outputs": [],
      "source": [
        "fed_okr = {'Белгородская область':'Центральный федеральный округ', 'Брянская область':'Центральный федеральный округ', 'Владимирская область':'Центральный федеральный округ', 'Воронежская область':'Центральный федеральный округ', 'Ивановская область':'Центральный федеральный округ', 'Калужская область':'Центральный федеральный округ', 'Костромская область':'Центральный федеральный округ', 'Курская область':'Центральный федеральный округ', 'Липецкая область':'Центральный федеральный округ', 'Московская область':'Центральный федеральный округ', 'Орловская область':'Центральный федеральный округ', 'Рязанская область':'Центральный федеральный округ', 'Смоленская область':'Центральный федеральный округ', 'Тамбовская область':'Центральный федеральный округ', 'Тверская область':'Центральный федеральный округ', 'Тульская область':'Центральный федеральный округ', 'Ярославская область':'Центральный федеральный округ', 'Москва':'Центральный федеральный округ','Республика Карелия':'Северо-Западный федеральный округ', 'Республика Коми':'Северо-Западный федеральный округ', 'Архангельская область':'Северо-Западный федеральный округ', 'Вологодская область':'Северо-Западный федеральный округ', 'Калининградская область':'Северо-Западный федеральный округ', 'Ленинградская область':'Северо-Западный федеральный округ', 'Мурманская область':'Северо-Западный федеральный округ', 'Новгородская область':'Северо-Западный федеральный округ', 'Псковская область':'Северо-Западный федеральный округ', 'Санкт-Петербург':'Северо-Западный федеральный округ', 'Ненецкий АО':'Северо-Западный федеральный округ', 'Республика Адыгея':'Южный федеральный округ', 'Республика Калмыкия':'Южный федеральный округ', 'Республика Крым':'Южный федеральный округ', 'Краснодарский край':'Южный федеральный округ', 'Астраханская область':'Южный федеральный округ', 'Волгоградская область':'Южный федеральный округ', 'Ростовская область':'Южный федеральный округ', 'Севастополь':'Южный федеральный округ', 'Республика Дагестан':'Северо-Кавказский федеральный округ', 'Республика Ингушетия':'Северо-Кавказский федеральный округ', 'Кабардино-Балкарская республика':'Северо-Кавказский федеральный округ', 'Карачаево-Черкесская Республика':'Северо-Кавказский федеральный округ', 'Республика Северная Осетия-Алания':'Северо-Кавказский федеральный округ', 'Чеченская республика':'Северо-Кавказский федеральный округ', 'Ставропольский край':'Северо-Кавказский федеральный округ', 'Республика Башкортостан':'Приволжский федеральный округ', 'Республика Марий Эл':'Приволжский федеральный округ', 'Республика Мордовия':'Приволжский федеральный округ', 'Республика Татарстан':'Приволжский федеральный округ', 'Удмуртская Республика':'Приволжский федеральный округ', 'Чувашская Республика':'Приволжский федеральный округ', 'Пермский край':'Приволжский федеральный округ', 'Кировская область':'Приволжский федеральный округ', 'Нижегородская область':'Приволжский федеральный округ', 'Оренбургская область':'Приволжский федеральный округ', 'Пензенская область':'Приволжский федеральный округ', 'Самарская область':'Приволжский федеральный округ', 'Саратовская область':'Приволжский федеральный округ', 'Ульяновская область':'Приволжский федеральный округ','Курганская область':'Уральский федеральный округ', 'Свердловская область':'Уральский федеральный округ', 'Тюменская область':'Уральский федеральный округ', 'Челябинская область':'Уральский федеральный округ', 'Ханты-Мансийский АО - Югра':'Уральский федеральный округ', 'Ямало-Ненецкий АО':'Уральский федеральный округ','Республика Алтай':'Сибирский федеральный округ', 'Республика Тыва':'Сибирский федеральный округ', 'Республика Хакасия':'Сибирский федеральный округ', 'Алтайский край':'Сибирский федеральный округ', 'Красноярский край':'Сибирский федеральный округ', 'Иркутская область':'Сибирский федеральный округ', 'Кемеровская область':'Сибирский федеральный округ', 'Новосибирская область':'Сибирский федеральный округ', 'Омская область':'Сибирский федеральный округ', 'Томская область':'Сибирский федеральный округ','Республика Бурятия':'Дальневосточный федеральный округ', 'Республика Саха (Якутия)':'Дальневосточный федеральный округ', 'Забайкальский край':'Дальневосточный федеральный округ', 'Камчатский край':'Дальневосточный федеральный округ', 'Приморский край':'Дальневосточный федеральный округ', 'Хабаровский край':'Дальневосточный федеральный округ', 'Амурская область':'Дальневосточный федеральный округ', 'Магаданская область':'Дальневосточный федеральный округ', 'Сахалинская область':'Дальневосточный федеральный округ', 'Еврейская АО':'Дальневосточный федеральный округ', 'Чукотский АО':'Дальневосточный федеральный округ'}"
      ]
    },
    {
      "cell_type": "code",
      "execution_count": 25,
      "metadata": {
        "id": "WvAtp38mLq6B"
      },
      "outputs": [],
      "source": [
        "dataset_reg['Федеральный округ'] = dataset_reg['region'].map(fed_okr)"
      ]
    },
    {
      "cell_type": "code",
      "execution_count": 26,
      "metadata": {
        "colab": {
          "base_uri": "https://localhost:8080/"
        },
        "id": "Odt7jVHCMnk7",
        "outputId": "452b69c8-73ac-4d51-c946-58b57bed1eed"
      },
      "outputs": [
        {
          "output_type": "execute_result",
          "data": {
            "text/plain": [
              "Unnamed: 0                    0\n",
              "id                            0\n",
              "premium                       0\n",
              "name                          0\n",
              "                          ...  \n",
              "specializations               0\n",
              "region                        0\n",
              "immediate_redirect_url    69655\n",
              "Федеральный округ             0\n",
              "Length: 35, dtype: int64"
            ]
          },
          "metadata": {},
          "execution_count": 26
        }
      ],
      "source": [
        "# проверка датасета на дубликаты\n",
        "dataset_reg.isna().sum()"
      ]
    },
    {
      "cell_type": "code",
      "execution_count": 27,
      "metadata": {
        "colab": {
          "base_uri": "https://localhost:8080/"
        },
        "id": "PCCQiNBiMqOr",
        "outputId": "f14dd38d-52f1-460e-adf1-f856b3b1455a"
      },
      "outputs": [
        {
          "output_type": "execute_result",
          "data": {
            "text/plain": [
              "438439"
            ]
          },
          "metadata": {},
          "execution_count": 27
        }
      ],
      "source": [
        "# количество дубликатов\n",
        "dataset_reg.isna().sum().sum()"
      ]
    },
    {
      "cell_type": "code",
      "execution_count": 28,
      "metadata": {
        "id": "B_lhnwdqMtND"
      },
      "outputs": [],
      "source": [
        "# очистка датасета от дубликатов\n",
        "dataset = dataset_reg.drop_duplicates(subset = ['id'], keep='last')"
      ]
    },
    {
      "cell_type": "code",
      "execution_count": 29,
      "metadata": {
        "id": "tcP_B5GvHrVX"
      },
      "outputs": [],
      "source": [
        "df_1 = dataset.apply(lambda x: x.replace({'1 С':'1C', '1С':'1C', '1 C': '1C', '1c': '1C', '1 c': '1C', '1 с':'1C', '1с':'1C', \"1С\": \"1C\", 'python': 'Python', 'python 3': 'Python', 'sql':'SQL', 'git':'GIT', 'Git':'GIT'}, regex=True))"
      ]
    },
    {
      "cell_type": "code",
      "execution_count": 30,
      "metadata": {
        "id": "G7YO5CHmK_6w"
      },
      "outputs": [],
      "source": [
        "df_1['name'] = df_1['name'].replace({'1C': 'Программист 1C', 'Ведущий программист 1C': 'Программист 1C', 'Ведущий программист 1С': 'Программист 1C', 'Аналитик 1C': 'Программист 1C', 'Разработчик 1C': 'Программист 1C', 'Дизайнер': 'Графический дизайнер', 'Инженер-программист 1C': 'Программист 1C', \"Консультант 1C\":\"Программист 1C\"})"
      ]
    },
    {
      "cell_type": "code",
      "execution_count": 31,
      "metadata": {
        "id": "lFKIfAo_NdBk"
      },
      "outputs": [],
      "source": [
        "import json\n",
        "def text_to_json(text):\n",
        "  try:\n",
        "    return json.loads(text.replace('\"', '').replace(\"'\", '\"'))\n",
        "  except:\n",
        "    return []\n",
        "df_1['key_skills_json'] = df_1['key_skills'].apply(text_to_json)"
      ]
    },
    {
      "cell_type": "code",
      "execution_count": 32,
      "metadata": {
        "id": "K3I1k9ywNfc7"
      },
      "outputs": [],
      "source": [
        "def get_values(json):\n",
        "  try:\n",
        "    out = []\n",
        "    if len(json)>0:\n",
        "      for i in json:\n",
        "        out.append(i['name'])\n",
        "    return out\n",
        "  except:\n",
        "    return []\n",
        "df_1['Ключевые скилллы'] = df_1['key_skills_json'].apply(get_values)"
      ]
    },
    {
      "cell_type": "code",
      "source": [
        "df_1['Ключевые скилллы']"
      ],
      "metadata": {
        "id": "qPfiqcXkTRZV",
        "colab": {
          "base_uri": "https://localhost:8080/"
        },
        "outputId": "127e5ac1-5442-4ed9-f28d-4a4bed079edd"
      },
      "execution_count": 33,
      "outputs": [
        {
          "output_type": "execute_result",
          "data": {
            "text/plain": [
              "0                                                       []\n",
              "1                        [GIT, SQL, Тестирование, C#, API]\n",
              "2        [SQL, Linux, Информационная безопасность, Рабо...\n",
              "3        [Пользователь ПК, Работа в команде, 1C: Предпр...\n",
              "                               ...                        \n",
              "69652    [1C: Управление Торговлей, 1C: Предприятие 8, ...\n",
              "69653    [Организаторские навыки, Работа в команде, Упр...\n",
              "69654                                                   []\n",
              "69655    [Информационная безопасность, Аудит безопаснос...\n",
              "Name: Ключевые скилллы, Length: 69423, dtype: object"
            ]
          },
          "metadata": {},
          "execution_count": 33
        }
      ]
    },
    {
      "cell_type": "code",
      "execution_count": 34,
      "metadata": {
        "id": "k_Sx-AebNh2U"
      },
      "outputs": [],
      "source": [
        "def get_values(json):\n",
        "  try:\n",
        "    out = []\n",
        "    if len(json)>0:\n",
        "      for i in json:\n",
        "        out.append(i['name'])\n",
        "    return out\n",
        "  except:\n",
        "    return []\n",
        "df_1['key_skills_list'] = df_1['key_skills_json'].apply(get_values)"
      ]
    },
    {
      "cell_type": "code",
      "execution_count": 35,
      "metadata": {
        "id": "p8Ttc0kVNl-7"
      },
      "outputs": [],
      "source": [
        "def get_values(json):\n",
        "  try:\n",
        "    out = []\n",
        "    if len(json)>0:\n",
        "      for i in json:\n",
        "        out.append(i['name'])\n",
        "    return out\n",
        "  except:\n",
        "    return []\n",
        "df_1['Ключевые навыки'] = df_1['key_skills_json'].apply(get_values)"
      ]
    },
    {
      "cell_type": "code",
      "execution_count": 36,
      "metadata": {
        "id": "yg3hV5xzNoRL"
      },
      "outputs": [],
      "source": [
        "df_1['salary_json'] = df_1['salary'].fillna('{}').apply(eval)\n",
        "def get_values(json):\n",
        "  try:\n",
        "    return json['from']\n",
        "  except:\n",
        "    return None\n",
        "df_1['Минимальная зарплата'] = df_1['salary_json'].apply(get_values)"
      ]
    },
    {
      "cell_type": "code",
      "execution_count": 37,
      "metadata": {
        "id": "VYN8RGBWNqyD"
      },
      "outputs": [],
      "source": [
        "import json\n",
        "def text_to_json(text):\n",
        "  try:\n",
        "    return json.loads(text.replace('\"', '').replace(\"'\", '\"'))\n",
        "  except:\n",
        "    return []\n",
        "df_1['specializations_json'] = df_1['specializations'].apply(text_to_json)"
      ]
    },
    {
      "cell_type": "code",
      "execution_count": 38,
      "metadata": {
        "id": "TBbRuA_LNtJb"
      },
      "outputs": [],
      "source": [
        "def get_values(json):\n",
        "  try:\n",
        "    out = []\n",
        "    if len(json)>0:\n",
        "      for i in json:\n",
        "        out.append(i['name'])\n",
        "    return out\n",
        "  except:\n",
        "    return []\n",
        "df_1['specializations_list'] = df_1['specializations_json'].apply(get_values)"
      ]
    },
    {
      "cell_type": "code",
      "execution_count": 39,
      "metadata": {
        "id": "tlp4q94mNv8s"
      },
      "outputs": [],
      "source": [
        "def get_values(json):\n",
        "  try:\n",
        "    out = []\n",
        "    if len(json)>0:\n",
        "      for i in json:\n",
        "        out.append(i['id'])\n",
        "    return out\n",
        "  except:\n",
        "    return []\n",
        "df_1['id_list'] = df_1['specializations_json'].apply(get_values)"
      ]
    },
    {
      "cell_type": "code",
      "execution_count": 40,
      "metadata": {
        "id": "aglqhH4-OUzT"
      },
      "outputs": [],
      "source": [
        "def get_values(json):\n",
        "  try:\n",
        "    out = []\n",
        "    if len(json)>0:\n",
        "      for i in json:\n",
        "        out.append(i['profarea_name'])\n",
        "    return out\n",
        "  except:\n",
        "    return []\n",
        "df_1['profareaname_list'] = df_1['specializations_json'].apply(get_values)"
      ]
    },
    {
      "cell_type": "code",
      "execution_count": 41,
      "metadata": {
        "id": "TMPt6XVVQKIs"
      },
      "outputs": [],
      "source": [
        "df_1['experience_json'] = df_1['experience'].fillna('{}').apply(eval)\n",
        "def get_values(json):\n",
        "  try:\n",
        "    return json['name']\n",
        "  except:\n",
        "    return None\n",
        "df_1['Опыт работы'] = df_1['experience_json'].apply(get_values)"
      ]
    },
    {
      "cell_type": "code",
      "execution_count": 42,
      "metadata": {
        "id": "9YZqjaLwQmJj"
      },
      "outputs": [],
      "source": [
        "df_1['schedule_json'] = df_1['schedule'].fillna('{}').apply(eval)\n",
        "def get_values(json):\n",
        "  try:\n",
        "    return json['name']\n",
        "  except:\n",
        "    return None\n",
        "df_1['График работы'] = df_1['schedule_json'].apply(get_values)"
      ]
    },
    {
      "cell_type": "code",
      "execution_count": 43,
      "metadata": {
        "id": "_11PS-2GRVDj"
      },
      "outputs": [],
      "source": [
        "df_1['area_json'] = df_1['area'].fillna('{}').apply(eval)\n",
        "def get_values(json):\n",
        "  try:\n",
        "    return json['name']\n",
        "  except:\n",
        "    return None\n",
        "df_1['Город вакансии'] = df_1['area_json'].apply(get_values)"
      ]
    },
    {
      "cell_type": "code",
      "execution_count": 44,
      "metadata": {
        "id": "utZ_fCj1N6cz"
      },
      "outputs": [],
      "source": [
        "df_1['specializations_list'] = df_1['specializations_list'].replace({'Арт директор':'Арт-директор'})"
      ]
    },
    {
      "cell_type": "code",
      "execution_count": 45,
      "metadata": {
        "id": "n2HnmIajOBej"
      },
      "outputs": [],
      "source": [
        "df_1['salary_json'] = df_1['salary'].fillna('{}').apply(eval)\n",
        "def get_values(json):\n",
        "  try:\n",
        "    return json['to']\n",
        "  except:\n",
        "    return None\n",
        "df_1['Максимальная зарплата'] = df_1['salary_json'].apply(get_values)"
      ]
    },
    {
      "cell_type": "code",
      "execution_count": 46,
      "metadata": {
        "id": "U4KEz1FlODUz"
      },
      "outputs": [],
      "source": [
        "df_1['salary_json'] = df_1['salary'].fillna('{}').apply(eval)\n",
        "def get_values(json):\n",
        "  try:\n",
        "    return json['currency']\n",
        "  except:\n",
        "    return None\n",
        "df_1['Валюта'] = df_1['salary_json'].apply(get_values)"
      ]
    },
    {
      "cell_type": "code",
      "execution_count": 47,
      "metadata": {
        "id": "XCIeHjXKOFMD"
      },
      "outputs": [],
      "source": [
        "df_1['salary_json'] = df_1['salary'].fillna('{}').apply(eval)\n",
        "def get_values(json):\n",
        "  try:\n",
        "    return json['gross']\n",
        "  except:\n",
        "    return None\n",
        "df_1['НДФЛ'] = df_1['salary_json'].apply(get_values)"
      ]
    },
    {
      "cell_type": "code",
      "execution_count": 48,
      "metadata": {
        "id": "fcTy5OzNSDHb"
      },
      "outputs": [],
      "source": [
        "skills = df_1['key_skills_list']"
      ]
    },
    {
      "cell_type": "code",
      "execution_count": 49,
      "metadata": {
        "id": "deJ2EstjSFe7"
      },
      "outputs": [],
      "source": [
        "def get_number_of_elements(skills):\n",
        "    count = 0\n",
        "    for element in skills:\n",
        "        count += 1\n",
        "    return count"
      ]
    },
    {
      "cell_type": "code",
      "execution_count": 50,
      "metadata": {
        "id": "VjJFqVkNSHXF"
      },
      "outputs": [],
      "source": [
        "df_1['Количество скиллов'] = skills.apply(get_number_of_elements)"
      ]
    },
    {
      "cell_type": "code",
      "execution_count": 51,
      "metadata": {
        "id": "VAJtEHX6OHQ7"
      },
      "outputs": [],
      "source": [
        "clear_ndfl = df_1['НДФЛ'].replace({False: 1, True: 0.87})"
      ]
    },
    {
      "cell_type": "code",
      "execution_count": 52,
      "metadata": {
        "id": "HwH51RUvOJKD"
      },
      "outputs": [],
      "source": [
        "df_1['Чистый НДФЛ'] = clear_ndfl"
      ]
    },
    {
      "cell_type": "code",
      "execution_count": 53,
      "metadata": {
        "id": "AaTu9FyqOK7z"
      },
      "outputs": [],
      "source": [
        "rates = dict(RUR=1, USD=53, EUR=56, KZT=0.12)\n",
        "df_1['Минимальная ЗП в рублях'] = df_1['Валюта'].map(rates)*df_1['Минимальная зарплата']*df_1['Чистый НДФЛ']"
      ]
    },
    {
      "cell_type": "code",
      "execution_count": 54,
      "metadata": {
        "id": "-Ul_9Di3OOCc"
      },
      "outputs": [],
      "source": [
        "df_1['Максимальная ЗП в рублях'] = df_1['Валюта'].map(rates)*df_1['Максимальная зарплата']*df_1['Чистый НДФЛ']"
      ]
    },
    {
      "cell_type": "code",
      "execution_count": 55,
      "metadata": {
        "id": "Nq4hDkRhOQrT"
      },
      "outputs": [],
      "source": [
        "df_1['Средняя ЗП в рублях'] = df_1[['Минимальная ЗП в рублях', 'Максимальная ЗП в рублях']].mean(axis=1)"
      ]
    },
    {
      "cell_type": "code",
      "execution_count": 56,
      "metadata": {
        "id": "n4pBHPpkOXzF"
      },
      "outputs": [],
      "source": [
        "df_2 = df_1[df_1['Средняя ЗП в рублях'].notna()]"
      ]
    },
    {
      "cell_type": "code",
      "execution_count": 57,
      "metadata": {
        "id": "Ujyz2vJrObUS"
      },
      "outputs": [],
      "source": [
        "dff = df_2[df_2['specializations'].str.contains(\"Информационные технологии\", na=False)]"
      ]
    },
    {
      "cell_type": "code",
      "execution_count": 58,
      "metadata": {
        "id": "ARdQtA8HP_ME",
        "colab": {
          "base_uri": "https://localhost:8080/"
        },
        "outputId": "89f48193-00c3-463f-dbdd-e1dc075678d3"
      },
      "outputs": [
        {
          "output_type": "stream",
          "name": "stdout",
          "text": [
            "<class 'pandas.core.frame.DataFrame'>\n",
            "Int64Index: 22646 entries, 1 to 69654\n",
            "Data columns (total 59 columns):\n",
            " #   Column                    Non-Null Count  Dtype  \n",
            "---  ------                    --------------  -----  \n",
            " 0   Unnamed: 0                22646 non-null  int64  \n",
            " 1   id                        22646 non-null  int64  \n",
            " 2   premium                   22646 non-null  bool   \n",
            " 3   name                      22646 non-null  object \n",
            " 4   department                611 non-null    object \n",
            " 5   has_test                  22646 non-null  bool   \n",
            " 6   response_letter_required  22646 non-null  bool   \n",
            " 7   area                      22646 non-null  object \n",
            " 8   salary                    22646 non-null  object \n",
            " 9   type                      22646 non-null  object \n",
            " 10  address                   13043 non-null  object \n",
            " 11  response_url              0 non-null      object \n",
            " 12  sort_point_distance       0 non-null      float64\n",
            " 13  published_at              22646 non-null  object \n",
            " 14  created_at                22646 non-null  object \n",
            " 15  archived                  22646 non-null  bool   \n",
            " 16  insider_interview         89 non-null     object \n",
            " 17  url                       22646 non-null  object \n",
            " 18  alternate_url             22646 non-null  object \n",
            " 19  relations                 22646 non-null  object \n",
            " 20  employer                  22646 non-null  object \n",
            " 21  snippet                   22646 non-null  object \n",
            " 22  contacts                  12814 non-null  object \n",
            " 23  schedule                  22646 non-null  object \n",
            " 24  working_days              22646 non-null  object \n",
            " 25  working_time_intervals    22646 non-null  object \n",
            " 26  working_time_modes        22646 non-null  object \n",
            " 27  accept_temporary          22646 non-null  bool   \n",
            " 28  description               22646 non-null  object \n",
            " 29  experience                22646 non-null  object \n",
            " 30  key_skills                22646 non-null  object \n",
            " 31  specializations           22646 non-null  object \n",
            " 32  region                    22646 non-null  object \n",
            " 33  immediate_redirect_url    0 non-null      object \n",
            " 34  Федеральный округ         22646 non-null  object \n",
            " 35  key_skills_json           22646 non-null  object \n",
            " 36  Ключевые скилллы          22646 non-null  object \n",
            " 37  key_skills_list           22646 non-null  object \n",
            " 38  Ключевые навыки           22646 non-null  object \n",
            " 39  salary_json               22646 non-null  object \n",
            " 40  Минимальная зарплата      20150 non-null  float64\n",
            " 41  specializations_json      22646 non-null  object \n",
            " 42  specializations_list      22646 non-null  object \n",
            " 43  id_list                   22646 non-null  object \n",
            " 44  profareaname_list         22646 non-null  object \n",
            " 45  experience_json           22646 non-null  object \n",
            " 46  Опыт работы               22646 non-null  object \n",
            " 47  schedule_json             22646 non-null  object \n",
            " 48  График работы             22646 non-null  object \n",
            " 49  area_json                 22646 non-null  object \n",
            " 50  Город вакансии            22646 non-null  object \n",
            " 51  Максимальная зарплата     11847 non-null  float64\n",
            " 52  Валюта                    22646 non-null  object \n",
            " 53  НДФЛ                      22646 non-null  object \n",
            " 54  Количество скиллов        22646 non-null  int64  \n",
            " 55  Чистый НДФЛ               22646 non-null  float64\n",
            " 56  Минимальная ЗП в рублях   20150 non-null  float64\n",
            " 57  Максимальная ЗП в рублях  11847 non-null  float64\n",
            " 58  Средняя ЗП в рублях       22646 non-null  float64\n",
            "dtypes: bool(5), float64(7), int64(3), object(44)\n",
            "memory usage: 9.6+ MB\n"
          ]
        }
      ],
      "source": [
        "dff.info()"
      ]
    },
    {
      "cell_type": "markdown",
      "metadata": {
        "id": "pXiu9lQPO-Xr"
      },
      "source": [
        "#**2. Типы анализируемых данных**"
      ]
    },
    {
      "cell_type": "markdown",
      "metadata": {
        "id": "Xj4C1cEuPibz"
      },
      "source": [
        "Типы анализируемых данных:\n",
        "- name (наименование вакансии) - категориальный тип\n",
        "- Средняя ЗП в рублях - количественный тип\n",
        "- Опыт работы - категориальный тип\n",
        "- Город вакансии - категориальный тип\n",
        "- Федеральный округ - категориальный тип\n",
        "- количество скиллов - количественный тип\n",
        "- key_skills_list (ключевые навыки) - категориальный тип"
      ]
    },
    {
      "cell_type": "code",
      "execution_count": 59,
      "metadata": {
        "id": "Fu8k8gFhP2HD"
      },
      "outputs": [],
      "source": [
        "df_stat = dff[['name', 'Средняя ЗП в рублях', 'Опыт работы', 'Город вакансии', 'Федеральный округ', 'График работы', 'Количество скиллов', 'key_skills_list', 'Ключевые навыки']].dropna()"
      ]
    },
    {
      "cell_type": "code",
      "execution_count": 60,
      "metadata": {
        "id": "2Ygs_Sq0YJL0"
      },
      "outputs": [],
      "source": [
        "df_stat_expl = df_stat.explode('key_skills_list')"
      ]
    },
    {
      "cell_type": "markdown",
      "metadata": {
        "id": "pDAnSdGkYTfs"
      },
      "source": [
        "#**3. Визуализация данных в соответствии с их типом**"
      ]
    },
    {
      "cell_type": "code",
      "execution_count": 61,
      "metadata": {
        "colab": {
          "base_uri": "https://localhost:8080/",
          "height": 282
        },
        "id": "-g_1DTQtYWzk",
        "outputId": "1064152c-a6c0-4dad-bb87-4e8fbc902282"
      },
      "outputs": [
        {
          "output_type": "execute_result",
          "data": {
            "text/plain": [
              "<matplotlib.axes._subplots.AxesSubplot at 0x7f0c61693670>"
            ]
          },
          "metadata": {},
          "execution_count": 61
        },
        {
          "output_type": "display_data",
          "data": {
            "text/plain": [
              "<Figure size 432x288 with 1 Axes>"
            ],
            "image/png": "[encoded data removed]"
          },
          "metadata": {
            "needs_background": "light"
          }
        }
      ],
      "source": [
        "df_stat['Средняя ЗП в рублях'].hist(bins=50)"
      ]
    },
    {
      "cell_type": "code",
      "execution_count": 62,
      "metadata": {
        "colab": {
          "base_uri": "https://localhost:8080/",
          "height": 282
        },
        "id": "9pxyxvJMYdRb",
        "outputId": "da8bcc07-1287-421f-8fba-d728a74bd639"
      },
      "outputs": [
        {
          "output_type": "execute_result",
          "data": {
            "text/plain": [
              "<matplotlib.axes._subplots.AxesSubplot at 0x7f0c616936d0>"
            ]
          },
          "metadata": {},
          "execution_count": 62
        },
        {
          "output_type": "display_data",
          "data": {
            "text/plain": [
              "<Figure size 432x288 with 1 Axes>"
            ],
            "image/png": "[encoded data removed]"
          },
          "metadata": {
            "needs_background": "light"
          }
        }
      ],
      "source": [
        "df_stat['Количество скиллов'].hist(bins=50)"
      ]
    },
    {
      "cell_type": "code",
      "execution_count": 63,
      "metadata": {
        "id": "_xXWfPa5Yj10"
      },
      "outputs": [],
      "source": [
        "df_stat_2 = df_stat.loc[(df_stat['Количество скиллов'] >0)]"
      ]
    },
    {
      "cell_type": "code",
      "execution_count": 64,
      "metadata": {
        "colab": {
          "base_uri": "https://localhost:8080/",
          "height": 282
        },
        "id": "c3Xfca1zYnUc",
        "outputId": "c5fa00a4-3dc2-4f82-bbaa-42d1d23a98e7"
      },
      "outputs": [
        {
          "output_type": "execute_result",
          "data": {
            "text/plain": [
              "<matplotlib.axes._subplots.AxesSubplot at 0x7f0c74382ee0>"
            ]
          },
          "metadata": {},
          "execution_count": 64
        },
        {
          "output_type": "display_data",
          "data": {
            "text/plain": [
              "<Figure size 432x288 with 1 Axes>"
            ],
            "image/png": "[encoded data removed]"
          },
          "metadata": {
            "needs_background": "light"
          }
        }
      ],
      "source": [
        "df_stat_2['Количество скиллов'].hist(bins=50)"
      ]
    },
    {
      "cell_type": "code",
      "execution_count": 65,
      "metadata": {
        "colab": {
          "base_uri": "https://localhost:8080/"
        },
        "id": "rQZZEbzNYrIs",
        "outputId": "f2e164f2-1dc4-483b-cf4b-9e07c9a7e90b"
      },
      "outputs": [
        {
          "output_type": "execute_result",
          "data": {
            "text/plain": [
              "Москва             4857\n",
              "Санкт-Петербург    2389\n",
              "Екатеринбург        890\n",
              "Новосибирск         872\n",
              "Краснодар           602\n",
              "Казань              598\n",
              "Нижний Новгород     521\n",
              "Name: Город вакансии, dtype: int64"
            ]
          },
          "metadata": {},
          "execution_count": 65
        }
      ],
      "source": [
        "city_count = df_stat['Город вакансии'].value_counts()\n",
        "city_count[:7]"
      ]
    },
    {
      "cell_type": "code",
      "execution_count": 66,
      "metadata": {
        "colab": {
          "base_uri": "https://localhost:8080/",
          "height": 347
        },
        "id": "kpmLtuNWYuxD",
        "outputId": "3f2d6932-af41-45c6-eb25-747a42fa5ad5"
      },
      "outputs": [
        {
          "output_type": "display_data",
          "data": {
            "text/plain": [
              "<Figure size 576x396 with 1 Axes>"
            ],
            "image/png": "[encoded data removed]"
          },
          "metadata": {}
        }
      ],
      "source": [
        "plt.style.use('seaborn')\n",
        "params = {\n",
        "          'axes.titlesize': 15,  \n",
        "          'xtick.labelsize': 12, \n",
        "          'axes.labelsize': 16   \n",
        "          }\n",
        "plt.rcParams.update(params)\n",
        "plt.pie(city_count[:7].values, labels = city_count[:7].index, autopct='%1.1f%%')\n",
        "plt.title('Круговая диаграмма мест размещения вакансий')\n",
        "plt.show()"
      ]
    },
    {
      "cell_type": "code",
      "execution_count": 67,
      "metadata": {
        "colab": {
          "base_uri": "https://localhost:8080/"
        },
        "id": "HtyIFPr3YxRY",
        "outputId": "69c4d07f-4cb7-4d51-87db-44c9f3e5bb16"
      },
      "outputs": [
        {
          "output_type": "execute_result",
          "data": {
            "text/plain": [
              "Центральный федеральный округ        7872\n",
              "Приволжский федеральный округ        3854\n",
              "Северо-Западный федеральный округ    3006\n",
              "Сибирский федеральный округ          2798\n",
              "Южный федеральный округ              2020\n",
              "Уральский федеральный округ          1911\n",
              "Дальневосточный федеральный округ     909\n",
              "Name: Федеральный округ, dtype: int64"
            ]
          },
          "metadata": {},
          "execution_count": 67
        }
      ],
      "source": [
        "fo_count = df_stat['Федеральный округ'].value_counts()\n",
        "fo_count[:7]"
      ]
    },
    {
      "cell_type": "code",
      "execution_count": 68,
      "metadata": {
        "colab": {
          "base_uri": "https://localhost:8080/",
          "height": 595
        },
        "id": "MUaJ77YDY0Jr",
        "outputId": "2aee0814-af7e-4eca-8705-c50def53f567"
      },
      "outputs": [
        {
          "output_type": "display_data",
          "data": {
            "text/plain": [
              "<Figure size 576x396 with 1 Axes>"
            ],
            "image/png": "[encoded data removed]"
          },
          "metadata": {}
        }
      ],
      "source": [
        "plt.bar(fo_count[:10].index, fo_count[:10].values)\n",
        "plt.title('Диаграмма распределения вакансий по федеральным округам')\n",
        "plt.xlabel('Федеральные округа', fontsize=16)\n",
        "plt.ylabel('Количество вакансий', fontsize=14)\n",
        "plt.xticks(rotation=90, ha='right')\n",
        "plt.show()"
      ]
    },
    {
      "cell_type": "code",
      "execution_count": 69,
      "metadata": {
        "id": "cyZWvk8fY4db"
      },
      "outputs": [],
      "source": [
        "vac_count = df_stat['name'].value_counts()"
      ]
    },
    {
      "cell_type": "code",
      "execution_count": 70,
      "metadata": {
        "colab": {
          "base_uri": "https://localhost:8080/",
          "height": 385
        },
        "id": "uIiEcs_7Y6sb",
        "outputId": "c808c388-1643-40ae-8ede-4f707ff37645"
      },
      "outputs": [
        {
          "output_type": "display_data",
          "data": {
            "text/plain": [
              "<Figure size 576x396 with 1 Axes>"
            ],
            "image/png": "[encoded data removed]"
          },
          "metadata": {}
        }
      ],
      "source": [
        "plt.title('Диаграмма распределения вакансий')\n",
        "plt.xlabel('Количество вакансий')\n",
        "plt.barh(vac_count[:15].index, vac_count[:15].values)\n",
        "plt.show()"
      ]
    },
    {
      "cell_type": "code",
      "execution_count": 71,
      "metadata": {
        "id": "eUYtTWfnY-CL"
      },
      "outputs": [],
      "source": [
        "exper_count = df_stat['Опыт работы'].value_counts()"
      ]
    },
    {
      "cell_type": "code",
      "execution_count": 72,
      "metadata": {
        "colab": {
          "base_uri": "https://localhost:8080/",
          "height": 347
        },
        "id": "GTp5XVxLZAry",
        "outputId": "bb5ddfb4-ac89-4339-b07a-dfbcbcfe6069"
      },
      "outputs": [
        {
          "output_type": "display_data",
          "data": {
            "text/plain": [
              "<Figure size 576x396 with 1 Axes>"
            ],
            "image/png": "[encoded data removed]"
          },
          "metadata": {}
        }
      ],
      "source": [
        "plt.style.use('seaborn')\n",
        "params = {\n",
        "          'axes.titlesize': 15,  \n",
        "          'xtick.labelsize': 12, \n",
        "          'axes.labelsize': 16   \n",
        "          }\n",
        "plt.rcParams.update(params)\n",
        "plt.pie(exper_count[:7].values, labels = exper_count[:7].index, autopct='%1.1f%%')\n",
        "plt.title('Круговая диаграмма распределения опыта работы')\n",
        "plt.show()"
      ]
    },
    {
      "cell_type": "code",
      "execution_count": 73,
      "metadata": {
        "id": "A38jzZ0NZDzT"
      },
      "outputs": [],
      "source": [
        "wtime_count = df_stat['График работы'].value_counts()"
      ]
    },
    {
      "cell_type": "code",
      "execution_count": 74,
      "metadata": {
        "colab": {
          "base_uri": "https://localhost:8080/",
          "height": 347
        },
        "id": "QQaVvzmUZIRj",
        "outputId": "361bca3e-91e6-43b1-f300-df045ffed17d"
      },
      "outputs": [
        {
          "output_type": "display_data",
          "data": {
            "text/plain": [
              "<Figure size 576x396 with 1 Axes>"
            ],
            "image/png": "[encoded data removed]"
          },
          "metadata": {}
        }
      ],
      "source": [
        "plt.style.use('seaborn')\n",
        "params = {\n",
        "          'axes.titlesize': 15,  \n",
        "          'xtick.labelsize': 12, \n",
        "          'axes.labelsize': 16   \n",
        "          }\n",
        "plt.rcParams.update(params)\n",
        "plt.pie(wtime_count[:7].values, labels = wtime_count[:7].index, autopct='%1.1f%%', pctdistance=1.1, labeldistance=1.3)\n",
        "plt.title('Круговая диаграмма рабочих графиков')\n",
        "plt.show()"
      ]
    },
    {
      "cell_type": "code",
      "execution_count": 75,
      "metadata": {
        "colab": {
          "base_uri": "https://localhost:8080/"
        },
        "id": "yB4HUzDKZLHL",
        "outputId": "b934e7a0-f183-4d9a-c78b-c6171d2fc6dc"
      },
      "outputs": [
        {
          "output_type": "execute_result",
          "data": {
            "text/plain": [
              "Работа в команде               2056\n",
              "GIT                            1955\n",
              "SQL                            1872\n",
              "Linux                          1784\n",
              "                               ... \n",
              "Деловая коммуникация            571\n",
              "Информационная безопасность     515\n",
              "C#                              503\n",
              "Docker                          494\n",
              "Name: key_skills_list, Length: 48, dtype: int64"
            ]
          },
          "metadata": {},
          "execution_count": 75
        }
      ],
      "source": [
        "top_it_skills = df_stat_expl['key_skills_list'].value_counts()\n",
        "top_it_skills[:48]"
      ]
    },
    {
      "cell_type": "code",
      "execution_count": 76,
      "metadata": {
        "colab": {
          "base_uri": "https://localhost:8080/"
        },
        "id": "GNlWp3ZBZjdj",
        "outputId": "7ccb998d-adb9-4947-bcd5-00c3577ae677"
      },
      "outputs": [
        {
          "output_type": "execute_result",
          "data": {
            "text/plain": [
              "False    116369\n",
              "True       5253\n",
              "Name: key_skills_list, dtype: int64"
            ]
          },
          "metadata": {},
          "execution_count": 76
        }
      ],
      "source": [
        "df_stat_expl['key_skills_list'].str.contains('SQL').value_counts()"
      ]
    },
    {
      "cell_type": "code",
      "execution_count": 77,
      "metadata": {
        "colab": {
          "base_uri": "https://localhost:8080/",
          "height": 548
        },
        "id": "vk_9qnEGZQdU",
        "outputId": "f54431f5-dd2e-4b5f-b72d-3a89a2fc06a5"
      },
      "outputs": [
        {
          "output_type": "display_data",
          "data": {
            "text/plain": [
              "<Figure size 576x396 with 1 Axes>"
            ],
            "image/png": "[encoded data removed]"
          },
          "metadata": {}
        }
      ],
      "source": [
        "plt.bar(top_it_skills[:20].index, top_it_skills[:20].values)\n",
        "plt.title('Диаграмма наиболее востребованных скиллов')\n",
        "plt.xlabel('Скиллы', fontsize=16)\n",
        "plt.ylabel('Количество требований', fontsize=14)\n",
        "plt.xticks(rotation=45, ha='right')\n",
        "plt.show()"
      ]
    },
    {
      "cell_type": "markdown",
      "metadata": {
        "id": "VgOpM25haeqk"
      },
      "source": [
        "#**4. Проверка гипотез о нормальности распределения количественных показателей**"
      ]
    },
    {
      "cell_type": "code",
      "execution_count": 78,
      "metadata": {
        "colab": {
          "base_uri": "https://localhost:8080/"
        },
        "id": "Bc33EI5vatjU",
        "outputId": "3eba10dd-9987-4655-a71f-094124b20986"
      },
      "outputs": [
        {
          "output_type": "execute_result",
          "data": {
            "text/plain": [
              "count     22646\n",
              "mean      93074\n",
              "std       73838\n",
              "min          30\n",
              "25%       40020\n",
              "50%       70000\n",
              "75%      121800\n",
              "max      883050\n",
              "Name: Средняя ЗП в рублях, dtype: int64"
            ]
          },
          "metadata": {},
          "execution_count": 78
        }
      ],
      "source": [
        "df_stat['Средняя ЗП в рублях'].describe().astype(int)"
      ]
    },
    {
      "cell_type": "code",
      "execution_count": 79,
      "metadata": {
        "colab": {
          "base_uri": "https://localhost:8080/"
        },
        "id": "JK3wV85GY21r",
        "outputId": "11efda21-9fd3-49fd-bc7b-1af83430abdb"
      },
      "outputs": [
        {
          "output_type": "execute_result",
          "data": {
            "text/plain": [
              "1.938790882090453"
            ]
          },
          "metadata": {},
          "execution_count": 79
        }
      ],
      "source": [
        "# коэффициент ассиметрии\n",
        "df_stat['Средняя ЗП в рублях'].skew()"
      ]
    },
    {
      "cell_type": "code",
      "execution_count": 80,
      "metadata": {
        "colab": {
          "base_uri": "https://localhost:8080/"
        },
        "id": "dmY-t1aOY8lD",
        "outputId": "9c2087c9-a268-485d-829f-5d61e5a096ba"
      },
      "outputs": [
        {
          "output_type": "execute_result",
          "data": {
            "text/plain": [
              "6.107875486546108"
            ]
          },
          "metadata": {},
          "execution_count": 80
        }
      ],
      "source": [
        "# коэффициент эксцесса\n",
        "df_stat['Средняя ЗП в рублях'].kurtosis()"
      ]
    },
    {
      "cell_type": "code",
      "execution_count": 81,
      "metadata": {
        "colab": {
          "base_uri": "https://localhost:8080/"
        },
        "id": "sH_lx0SxZNuM",
        "outputId": "d105de41-a119-463c-897f-c366fd4a2f43"
      },
      "outputs": [
        {
          "output_type": "execute_result",
          "data": {
            "text/plain": [
              "NormaltestResult(statistic=9326.623430066764, pvalue=0.0)"
            ]
          },
          "metadata": {},
          "execution_count": 81
        }
      ],
      "source": [
        "# Тест Д'Агостино для средней заработной платы\n",
        "stats.normaltest(df_stat['Средняя ЗП в рублях'])"
      ]
    },
    {
      "cell_type": "code",
      "execution_count": 82,
      "metadata": {
        "colab": {
          "base_uri": "https://localhost:8080/"
        },
        "id": "fFgKilWfazx7",
        "outputId": "eb0e8433-63ee-49f8-ae5e-01d3953b9511"
      },
      "outputs": [
        {
          "output_type": "execute_result",
          "data": {
            "text/plain": [
              "count    22646\n",
              "mean         5\n",
              "std          4\n",
              "min          0\n",
              "25%          3\n",
              "50%          5\n",
              "75%          7\n",
              "max         30\n",
              "Name: Количество скиллов, dtype: int64"
            ]
          },
          "metadata": {},
          "execution_count": 82
        }
      ],
      "source": [
        "df_stat['Количество скиллов'].describe().astype(int)"
      ]
    },
    {
      "cell_type": "code",
      "execution_count": 83,
      "metadata": {
        "colab": {
          "base_uri": "https://localhost:8080/"
        },
        "id": "Q1PtwyjtZZYL",
        "outputId": "7aa3b4d8-27bc-41a0-f9dd-875a40cde819"
      },
      "outputs": [
        {
          "output_type": "execute_result",
          "data": {
            "text/plain": [
              "1.2987100845416177"
            ]
          },
          "metadata": {},
          "execution_count": 83
        }
      ],
      "source": [
        "df_stat['Количество скиллов'].skew()"
      ]
    },
    {
      "cell_type": "code",
      "execution_count": 84,
      "metadata": {
        "colab": {
          "base_uri": "https://localhost:8080/"
        },
        "id": "J0X8rSBLZezj",
        "outputId": "df72f4fe-ca09-4c6f-9e36-e451ddfa1990"
      },
      "outputs": [
        {
          "output_type": "execute_result",
          "data": {
            "text/plain": [
              "3.4356175132603566"
            ]
          },
          "metadata": {},
          "execution_count": 84
        }
      ],
      "source": [
        "df_stat['Количество скиллов'].kurtosis()"
      ]
    },
    {
      "cell_type": "code",
      "execution_count": 85,
      "metadata": {
        "colab": {
          "base_uri": "https://localhost:8080/"
        },
        "id": "5uMRys-la8vl",
        "outputId": "0cf5c7a9-bc38-4e53-940e-e37d9dbd3ef3"
      },
      "outputs": [
        {
          "output_type": "execute_result",
          "data": {
            "text/plain": [
              "NormaltestResult(statistic=5711.286290185006, pvalue=0.0)"
            ]
          },
          "metadata": {},
          "execution_count": 85
        }
      ],
      "source": [
        "stats.normaltest(df_stat['Количество скиллов'])"
      ]
    },
    {
      "cell_type": "markdown",
      "metadata": {
        "id": "fB_oKKdNckJM"
      },
      "source": [
        "Обе выбобрки количественных показателей в соотвествии с тестом Д'Агостино не подчиняются нормальному закону распределения. Что также заметно по показателям ассиметрии и эксцесса."
      ]
    },
    {
      "cell_type": "markdown",
      "metadata": {
        "id": "GFKi2-HNb50i"
      },
      "source": [
        "#**5. Оценка связи между показателями**"
      ]
    },
    {
      "cell_type": "markdown",
      "metadata": {
        "id": "sBPkmfsdiovm"
      },
      "source": [
        "##5.1 Оценка связи количественных показателей: средней заработной платы и количества скиллов"
      ]
    },
    {
      "cell_type": "code",
      "execution_count": 86,
      "metadata": {
        "colab": {
          "base_uri": "https://localhost:8080/",
          "height": 385
        },
        "id": "6I8aQLxEs5EM",
        "outputId": "8cda9e31-0381-41c9-e7db-e8d154b919c4"
      },
      "outputs": [
        {
          "output_type": "execute_result",
          "data": {
            "text/plain": [
              "<matplotlib.axes._subplots.AxesSubplot at 0x7f0c7480dd30>"
            ]
          },
          "metadata": {},
          "execution_count": 86
        },
        {
          "output_type": "display_data",
          "data": {
            "text/plain": [
              "<Figure size 576x396 with 1 Axes>"
            ],
            "image/png": "[encoded data removed]"
          },
          "metadata": {}
        }
      ],
      "source": [
        "df_stat.plot('Количество скиллов', 'Средняя ЗП в рублях', kind=\"scatter\")"
      ]
    },
    {
      "cell_type": "code",
      "execution_count": 87,
      "metadata": {
        "colab": {
          "base_uri": "https://localhost:8080/",
          "height": 884
        },
        "id": "FDHKwHGhcM8b",
        "outputId": "90da8801-65f1-446d-a5c3-197ef0e6a893"
      },
      "outputs": [
        {
          "output_type": "display_data",
          "data": {
            "text/plain": [
              "<Figure size 1080x1080 with 1 Axes>"
            ],
            "image/png": "[encoded data removed]"
          },
          "metadata": {}
        }
      ],
      "source": [
        "f, ax = plt.subplots(figsize=(15, 15))\n",
        "plt.axis(ymin=0, ymax=360000)\n",
        "fig = sns.boxplot(x='Количество скиллов', y='Средняя ЗП в рублях', data=df_stat)"
      ]
    },
    {
      "cell_type": "code",
      "execution_count": 88,
      "metadata": {
        "colab": {
          "base_uri": "https://localhost:8080/",
          "height": 112
        },
        "id": "vHp6Dubmcgfk",
        "outputId": "8abac10c-7c4e-4f64-f52c-be44d5c396bc"
      },
      "outputs": [
        {
          "output_type": "execute_result",
          "data": {
            "text/plain": [
              "                     Количество скиллов  Средняя ЗП в рублях\n",
              "Количество скиллов             1.000000             0.132629\n",
              "Средняя ЗП в рублях            0.132629             1.000000"
            ],
            "text/html": [
              "\n",
              "  <div id=\"df-08af33d7-63d7-4a42-97b9-aedf0dd4c411\">\n",
              "    <div class=\"colab-df-container\">\n",
              "      <div>\n",
              "<style scoped>\n",
              "    .dataframe tbody tr th:only-of-type {\n",
              "        vertical-align: middle;\n",
              "    }\n",
              "\n",
              "    .dataframe tbody tr th {\n",
              "        vertical-align: top;\n",
              "    }\n",
              "\n",
              "    .dataframe thead th {\n",
              "        text-align: right;\n",
              "    }\n",
              "</style>\n",
              "<table border=\"1\" class=\"dataframe\">\n",
              "  <thead>\n",
              "    <tr style=\"text-align: right;\">\n",
              "      <th></th>\n",
              "      <th>Количество скиллов</th>\n",
              "      <th>Средняя ЗП в рублях</th>\n",
              "    </tr>\n",
              "  </thead>\n",
              "  <tbody>\n",
              "    <tr>\n",
              "      <th>Количество скиллов</th>\n",
              "      <td>1.000000</td>\n",
              "      <td>0.132629</td>\n",
              "    </tr>\n",
              "    <tr>\n",
              "      <th>Средняя ЗП в рублях</th>\n",
              "      <td>0.132629</td>\n",
              "      <td>1.000000</td>\n",
              "    </tr>\n",
              "  </tbody>\n",
              "</table>\n",
              "</div>\n",
              "      <button class=\"colab-df-convert\" onclick=\"convertToInteractive('df-08af33d7-63d7-4a42-97b9-aedf0dd4c411')\"\n",
              "              title=\"Convert this dataframe to an interactive table.\"\n",
              "              style=\"display:none;\">\n",
              "        \n",
              "  <svg xmlns=\"http://www.w3.org/2000/svg\" height=\"24px\"viewBox=\"0 0 24 24\"\n",
              "       width=\"24px\">\n",
              "    <path d=\"M0 0h24v24H0V0z\" fill=\"none\"/>\n",
              "    <path d=\"M18.56 5.44l.94 2.06.94-2.06 2.06-.94-2.06-.94-.94-2.06-.94 2.06-2.06.94zm-11 1L8.5 8.5l.94-2.06 2.06-.94-2.06-.94L8.5 2.5l-.94 2.06-2.06.94zm10 10l.94 2.06.94-2.06 2.06-.94-2.06-.94-.94-2.06-.94 2.06-2.06.94z\"/><path d=\"M17.41 7.96l-1.37-1.37c-.4-.4-.92-.59-1.43-.59-.52 0-1.04.2-1.43.59L10.3 9.45l-7.72 7.72c-.78.78-.78 2.05 0 2.83L4 21.41c.39.39.9.59 1.41.59.51 0 1.02-.2 1.41-.59l7.78-7.78 2.81-2.81c.8-.78.8-2.07 0-2.86zM5.41 20L4 18.59l7.72-7.72 1.47 1.35L5.41 20z\"/>\n",
              "  </svg>\n",
              "      </button>\n",
              "      \n",
              "  <style>\n",
              "    .colab-df-container {\n",
              "      display:flex;\n",
              "      flex-wrap:wrap;\n",
              "      gap: 12px;\n",
              "    }\n",
              "\n",
              "    .colab-df-convert {\n",
              "      background-color: #E8F0FE;\n",
              "      border: none;\n",
              "      border-radius: 50%;\n",
              "      cursor: pointer;\n",
              "      display: none;\n",
              "      fill: #1967D2;\n",
              "      height: 32px;\n",
              "      padding: 0 0 0 0;\n",
              "      width: 32px;\n",
              "    }\n",
              "\n",
              "    .colab-df-convert:hover {\n",
              "      background-color: #E2EBFA;\n",
              "      box-shadow: 0px 1px 2px rgba(60, 64, 67, 0.3), 0px 1px 3px 1px rgba(60, 64, 67, 0.15);\n",
              "      fill: #174EA6;\n",
              "    }\n",
              "\n",
              "    [theme=dark] .colab-df-convert {\n",
              "      background-color: #3B4455;\n",
              "      fill: #D2E3FC;\n",
              "    }\n",
              "\n",
              "    [theme=dark] .colab-df-convert:hover {\n",
              "      background-color: #434B5C;\n",
              "      box-shadow: 0px 1px 3px 1px rgba(0, 0, 0, 0.15);\n",
              "      filter: drop-shadow(0px 1px 2px rgba(0, 0, 0, 0.3));\n",
              "      fill: #FFFFFF;\n",
              "    }\n",
              "  </style>\n",
              "\n",
              "      <script>\n",
              "        const buttonEl =\n",
              "          document.querySelector('#df-08af33d7-63d7-4a42-97b9-aedf0dd4c411 button.colab-df-convert');\n",
              "        buttonEl.style.display =\n",
              "          google.colab.kernel.accessAllowed ? 'block' : 'none';\n",
              "\n",
              "        async function convertToInteractive(key) {\n",
              "          const element = document.querySelector('#df-08af33d7-63d7-4a42-97b9-aedf0dd4c411');\n",
              "          const dataTable =\n",
              "            await google.colab.kernel.invokeFunction('convertToInteractive',\n",
              "                                                     [key], {});\n",
              "          if (!dataTable) return;\n",
              "\n",
              "          const docLinkHtml = 'Like what you see? Visit the ' +\n",
              "            '<a target=\"_blank\" href=https://colab.research.google.com/notebooks/data_table.ipynb>data table notebook</a>'\n",
              "            + ' to learn more about interactive tables.';\n",
              "          element.innerHTML = '';\n",
              "          dataTable['output_type'] = 'display_data';\n",
              "          await google.colab.output.renderOutput(dataTable, element);\n",
              "          const docLink = document.createElement('div');\n",
              "          docLink.innerHTML = docLinkHtml;\n",
              "          element.appendChild(docLink);\n",
              "        }\n",
              "      </script>\n",
              "    </div>\n",
              "  </div>\n",
              "  "
            ]
          },
          "metadata": {},
          "execution_count": 88
        }
      ],
      "source": [
        "df_stat[['Количество скиллов','Средняя ЗП в рублях']].corr()"
      ]
    },
    {
      "cell_type": "code",
      "execution_count": 89,
      "metadata": {
        "colab": {
          "base_uri": "https://localhost:8080/"
        },
        "id": "Sx_P2oKFckYr",
        "outputId": "834aded1-bf50-496d-d0f3-363b56ca41d0"
      },
      "outputs": [
        {
          "output_type": "execute_result",
          "data": {
            "text/plain": [
              "(0.13262886260999834, 2.175059679404918e-89)"
            ]
          },
          "metadata": {},
          "execution_count": 89
        }
      ],
      "source": [
        "scipy.stats.pearsonr(df_stat['Количество скиллов'],df_stat['Средняя ЗП в рублях'])"
      ]
    },
    {
      "cell_type": "code",
      "execution_count": 90,
      "metadata": {
        "id": "zyYYtrnQecP1"
      },
      "outputs": [],
      "source": [
        "skill_0_5 = df_stat[df_stat['Количество скиллов'] < 6]\n",
        "skill_5_30 = df_stat[df_stat['Количество скиллов'] > 4]"
      ]
    },
    {
      "cell_type": "code",
      "execution_count": 91,
      "metadata": {
        "colab": {
          "base_uri": "https://localhost:8080/",
          "height": 385
        },
        "id": "b6qEzB3Ff_QJ",
        "outputId": "cf9dc7f3-4271-4886-867a-0f1407ed9442"
      },
      "outputs": [
        {
          "output_type": "execute_result",
          "data": {
            "text/plain": [
              "<matplotlib.axes._subplots.AxesSubplot at 0x7f0c7472c520>"
            ]
          },
          "metadata": {},
          "execution_count": 91
        },
        {
          "output_type": "display_data",
          "data": {
            "text/plain": [
              "<Figure size 576x396 with 1 Axes>"
            ],
            "image/png": "[encoded data removed]"
          },
          "metadata": {}
        }
      ],
      "source": [
        "skill_0_5.plot('Количество скиллов', 'Средняя ЗП в рублях', kind=\"scatter\")"
      ]
    },
    {
      "cell_type": "code",
      "execution_count": 92,
      "metadata": {
        "colab": {
          "base_uri": "https://localhost:8080/",
          "height": 112
        },
        "id": "tj9IMqf7g0cd",
        "outputId": "4a2a80ea-b6ae-42bf-9a42-c10e07e1fb3e"
      },
      "outputs": [
        {
          "output_type": "execute_result",
          "data": {
            "text/plain": [
              "                     Количество скиллов  Средняя ЗП в рублях\n",
              "Количество скиллов             1.000000             0.148116\n",
              "Средняя ЗП в рублях            0.148116             1.000000"
            ],
            "text/html": [
              "\n",
              "  <div id=\"df-5cec893b-64ae-41b0-8bf0-d5e25d7733df\">\n",
              "    <div class=\"colab-df-container\">\n",
              "      <div>\n",
              "<style scoped>\n",
              "    .dataframe tbody tr th:only-of-type {\n",
              "        vertical-align: middle;\n",
              "    }\n",
              "\n",
              "    .dataframe tbody tr th {\n",
              "        vertical-align: top;\n",
              "    }\n",
              "\n",
              "    .dataframe thead th {\n",
              "        text-align: right;\n",
              "    }\n",
              "</style>\n",
              "<table border=\"1\" class=\"dataframe\">\n",
              "  <thead>\n",
              "    <tr style=\"text-align: right;\">\n",
              "      <th></th>\n",
              "      <th>Количество скиллов</th>\n",
              "      <th>Средняя ЗП в рублях</th>\n",
              "    </tr>\n",
              "  </thead>\n",
              "  <tbody>\n",
              "    <tr>\n",
              "      <th>Количество скиллов</th>\n",
              "      <td>1.000000</td>\n",
              "      <td>0.148116</td>\n",
              "    </tr>\n",
              "    <tr>\n",
              "      <th>Средняя ЗП в рублях</th>\n",
              "      <td>0.148116</td>\n",
              "      <td>1.000000</td>\n",
              "    </tr>\n",
              "  </tbody>\n",
              "</table>\n",
              "</div>\n",
              "      <button class=\"colab-df-convert\" onclick=\"convertToInteractive('df-5cec893b-64ae-41b0-8bf0-d5e25d7733df')\"\n",
              "              title=\"Convert this dataframe to an interactive table.\"\n",
              "              style=\"display:none;\">\n",
              "        \n",
              "  <svg xmlns=\"http://www.w3.org/2000/svg\" height=\"24px\"viewBox=\"0 0 24 24\"\n",
              "       width=\"24px\">\n",
              "    <path d=\"M0 0h24v24H0V0z\" fill=\"none\"/>\n",
              "    <path d=\"M18.56 5.44l.94 2.06.94-2.06 2.06-.94-2.06-.94-.94-2.06-.94 2.06-2.06.94zm-11 1L8.5 8.5l.94-2.06 2.06-.94-2.06-.94L8.5 2.5l-.94 2.06-2.06.94zm10 10l.94 2.06.94-2.06 2.06-.94-2.06-.94-.94-2.06-.94 2.06-2.06.94z\"/><path d=\"M17.41 7.96l-1.37-1.37c-.4-.4-.92-.59-1.43-.59-.52 0-1.04.2-1.43.59L10.3 9.45l-7.72 7.72c-.78.78-.78 2.05 0 2.83L4 21.41c.39.39.9.59 1.41.59.51 0 1.02-.2 1.41-.59l7.78-7.78 2.81-2.81c.8-.78.8-2.07 0-2.86zM5.41 20L4 18.59l7.72-7.72 1.47 1.35L5.41 20z\"/>\n",
              "  </svg>\n",
              "      </button>\n",
              "      \n",
              "  <style>\n",
              "    .colab-df-container {\n",
              "      display:flex;\n",
              "      flex-wrap:wrap;\n",
              "      gap: 12px;\n",
              "    }\n",
              "\n",
              "    .colab-df-convert {\n",
              "      background-color: #E8F0FE;\n",
              "      border: none;\n",
              "      border-radius: 50%;\n",
              "      cursor: pointer;\n",
              "      display: none;\n",
              "      fill: #1967D2;\n",
              "      height: 32px;\n",
              "      padding: 0 0 0 0;\n",
              "      width: 32px;\n",
              "    }\n",
              "\n",
              "    .colab-df-convert:hover {\n",
              "      background-color: #E2EBFA;\n",
              "      box-shadow: 0px 1px 2px rgba(60, 64, 67, 0.3), 0px 1px 3px 1px rgba(60, 64, 67, 0.15);\n",
              "      fill: #174EA6;\n",
              "    }\n",
              "\n",
              "    [theme=dark] .colab-df-convert {\n",
              "      background-color: #3B4455;\n",
              "      fill: #D2E3FC;\n",
              "    }\n",
              "\n",
              "    [theme=dark] .colab-df-convert:hover {\n",
              "      background-color: #434B5C;\n",
              "      box-shadow: 0px 1px 3px 1px rgba(0, 0, 0, 0.15);\n",
              "      filter: drop-shadow(0px 1px 2px rgba(0, 0, 0, 0.3));\n",
              "      fill: #FFFFFF;\n",
              "    }\n",
              "  </style>\n",
              "\n",
              "      <script>\n",
              "        const buttonEl =\n",
              "          document.querySelector('#df-5cec893b-64ae-41b0-8bf0-d5e25d7733df button.colab-df-convert');\n",
              "        buttonEl.style.display =\n",
              "          google.colab.kernel.accessAllowed ? 'block' : 'none';\n",
              "\n",
              "        async function convertToInteractive(key) {\n",
              "          const element = document.querySelector('#df-5cec893b-64ae-41b0-8bf0-d5e25d7733df');\n",
              "          const dataTable =\n",
              "            await google.colab.kernel.invokeFunction('convertToInteractive',\n",
              "                                                     [key], {});\n",
              "          if (!dataTable) return;\n",
              "\n",
              "          const docLinkHtml = 'Like what you see? Visit the ' +\n",
              "            '<a target=\"_blank\" href=https://colab.research.google.com/notebooks/data_table.ipynb>data table notebook</a>'\n",
              "            + ' to learn more about interactive tables.';\n",
              "          element.innerHTML = '';\n",
              "          dataTable['output_type'] = 'display_data';\n",
              "          await google.colab.output.renderOutput(dataTable, element);\n",
              "          const docLink = document.createElement('div');\n",
              "          docLink.innerHTML = docLinkHtml;\n",
              "          element.appendChild(docLink);\n",
              "        }\n",
              "      </script>\n",
              "    </div>\n",
              "  </div>\n",
              "  "
            ]
          },
          "metadata": {},
          "execution_count": 92
        }
      ],
      "source": [
        "skill_0_5[['Количество скиллов', 'Средняя ЗП в рублях']].corr()"
      ]
    },
    {
      "cell_type": "code",
      "execution_count": 93,
      "metadata": {
        "colab": {
          "base_uri": "https://localhost:8080/"
        },
        "id": "FGX0QDwQhmEN",
        "outputId": "0eddad4d-ca2d-4d0f-f987-9bb26e02f597"
      },
      "outputs": [
        {
          "output_type": "execute_result",
          "data": {
            "text/plain": [
              "(0.14811588314585739, 3.0612200548930803e-71)"
            ]
          },
          "metadata": {},
          "execution_count": 93
        }
      ],
      "source": [
        "scipy.stats.pearsonr(skill_0_5['Количество скиллов'], skill_0_5['Средняя ЗП в рублях'])"
      ]
    },
    {
      "cell_type": "code",
      "execution_count": 94,
      "metadata": {
        "colab": {
          "base_uri": "https://localhost:8080/",
          "height": 385
        },
        "id": "bKscDl3qgXHV",
        "outputId": "3fa60ae5-990b-4b6f-e16b-450aa2c6d002"
      },
      "outputs": [
        {
          "output_type": "execute_result",
          "data": {
            "text/plain": [
              "<matplotlib.axes._subplots.AxesSubplot at 0x7f0c7468d160>"
            ]
          },
          "metadata": {},
          "execution_count": 94
        },
        {
          "output_type": "display_data",
          "data": {
            "text/plain": [
              "<Figure size 576x396 with 1 Axes>"
            ],
            "image/png": "[encoded data removed]"
          },
          "metadata": {}
        }
      ],
      "source": [
        "skill_5_30.plot('Количество скиллов', 'Средняя ЗП в рублях', kind=\"scatter\")"
      ]
    },
    {
      "cell_type": "code",
      "execution_count": 95,
      "metadata": {
        "colab": {
          "base_uri": "https://localhost:8080/",
          "height": 112
        },
        "id": "CKVGVOI9g-Su",
        "outputId": "d9a60ab5-f545-4a05-fbc3-bc87d1d23e69"
      },
      "outputs": [
        {
          "output_type": "execute_result",
          "data": {
            "text/plain": [
              "                     Количество скиллов  Средняя ЗП в рублях\n",
              "Количество скиллов             1.000000             0.057308\n",
              "Средняя ЗП в рублях            0.057308             1.000000"
            ],
            "text/html": [
              "\n",
              "  <div id=\"df-5ffd2bec-8062-4294-93a5-200f727039b9\">\n",
              "    <div class=\"colab-df-container\">\n",
              "      <div>\n",
              "<style scoped>\n",
              "    .dataframe tbody tr th:only-of-type {\n",
              "        vertical-align: middle;\n",
              "    }\n",
              "\n",
              "    .dataframe tbody tr th {\n",
              "        vertical-align: top;\n",
              "    }\n",
              "\n",
              "    .dataframe thead th {\n",
              "        text-align: right;\n",
              "    }\n",
              "</style>\n",
              "<table border=\"1\" class=\"dataframe\">\n",
              "  <thead>\n",
              "    <tr style=\"text-align: right;\">\n",
              "      <th></th>\n",
              "      <th>Количество скиллов</th>\n",
              "      <th>Средняя ЗП в рублях</th>\n",
              "    </tr>\n",
              "  </thead>\n",
              "  <tbody>\n",
              "    <tr>\n",
              "      <th>Количество скиллов</th>\n",
              "      <td>1.000000</td>\n",
              "      <td>0.057308</td>\n",
              "    </tr>\n",
              "    <tr>\n",
              "      <th>Средняя ЗП в рублях</th>\n",
              "      <td>0.057308</td>\n",
              "      <td>1.000000</td>\n",
              "    </tr>\n",
              "  </tbody>\n",
              "</table>\n",
              "</div>\n",
              "      <button class=\"colab-df-convert\" onclick=\"convertToInteractive('df-5ffd2bec-8062-4294-93a5-200f727039b9')\"\n",
              "              title=\"Convert this dataframe to an interactive table.\"\n",
              "              style=\"display:none;\">\n",
              "        \n",
              "  <svg xmlns=\"http://www.w3.org/2000/svg\" height=\"24px\"viewBox=\"0 0 24 24\"\n",
              "       width=\"24px\">\n",
              "    <path d=\"M0 0h24v24H0V0z\" fill=\"none\"/>\n",
              "    <path d=\"M18.56 5.44l.94 2.06.94-2.06 2.06-.94-2.06-.94-.94-2.06-.94 2.06-2.06.94zm-11 1L8.5 8.5l.94-2.06 2.06-.94-2.06-.94L8.5 2.5l-.94 2.06-2.06.94zm10 10l.94 2.06.94-2.06 2.06-.94-2.06-.94-.94-2.06-.94 2.06-2.06.94z\"/><path d=\"M17.41 7.96l-1.37-1.37c-.4-.4-.92-.59-1.43-.59-.52 0-1.04.2-1.43.59L10.3 9.45l-7.72 7.72c-.78.78-.78 2.05 0 2.83L4 21.41c.39.39.9.59 1.41.59.51 0 1.02-.2 1.41-.59l7.78-7.78 2.81-2.81c.8-.78.8-2.07 0-2.86zM5.41 20L4 18.59l7.72-7.72 1.47 1.35L5.41 20z\"/>\n",
              "  </svg>\n",
              "      </button>\n",
              "      \n",
              "  <style>\n",
              "    .colab-df-container {\n",
              "      display:flex;\n",
              "      flex-wrap:wrap;\n",
              "      gap: 12px;\n",
              "    }\n",
              "\n",
              "    .colab-df-convert {\n",
              "      background-color: #E8F0FE;\n",
              "      border: none;\n",
              "      border-radius: 50%;\n",
              "      cursor: pointer;\n",
              "      display: none;\n",
              "      fill: #1967D2;\n",
              "      height: 32px;\n",
              "      padding: 0 0 0 0;\n",
              "      width: 32px;\n",
              "    }\n",
              "\n",
              "    .colab-df-convert:hover {\n",
              "      background-color: #E2EBFA;\n",
              "      box-shadow: 0px 1px 2px rgba(60, 64, 67, 0.3), 0px 1px 3px 1px rgba(60, 64, 67, 0.15);\n",
              "      fill: #174EA6;\n",
              "    }\n",
              "\n",
              "    [theme=dark] .colab-df-convert {\n",
              "      background-color: #3B4455;\n",
              "      fill: #D2E3FC;\n",
              "    }\n",
              "\n",
              "    [theme=dark] .colab-df-convert:hover {\n",
              "      background-color: #434B5C;\n",
              "      box-shadow: 0px 1px 3px 1px rgba(0, 0, 0, 0.15);\n",
              "      filter: drop-shadow(0px 1px 2px rgba(0, 0, 0, 0.3));\n",
              "      fill: #FFFFFF;\n",
              "    }\n",
              "  </style>\n",
              "\n",
              "      <script>\n",
              "        const buttonEl =\n",
              "          document.querySelector('#df-5ffd2bec-8062-4294-93a5-200f727039b9 button.colab-df-convert');\n",
              "        buttonEl.style.display =\n",
              "          google.colab.kernel.accessAllowed ? 'block' : 'none';\n",
              "\n",
              "        async function convertToInteractive(key) {\n",
              "          const element = document.querySelector('#df-5ffd2bec-8062-4294-93a5-200f727039b9');\n",
              "          const dataTable =\n",
              "            await google.colab.kernel.invokeFunction('convertToInteractive',\n",
              "                                                     [key], {});\n",
              "          if (!dataTable) return;\n",
              "\n",
              "          const docLinkHtml = 'Like what you see? Visit the ' +\n",
              "            '<a target=\"_blank\" href=https://colab.research.google.com/notebooks/data_table.ipynb>data table notebook</a>'\n",
              "            + ' to learn more about interactive tables.';\n",
              "          element.innerHTML = '';\n",
              "          dataTable['output_type'] = 'display_data';\n",
              "          await google.colab.output.renderOutput(dataTable, element);\n",
              "          const docLink = document.createElement('div');\n",
              "          docLink.innerHTML = docLinkHtml;\n",
              "          element.appendChild(docLink);\n",
              "        }\n",
              "      </script>\n",
              "    </div>\n",
              "  </div>\n",
              "  "
            ]
          },
          "metadata": {},
          "execution_count": 95
        }
      ],
      "source": [
        "skill_5_30[['Количество скиллов', 'Средняя ЗП в рублях']].corr()"
      ]
    },
    {
      "cell_type": "code",
      "execution_count": 96,
      "metadata": {
        "colab": {
          "base_uri": "https://localhost:8080/"
        },
        "id": "Zt9CmlSnhFgV",
        "outputId": "fc5d7942-2749-4395-db56-90be0b74eb18"
      },
      "outputs": [
        {
          "output_type": "execute_result",
          "data": {
            "text/plain": [
              "(0.0573075112977372, 4.794458224008703e-12)"
            ]
          },
          "metadata": {},
          "execution_count": 96
        }
      ],
      "source": [
        "scipy.stats.pearsonr(skill_5_30['Количество скиллов'], skill_5_30['Средняя ЗП в рублях'])"
      ]
    },
    {
      "cell_type": "markdown",
      "metadata": {
        "id": "UusRq5pjcnFi"
      },
      "source": [
        "#**6. Сравнение групп**"
      ]
    },
    {
      "cell_type": "markdown",
      "metadata": {
        "id": "Msapck-3BA9i"
      },
      "source": [
        "##6.1 Сравнение заработной платы ИТ-специалистов в зависимости от графика работы"
      ]
    },
    {
      "cell_type": "code",
      "execution_count": 97,
      "metadata": {
        "colab": {
          "base_uri": "https://localhost:8080/",
          "height": 238
        },
        "id": "xTUuoSs8dFNs",
        "outputId": "9531b139-cb33-445b-8223-854e7baeaacf"
      },
      "outputs": [
        {
          "output_type": "execute_result",
          "data": {
            "text/plain": [
              "                  Средняя ЗП в рублях\n",
              "График работы                        \n",
              "Вахтовый метод          117232.588235\n",
              "Гибкий график           113287.855950\n",
              "Полный день              88159.389125\n",
              "Сменный график           48043.123760\n",
              "Удаленная работа        110689.041273"
            ],
            "text/html": [
              "\n",
              "  <div id=\"df-88f7a9d4-9fc8-4ac5-bc73-ae0e44bc903b\">\n",
              "    <div class=\"colab-df-container\">\n",
              "      <div>\n",
              "<style scoped>\n",
              "    .dataframe tbody tr th:only-of-type {\n",
              "        vertical-align: middle;\n",
              "    }\n",
              "\n",
              "    .dataframe tbody tr th {\n",
              "        vertical-align: top;\n",
              "    }\n",
              "\n",
              "    .dataframe thead th {\n",
              "        text-align: right;\n",
              "    }\n",
              "</style>\n",
              "<table border=\"1\" class=\"dataframe\">\n",
              "  <thead>\n",
              "    <tr style=\"text-align: right;\">\n",
              "      <th></th>\n",
              "      <th>Средняя ЗП в рублях</th>\n",
              "    </tr>\n",
              "    <tr>\n",
              "      <th>График работы</th>\n",
              "      <th></th>\n",
              "    </tr>\n",
              "  </thead>\n",
              "  <tbody>\n",
              "    <tr>\n",
              "      <th>Вахтовый метод</th>\n",
              "      <td>117232.588235</td>\n",
              "    </tr>\n",
              "    <tr>\n",
              "      <th>Гибкий график</th>\n",
              "      <td>113287.855950</td>\n",
              "    </tr>\n",
              "    <tr>\n",
              "      <th>Полный день</th>\n",
              "      <td>88159.389125</td>\n",
              "    </tr>\n",
              "    <tr>\n",
              "      <th>Сменный график</th>\n",
              "      <td>48043.123760</td>\n",
              "    </tr>\n",
              "    <tr>\n",
              "      <th>Удаленная работа</th>\n",
              "      <td>110689.041273</td>\n",
              "    </tr>\n",
              "  </tbody>\n",
              "</table>\n",
              "</div>\n",
              "      <button class=\"colab-df-convert\" onclick=\"convertToInteractive('df-88f7a9d4-9fc8-4ac5-bc73-ae0e44bc903b')\"\n",
              "              title=\"Convert this dataframe to an interactive table.\"\n",
              "              style=\"display:none;\">\n",
              "        \n",
              "  <svg xmlns=\"http://www.w3.org/2000/svg\" height=\"24px\"viewBox=\"0 0 24 24\"\n",
              "       width=\"24px\">\n",
              "    <path d=\"M0 0h24v24H0V0z\" fill=\"none\"/>\n",
              "    <path d=\"M18.56 5.44l.94 2.06.94-2.06 2.06-.94-2.06-.94-.94-2.06-.94 2.06-2.06.94zm-11 1L8.5 8.5l.94-2.06 2.06-.94-2.06-.94L8.5 2.5l-.94 2.06-2.06.94zm10 10l.94 2.06.94-2.06 2.06-.94-2.06-.94-.94-2.06-.94 2.06-2.06.94z\"/><path d=\"M17.41 7.96l-1.37-1.37c-.4-.4-.92-.59-1.43-.59-.52 0-1.04.2-1.43.59L10.3 9.45l-7.72 7.72c-.78.78-.78 2.05 0 2.83L4 21.41c.39.39.9.59 1.41.59.51 0 1.02-.2 1.41-.59l7.78-7.78 2.81-2.81c.8-.78.8-2.07 0-2.86zM5.41 20L4 18.59l7.72-7.72 1.47 1.35L5.41 20z\"/>\n",
              "  </svg>\n",
              "      </button>\n",
              "      \n",
              "  <style>\n",
              "    .colab-df-container {\n",
              "      display:flex;\n",
              "      flex-wrap:wrap;\n",
              "      gap: 12px;\n",
              "    }\n",
              "\n",
              "    .colab-df-convert {\n",
              "      background-color: #E8F0FE;\n",
              "      border: none;\n",
              "      border-radius: 50%;\n",
              "      cursor: pointer;\n",
              "      display: none;\n",
              "      fill: #1967D2;\n",
              "      height: 32px;\n",
              "      padding: 0 0 0 0;\n",
              "      width: 32px;\n",
              "    }\n",
              "\n",
              "    .colab-df-convert:hover {\n",
              "      background-color: #E2EBFA;\n",
              "      box-shadow: 0px 1px 2px rgba(60, 64, 67, 0.3), 0px 1px 3px 1px rgba(60, 64, 67, 0.15);\n",
              "      fill: #174EA6;\n",
              "    }\n",
              "\n",
              "    [theme=dark] .colab-df-convert {\n",
              "      background-color: #3B4455;\n",
              "      fill: #D2E3FC;\n",
              "    }\n",
              "\n",
              "    [theme=dark] .colab-df-convert:hover {\n",
              "      background-color: #434B5C;\n",
              "      box-shadow: 0px 1px 3px 1px rgba(0, 0, 0, 0.15);\n",
              "      filter: drop-shadow(0px 1px 2px rgba(0, 0, 0, 0.3));\n",
              "      fill: #FFFFFF;\n",
              "    }\n",
              "  </style>\n",
              "\n",
              "      <script>\n",
              "        const buttonEl =\n",
              "          document.querySelector('#df-88f7a9d4-9fc8-4ac5-bc73-ae0e44bc903b button.colab-df-convert');\n",
              "        buttonEl.style.display =\n",
              "          google.colab.kernel.accessAllowed ? 'block' : 'none';\n",
              "\n",
              "        async function convertToInteractive(key) {\n",
              "          const element = document.querySelector('#df-88f7a9d4-9fc8-4ac5-bc73-ae0e44bc903b');\n",
              "          const dataTable =\n",
              "            await google.colab.kernel.invokeFunction('convertToInteractive',\n",
              "                                                     [key], {});\n",
              "          if (!dataTable) return;\n",
              "\n",
              "          const docLinkHtml = 'Like what you see? Visit the ' +\n",
              "            '<a target=\"_blank\" href=https://colab.research.google.com/notebooks/data_table.ipynb>data table notebook</a>'\n",
              "            + ' to learn more about interactive tables.';\n",
              "          element.innerHTML = '';\n",
              "          dataTable['output_type'] = 'display_data';\n",
              "          await google.colab.output.renderOutput(dataTable, element);\n",
              "          const docLink = document.createElement('div');\n",
              "          docLink.innerHTML = docLinkHtml;\n",
              "          element.appendChild(docLink);\n",
              "        }\n",
              "      </script>\n",
              "    </div>\n",
              "  </div>\n",
              "  "
            ]
          },
          "metadata": {},
          "execution_count": 97
        }
      ],
      "source": [
        "df_stat.groupby('График работы')[['Средняя ЗП в рублях']].mean()"
      ]
    },
    {
      "cell_type": "code",
      "execution_count": 98,
      "metadata": {
        "colab": {
          "base_uri": "https://localhost:8080/",
          "height": 238
        },
        "id": "Z85RBDMZ6Tbc",
        "outputId": "bc236a7d-2485-45db-8453-8945f5a6f9bd"
      },
      "outputs": [
        {
          "output_type": "execute_result",
          "data": {
            "text/plain": [
              "                  Средняя ЗП в рублях\n",
              "График работы                        \n",
              "Вахтовый метод          101916.627119\n",
              "Гибкий график           107674.275884\n",
              "Полный день              89461.399080\n",
              "Сменный график           53713.475481\n",
              "Удаленная работа        106007.747141"
            ],
            "text/html": [
              "\n",
              "  <div id=\"df-b8398010-1f9b-42fe-b8fd-234d3ca74341\">\n",
              "    <div class=\"colab-df-container\">\n",
              "      <div>\n",
              "<style scoped>\n",
              "    .dataframe tbody tr th:only-of-type {\n",
              "        vertical-align: middle;\n",
              "    }\n",
              "\n",
              "    .dataframe tbody tr th {\n",
              "        vertical-align: top;\n",
              "    }\n",
              "\n",
              "    .dataframe thead th {\n",
              "        text-align: right;\n",
              "    }\n",
              "</style>\n",
              "<table border=\"1\" class=\"dataframe\">\n",
              "  <thead>\n",
              "    <tr style=\"text-align: right;\">\n",
              "      <th></th>\n",
              "      <th>Средняя ЗП в рублях</th>\n",
              "    </tr>\n",
              "    <tr>\n",
              "      <th>График работы</th>\n",
              "      <th></th>\n",
              "    </tr>\n",
              "  </thead>\n",
              "  <tbody>\n",
              "    <tr>\n",
              "      <th>Вахтовый метод</th>\n",
              "      <td>101916.627119</td>\n",
              "    </tr>\n",
              "    <tr>\n",
              "      <th>Гибкий график</th>\n",
              "      <td>107674.275884</td>\n",
              "    </tr>\n",
              "    <tr>\n",
              "      <th>Полный день</th>\n",
              "      <td>89461.399080</td>\n",
              "    </tr>\n",
              "    <tr>\n",
              "      <th>Сменный график</th>\n",
              "      <td>53713.475481</td>\n",
              "    </tr>\n",
              "    <tr>\n",
              "      <th>Удаленная работа</th>\n",
              "      <td>106007.747141</td>\n",
              "    </tr>\n",
              "  </tbody>\n",
              "</table>\n",
              "</div>\n",
              "      <button class=\"colab-df-convert\" onclick=\"convertToInteractive('df-b8398010-1f9b-42fe-b8fd-234d3ca74341')\"\n",
              "              title=\"Convert this dataframe to an interactive table.\"\n",
              "              style=\"display:none;\">\n",
              "        \n",
              "  <svg xmlns=\"http://www.w3.org/2000/svg\" height=\"24px\"viewBox=\"0 0 24 24\"\n",
              "       width=\"24px\">\n",
              "    <path d=\"M0 0h24v24H0V0z\" fill=\"none\"/>\n",
              "    <path d=\"M18.56 5.44l.94 2.06.94-2.06 2.06-.94-2.06-.94-.94-2.06-.94 2.06-2.06.94zm-11 1L8.5 8.5l.94-2.06 2.06-.94-2.06-.94L8.5 2.5l-.94 2.06-2.06.94zm10 10l.94 2.06.94-2.06 2.06-.94-2.06-.94-.94-2.06-.94 2.06-2.06.94z\"/><path d=\"M17.41 7.96l-1.37-1.37c-.4-.4-.92-.59-1.43-.59-.52 0-1.04.2-1.43.59L10.3 9.45l-7.72 7.72c-.78.78-.78 2.05 0 2.83L4 21.41c.39.39.9.59 1.41.59.51 0 1.02-.2 1.41-.59l7.78-7.78 2.81-2.81c.8-.78.8-2.07 0-2.86zM5.41 20L4 18.59l7.72-7.72 1.47 1.35L5.41 20z\"/>\n",
              "  </svg>\n",
              "      </button>\n",
              "      \n",
              "  <style>\n",
              "    .colab-df-container {\n",
              "      display:flex;\n",
              "      flex-wrap:wrap;\n",
              "      gap: 12px;\n",
              "    }\n",
              "\n",
              "    .colab-df-convert {\n",
              "      background-color: #E8F0FE;\n",
              "      border: none;\n",
              "      border-radius: 50%;\n",
              "      cursor: pointer;\n",
              "      display: none;\n",
              "      fill: #1967D2;\n",
              "      height: 32px;\n",
              "      padding: 0 0 0 0;\n",
              "      width: 32px;\n",
              "    }\n",
              "\n",
              "    .colab-df-convert:hover {\n",
              "      background-color: #E2EBFA;\n",
              "      box-shadow: 0px 1px 2px rgba(60, 64, 67, 0.3), 0px 1px 3px 1px rgba(60, 64, 67, 0.15);\n",
              "      fill: #174EA6;\n",
              "    }\n",
              "\n",
              "    [theme=dark] .colab-df-convert {\n",
              "      background-color: #3B4455;\n",
              "      fill: #D2E3FC;\n",
              "    }\n",
              "\n",
              "    [theme=dark] .colab-df-convert:hover {\n",
              "      background-color: #434B5C;\n",
              "      box-shadow: 0px 1px 3px 1px rgba(0, 0, 0, 0.15);\n",
              "      filter: drop-shadow(0px 1px 2px rgba(0, 0, 0, 0.3));\n",
              "      fill: #FFFFFF;\n",
              "    }\n",
              "  </style>\n",
              "\n",
              "      <script>\n",
              "        const buttonEl =\n",
              "          document.querySelector('#df-b8398010-1f9b-42fe-b8fd-234d3ca74341 button.colab-df-convert');\n",
              "        buttonEl.style.display =\n",
              "          google.colab.kernel.accessAllowed ? 'block' : 'none';\n",
              "\n",
              "        async function convertToInteractive(key) {\n",
              "          const element = document.querySelector('#df-b8398010-1f9b-42fe-b8fd-234d3ca74341');\n",
              "          const dataTable =\n",
              "            await google.colab.kernel.invokeFunction('convertToInteractive',\n",
              "                                                     [key], {});\n",
              "          if (!dataTable) return;\n",
              "\n",
              "          const docLinkHtml = 'Like what you see? Visit the ' +\n",
              "            '<a target=\"_blank\" href=https://colab.research.google.com/notebooks/data_table.ipynb>data table notebook</a>'\n",
              "            + ' to learn more about interactive tables.';\n",
              "          element.innerHTML = '';\n",
              "          dataTable['output_type'] = 'display_data';\n",
              "          await google.colab.output.renderOutput(dataTable, element);\n",
              "          const docLink = document.createElement('div');\n",
              "          docLink.innerHTML = docLinkHtml;\n",
              "          element.appendChild(docLink);\n",
              "        }\n",
              "      </script>\n",
              "    </div>\n",
              "  </div>\n",
              "  "
            ]
          },
          "metadata": {},
          "execution_count": 98
        }
      ],
      "source": [
        "df_2.groupby('График работы')[['Средняя ЗП в рублях']].mean()"
      ]
    },
    {
      "cell_type": "code",
      "execution_count": 99,
      "metadata": {
        "colab": {
          "base_uri": "https://localhost:8080/",
          "height": 456
        },
        "id": "EBMSQq4f34ST",
        "outputId": "966dc2cf-e9e7-47b3-99ca-e5fc02373e0b"
      },
      "outputs": [
        {
          "output_type": "display_data",
          "data": {
            "text/plain": [
              "<Figure size 432x432 with 1 Axes>"
            ],
            "image/png": "[encoded data removed]"
          },
          "metadata": {}
        }
      ],
      "source": [
        "f, ax = plt.subplots(figsize=(6, 6))\n",
        "fig = sns.boxplot(x='График работы', y='Средняя ЗП в рублях', data=df_2)\n",
        "plt.xticks(fontsize = 10, rotation = 45) # поворот подписи на 90 градусов\n",
        "plt.axis(ymin=0, ymax=400000)\n",
        "plt.show()"
      ]
    },
    {
      "cell_type": "code",
      "execution_count": 100,
      "metadata": {
        "colab": {
          "base_uri": "https://localhost:8080/",
          "height": 456
        },
        "id": "zaYMGQg4dIKM",
        "outputId": "cd886e66-cf4c-4761-8084-d15c841cb6b0"
      },
      "outputs": [
        {
          "output_type": "display_data",
          "data": {
            "text/plain": [
              "<Figure size 432x432 with 1 Axes>"
            ],
            "image/png": "[encoded data removed]"
          },
          "metadata": {}
        }
      ],
      "source": [
        "f, ax = plt.subplots(figsize=(6, 6))\n",
        "fig = sns.boxplot(x='График работы', y='Средняя ЗП в рублях', data=df_stat)\n",
        "plt.xticks(fontsize = 10, rotation = 45) # поворот подписи на 90 градусов\n",
        "plt.axis(ymin=0, ymax=400000)\n",
        "plt.show()"
      ]
    },
    {
      "cell_type": "code",
      "execution_count": 101,
      "metadata": {
        "colab": {
          "base_uri": "https://localhost:8080/"
        },
        "id": "4yiktQZR1xpW",
        "outputId": "b0277a8c-8075-433f-e8af-d9a9ce731408"
      },
      "outputs": [
        {
          "output_type": "execute_result",
          "data": {
            "text/plain": [
              "KruskalResult(statistic=430.6286761320107, pvalue=6.687386285750563e-92)"
            ]
          },
          "metadata": {},
          "execution_count": 101
        }
      ],
      "source": [
        "schd1=np.array(df_stat[df_stat['График работы']=='Сменный график']['Средняя ЗП в рублях'])\n",
        "schd2=np.array(df_stat[df_stat['График работы']=='Полный день']['Средняя ЗП в рублях'])\n",
        "schd3=np.array(df_stat[df_stat['График работы']=='Гибкий график']['Средняя ЗП в рублях'])\n",
        "schd4=np.array(df_stat[df_stat['График работы']=='Удаленная работа']['Средняя ЗП в рублях'])\n",
        "schd5=np.array(df_stat[df_stat['График работы']=='Вахтовый метод']['Средняя ЗП в рублях'])\n",
        "stats.mstats.kruskalwallis(schd1,schd2,schd3,schd4,schd5)"
      ]
    },
    {
      "cell_type": "code",
      "execution_count": 102,
      "metadata": {
        "colab": {
          "base_uri": "https://localhost:8080/"
        },
        "id": "eHchuh_x10U7",
        "outputId": "2feebe24-28ca-45b2-872c-5aea0267bca3"
      },
      "outputs": [
        {
          "output_type": "execute_result",
          "data": {
            "text/plain": [
              "KruskalResult(statistic=595.6461236782582, pvalue=1.3567560632707225e-127)"
            ]
          },
          "metadata": {},
          "execution_count": 102
        }
      ],
      "source": [
        "schd1=np.array(df_2[df_2['График работы']=='Сменный график']['Средняя ЗП в рублях'])\n",
        "schd2=np.array(df_2[df_2['График работы']=='Полный день']['Средняя ЗП в рублях'])\n",
        "schd3=np.array(df_2[df_2['График работы']=='Гибкий график']['Средняя ЗП в рублях'])\n",
        "schd4=np.array(df_2[df_2['График работы']=='Удаленная работа']['Средняя ЗП в рублях'])\n",
        "schd5=np.array(df_2[df_2['График работы']=='Вахтовый метод']['Средняя ЗП в рублях'])\n",
        "stats.mstats.kruskalwallis(schd1,schd2,schd3,schd4,schd5)"
      ]
    },
    {
      "cell_type": "markdown",
      "source": [
        "Гипотеза H0 об отсутствии связи между графиком работы и средней зп отвергается как по всей совокупности данных о вакансиях, так и по данным об ИТ-специалистах."
      ],
      "metadata": {
        "id": "yaWuIfWOfy0V"
      }
    },
    {
      "cell_type": "markdown",
      "metadata": {
        "id": "v3llA9GBBrOi"
      },
      "source": [
        "##6.2 Сравнение заработной платы ИТ-специалистов в зависимости от опыта работы"
      ]
    },
    {
      "cell_type": "code",
      "execution_count": 103,
      "metadata": {
        "colab": {
          "base_uri": "https://localhost:8080/",
          "height": 206
        },
        "id": "18v-UkHh5sW7",
        "outputId": "c67cf4a4-fbca-4f70-904e-091ae8fca90d"
      },
      "outputs": [
        {
          "output_type": "execute_result",
          "data": {
            "text/plain": [
              "                    Средняя ЗП в рублях\n",
              "Опыт работы                            \n",
              "Более 6 лет               179184.712212\n",
              "Нет опыта                  38927.137112\n",
              "От 1 года до 3 лет         83145.219650\n",
              "От 3 до 6 лет             142537.804615"
            ],
            "text/html": [
              "\n",
              "  <div id=\"df-755e981f-1d82-4445-a08b-87bb3feadbaf\">\n",
              "    <div class=\"colab-df-container\">\n",
              "      <div>\n",
              "<style scoped>\n",
              "    .dataframe tbody tr th:only-of-type {\n",
              "        vertical-align: middle;\n",
              "    }\n",
              "\n",
              "    .dataframe tbody tr th {\n",
              "        vertical-align: top;\n",
              "    }\n",
              "\n",
              "    .dataframe thead th {\n",
              "        text-align: right;\n",
              "    }\n",
              "</style>\n",
              "<table border=\"1\" class=\"dataframe\">\n",
              "  <thead>\n",
              "    <tr style=\"text-align: right;\">\n",
              "      <th></th>\n",
              "      <th>Средняя ЗП в рублях</th>\n",
              "    </tr>\n",
              "    <tr>\n",
              "      <th>Опыт работы</th>\n",
              "      <th></th>\n",
              "    </tr>\n",
              "  </thead>\n",
              "  <tbody>\n",
              "    <tr>\n",
              "      <th>Более 6 лет</th>\n",
              "      <td>179184.712212</td>\n",
              "    </tr>\n",
              "    <tr>\n",
              "      <th>Нет опыта</th>\n",
              "      <td>38927.137112</td>\n",
              "    </tr>\n",
              "    <tr>\n",
              "      <th>От 1 года до 3 лет</th>\n",
              "      <td>83145.219650</td>\n",
              "    </tr>\n",
              "    <tr>\n",
              "      <th>От 3 до 6 лет</th>\n",
              "      <td>142537.804615</td>\n",
              "    </tr>\n",
              "  </tbody>\n",
              "</table>\n",
              "</div>\n",
              "      <button class=\"colab-df-convert\" onclick=\"convertToInteractive('df-755e981f-1d82-4445-a08b-87bb3feadbaf')\"\n",
              "              title=\"Convert this dataframe to an interactive table.\"\n",
              "              style=\"display:none;\">\n",
              "        \n",
              "  <svg xmlns=\"http://www.w3.org/2000/svg\" height=\"24px\"viewBox=\"0 0 24 24\"\n",
              "       width=\"24px\">\n",
              "    <path d=\"M0 0h24v24H0V0z\" fill=\"none\"/>\n",
              "    <path d=\"M18.56 5.44l.94 2.06.94-2.06 2.06-.94-2.06-.94-.94-2.06-.94 2.06-2.06.94zm-11 1L8.5 8.5l.94-2.06 2.06-.94-2.06-.94L8.5 2.5l-.94 2.06-2.06.94zm10 10l.94 2.06.94-2.06 2.06-.94-2.06-.94-.94-2.06-.94 2.06-2.06.94z\"/><path d=\"M17.41 7.96l-1.37-1.37c-.4-.4-.92-.59-1.43-.59-.52 0-1.04.2-1.43.59L10.3 9.45l-7.72 7.72c-.78.78-.78 2.05 0 2.83L4 21.41c.39.39.9.59 1.41.59.51 0 1.02-.2 1.41-.59l7.78-7.78 2.81-2.81c.8-.78.8-2.07 0-2.86zM5.41 20L4 18.59l7.72-7.72 1.47 1.35L5.41 20z\"/>\n",
              "  </svg>\n",
              "      </button>\n",
              "      \n",
              "  <style>\n",
              "    .colab-df-container {\n",
              "      display:flex;\n",
              "      flex-wrap:wrap;\n",
              "      gap: 12px;\n",
              "    }\n",
              "\n",
              "    .colab-df-convert {\n",
              "      background-color: #E8F0FE;\n",
              "      border: none;\n",
              "      border-radius: 50%;\n",
              "      cursor: pointer;\n",
              "      display: none;\n",
              "      fill: #1967D2;\n",
              "      height: 32px;\n",
              "      padding: 0 0 0 0;\n",
              "      width: 32px;\n",
              "    }\n",
              "\n",
              "    .colab-df-convert:hover {\n",
              "      background-color: #E2EBFA;\n",
              "      box-shadow: 0px 1px 2px rgba(60, 64, 67, 0.3), 0px 1px 3px 1px rgba(60, 64, 67, 0.15);\n",
              "      fill: #174EA6;\n",
              "    }\n",
              "\n",
              "    [theme=dark] .colab-df-convert {\n",
              "      background-color: #3B4455;\n",
              "      fill: #D2E3FC;\n",
              "    }\n",
              "\n",
              "    [theme=dark] .colab-df-convert:hover {\n",
              "      background-color: #434B5C;\n",
              "      box-shadow: 0px 1px 3px 1px rgba(0, 0, 0, 0.15);\n",
              "      filter: drop-shadow(0px 1px 2px rgba(0, 0, 0, 0.3));\n",
              "      fill: #FFFFFF;\n",
              "    }\n",
              "  </style>\n",
              "\n",
              "      <script>\n",
              "        const buttonEl =\n",
              "          document.querySelector('#df-755e981f-1d82-4445-a08b-87bb3feadbaf button.colab-df-convert');\n",
              "        buttonEl.style.display =\n",
              "          google.colab.kernel.accessAllowed ? 'block' : 'none';\n",
              "\n",
              "        async function convertToInteractive(key) {\n",
              "          const element = document.querySelector('#df-755e981f-1d82-4445-a08b-87bb3feadbaf');\n",
              "          const dataTable =\n",
              "            await google.colab.kernel.invokeFunction('convertToInteractive',\n",
              "                                                     [key], {});\n",
              "          if (!dataTable) return;\n",
              "\n",
              "          const docLinkHtml = 'Like what you see? Visit the ' +\n",
              "            '<a target=\"_blank\" href=https://colab.research.google.com/notebooks/data_table.ipynb>data table notebook</a>'\n",
              "            + ' to learn more about interactive tables.';\n",
              "          element.innerHTML = '';\n",
              "          dataTable['output_type'] = 'display_data';\n",
              "          await google.colab.output.renderOutput(dataTable, element);\n",
              "          const docLink = document.createElement('div');\n",
              "          docLink.innerHTML = docLinkHtml;\n",
              "          element.appendChild(docLink);\n",
              "        }\n",
              "      </script>\n",
              "    </div>\n",
              "  </div>\n",
              "  "
            ]
          },
          "metadata": {},
          "execution_count": 103
        }
      ],
      "source": [
        "df_stat.groupby('Опыт работы')[['Средняя ЗП в рублях']].mean()"
      ]
    },
    {
      "cell_type": "code",
      "execution_count": 104,
      "metadata": {
        "colab": {
          "base_uri": "https://localhost:8080/",
          "height": 206
        },
        "id": "uWxnKjhd53qL",
        "outputId": "0d2b9ca2-b50a-4416-9796-2960039250a8"
      },
      "outputs": [
        {
          "output_type": "execute_result",
          "data": {
            "text/plain": [
              "                    Средняя ЗП в рублях\n",
              "Опыт работы                            \n",
              "Более 6 лет               159576.539321\n",
              "Нет опыта                  83939.741745\n",
              "От 1 года до 3 лет         78778.251490\n",
              "От 3 до 6 лет             127716.364912"
            ],
            "text/html": [
              "\n",
              "  <div id=\"df-3cdc2a59-0fcb-4e9a-ae98-3b686b88677b\">\n",
              "    <div class=\"colab-df-container\">\n",
              "      <div>\n",
              "<style scoped>\n",
              "    .dataframe tbody tr th:only-of-type {\n",
              "        vertical-align: middle;\n",
              "    }\n",
              "\n",
              "    .dataframe tbody tr th {\n",
              "        vertical-align: top;\n",
              "    }\n",
              "\n",
              "    .dataframe thead th {\n",
              "        text-align: right;\n",
              "    }\n",
              "</style>\n",
              "<table border=\"1\" class=\"dataframe\">\n",
              "  <thead>\n",
              "    <tr style=\"text-align: right;\">\n",
              "      <th></th>\n",
              "      <th>Средняя ЗП в рублях</th>\n",
              "    </tr>\n",
              "    <tr>\n",
              "      <th>Опыт работы</th>\n",
              "      <th></th>\n",
              "    </tr>\n",
              "  </thead>\n",
              "  <tbody>\n",
              "    <tr>\n",
              "      <th>Более 6 лет</th>\n",
              "      <td>159576.539321</td>\n",
              "    </tr>\n",
              "    <tr>\n",
              "      <th>Нет опыта</th>\n",
              "      <td>83939.741745</td>\n",
              "    </tr>\n",
              "    <tr>\n",
              "      <th>От 1 года до 3 лет</th>\n",
              "      <td>78778.251490</td>\n",
              "    </tr>\n",
              "    <tr>\n",
              "      <th>От 3 до 6 лет</th>\n",
              "      <td>127716.364912</td>\n",
              "    </tr>\n",
              "  </tbody>\n",
              "</table>\n",
              "</div>\n",
              "      <button class=\"colab-df-convert\" onclick=\"convertToInteractive('df-3cdc2a59-0fcb-4e9a-ae98-3b686b88677b')\"\n",
              "              title=\"Convert this dataframe to an interactive table.\"\n",
              "              style=\"display:none;\">\n",
              "        \n",
              "  <svg xmlns=\"http://www.w3.org/2000/svg\" height=\"24px\"viewBox=\"0 0 24 24\"\n",
              "       width=\"24px\">\n",
              "    <path d=\"M0 0h24v24H0V0z\" fill=\"none\"/>\n",
              "    <path d=\"M18.56 5.44l.94 2.06.94-2.06 2.06-.94-2.06-.94-.94-2.06-.94 2.06-2.06.94zm-11 1L8.5 8.5l.94-2.06 2.06-.94-2.06-.94L8.5 2.5l-.94 2.06-2.06.94zm10 10l.94 2.06.94-2.06 2.06-.94-2.06-.94-.94-2.06-.94 2.06-2.06.94z\"/><path d=\"M17.41 7.96l-1.37-1.37c-.4-.4-.92-.59-1.43-.59-.52 0-1.04.2-1.43.59L10.3 9.45l-7.72 7.72c-.78.78-.78 2.05 0 2.83L4 21.41c.39.39.9.59 1.41.59.51 0 1.02-.2 1.41-.59l7.78-7.78 2.81-2.81c.8-.78.8-2.07 0-2.86zM5.41 20L4 18.59l7.72-7.72 1.47 1.35L5.41 20z\"/>\n",
              "  </svg>\n",
              "      </button>\n",
              "      \n",
              "  <style>\n",
              "    .colab-df-container {\n",
              "      display:flex;\n",
              "      flex-wrap:wrap;\n",
              "      gap: 12px;\n",
              "    }\n",
              "\n",
              "    .colab-df-convert {\n",
              "      background-color: #E8F0FE;\n",
              "      border: none;\n",
              "      border-radius: 50%;\n",
              "      cursor: pointer;\n",
              "      display: none;\n",
              "      fill: #1967D2;\n",
              "      height: 32px;\n",
              "      padding: 0 0 0 0;\n",
              "      width: 32px;\n",
              "    }\n",
              "\n",
              "    .colab-df-convert:hover {\n",
              "      background-color: #E2EBFA;\n",
              "      box-shadow: 0px 1px 2px rgba(60, 64, 67, 0.3), 0px 1px 3px 1px rgba(60, 64, 67, 0.15);\n",
              "      fill: #174EA6;\n",
              "    }\n",
              "\n",
              "    [theme=dark] .colab-df-convert {\n",
              "      background-color: #3B4455;\n",
              "      fill: #D2E3FC;\n",
              "    }\n",
              "\n",
              "    [theme=dark] .colab-df-convert:hover {\n",
              "      background-color: #434B5C;\n",
              "      box-shadow: 0px 1px 3px 1px rgba(0, 0, 0, 0.15);\n",
              "      filter: drop-shadow(0px 1px 2px rgba(0, 0, 0, 0.3));\n",
              "      fill: #FFFFFF;\n",
              "    }\n",
              "  </style>\n",
              "\n",
              "      <script>\n",
              "        const buttonEl =\n",
              "          document.querySelector('#df-3cdc2a59-0fcb-4e9a-ae98-3b686b88677b button.colab-df-convert');\n",
              "        buttonEl.style.display =\n",
              "          google.colab.kernel.accessAllowed ? 'block' : 'none';\n",
              "\n",
              "        async function convertToInteractive(key) {\n",
              "          const element = document.querySelector('#df-3cdc2a59-0fcb-4e9a-ae98-3b686b88677b');\n",
              "          const dataTable =\n",
              "            await google.colab.kernel.invokeFunction('convertToInteractive',\n",
              "                                                     [key], {});\n",
              "          if (!dataTable) return;\n",
              "\n",
              "          const docLinkHtml = 'Like what you see? Visit the ' +\n",
              "            '<a target=\"_blank\" href=https://colab.research.google.com/notebooks/data_table.ipynb>data table notebook</a>'\n",
              "            + ' to learn more about interactive tables.';\n",
              "          element.innerHTML = '';\n",
              "          dataTable['output_type'] = 'display_data';\n",
              "          await google.colab.output.renderOutput(dataTable, element);\n",
              "          const docLink = document.createElement('div');\n",
              "          docLink.innerHTML = docLinkHtml;\n",
              "          element.appendChild(docLink);\n",
              "        }\n",
              "      </script>\n",
              "    </div>\n",
              "  </div>\n",
              "  "
            ]
          },
          "metadata": {},
          "execution_count": 104
        }
      ],
      "source": [
        "df_2.groupby('Опыт работы')[['Средняя ЗП в рублях']].mean()"
      ]
    },
    {
      "cell_type": "code",
      "execution_count": 105,
      "metadata": {
        "colab": {
          "base_uri": "https://localhost:8080/",
          "height": 455
        },
        "id": "hLHGvyQN4Prb",
        "outputId": "177fec99-84ab-48a5-9b80-baf77dc6d86f"
      },
      "outputs": [
        {
          "output_type": "display_data",
          "data": {
            "text/plain": [
              "<Figure size 432x432 with 1 Axes>"
            ],
            "image/png": "[encoded data removed]"
          },
          "metadata": {}
        }
      ],
      "source": [
        "f, ax = plt.subplots(figsize=(6, 6))\n",
        "fig = sns.boxplot(x='Опыт работы', y='Средняя ЗП в рублях', data=df_2)\n",
        "plt.xticks(fontsize = 10, rotation = 45) # поворот подписи на 90 градусов\n",
        "plt.axis(ymin=0, ymax=450000)\n",
        "plt.show()"
      ]
    },
    {
      "cell_type": "code",
      "execution_count": 106,
      "metadata": {
        "colab": {
          "base_uri": "https://localhost:8080/",
          "height": 455
        },
        "id": "SVzc9niU-ghZ",
        "outputId": "98fcf5c1-541a-4006-e15d-f3e7bcadac5c"
      },
      "outputs": [
        {
          "output_type": "display_data",
          "data": {
            "text/plain": [
              "<Figure size 432x432 with 1 Axes>"
            ],
            "image/png": "[encoded data removed]"
          },
          "metadata": {}
        }
      ],
      "source": [
        "f, ax = plt.subplots(figsize=(6, 6))\n",
        "fig = sns.boxplot(x='Опыт работы', y='Средняя ЗП в рублях', data=df_stat)\n",
        "plt.xticks(fontsize = 10, rotation = 45) # поворот подписи на 90 градусов\n",
        "plt.axis(ymin=0, ymax=450000)\n",
        "plt.show()"
      ]
    },
    {
      "cell_type": "code",
      "execution_count": 107,
      "metadata": {
        "colab": {
          "base_uri": "https://localhost:8080/"
        },
        "id": "903ocLtsd-u8",
        "outputId": "efbeef35-3b28-4320-93e0-ef11dc008049"
      },
      "outputs": [
        {
          "output_type": "execute_result",
          "data": {
            "text/plain": [
              "KruskalResult(statistic=4304.691029281081, pvalue=0.0)"
            ]
          },
          "metadata": {},
          "execution_count": 107
        }
      ],
      "source": [
        "dfd1=np.array(df_2[df_2['Опыт работы']=='От 1 года до 3 лет']['Средняя ЗП в рублях'])\n",
        "dfd2=np.array(df_2[df_2['Опыт работы']=='Нет опыта']['Средняя ЗП в рублях'])\n",
        "dfd3=np.array(df_2[df_2['Опыт работы']=='От 3 до 6 лет']['Средняя ЗП в рублях'])\n",
        "dfd4=np.array(df_2[df_2['Опыт работы']=='Более 6 лет']['Средняя ЗП в рублях'])\n",
        "stats.mstats.kruskalwallis(dfd1,dfd2,dfd3,dfd4)"
      ]
    },
    {
      "cell_type": "code",
      "execution_count": 108,
      "metadata": {
        "colab": {
          "base_uri": "https://localhost:8080/"
        },
        "id": "iWVOsiK0e_g0",
        "outputId": "d4bdaf4a-df41-4adb-d69b-a6abaa077a27"
      },
      "outputs": [
        {
          "output_type": "execute_result",
          "data": {
            "text/plain": [
              "KruskalResult(statistic=7883.599928917098, pvalue=0.0)"
            ]
          },
          "metadata": {},
          "execution_count": 108
        }
      ],
      "source": [
        "dfd1=np.array(df_stat[df_stat['Опыт работы']=='От 1 года до 3 лет']['Средняя ЗП в рублях'])\n",
        "dfd2=np.array(df_stat[df_stat['Опыт работы']=='Нет опыта']['Средняя ЗП в рублях'])\n",
        "dfd3=np.array(df_stat[df_stat['Опыт работы']=='От 3 до 6 лет']['Средняя ЗП в рублях'])\n",
        "dfd4=np.array(df_stat[df_stat['Опыт работы']=='Более 6 лет']['Средняя ЗП в рублях'])\n",
        "stats.mstats.kruskalwallis(dfd1,dfd2,dfd3,dfd4)"
      ]
    },
    {
      "cell_type": "markdown",
      "source": [
        "Гипотеза H0 об отсутствии связи между опытом работы и средней зп отвергается как по всей совокупности данных о вакансиях, так и по данным об ИТ-специалистах."
      ],
      "metadata": {
        "id": "NfjOqhWCgVR1"
      }
    },
    {
      "cell_type": "markdown",
      "metadata": {
        "id": "zK7jy9Fi3l5L"
      },
      "source": [
        "##6.3 Сравнение заработной платы ИТ-специалистов в зависимости от федерального округа, в котором предлагается работа"
      ]
    },
    {
      "cell_type": "code",
      "execution_count": 109,
      "metadata": {
        "colab": {
          "base_uri": "https://localhost:8080/",
          "height": 332
        },
        "id": "yrIdZLdp6Cd0",
        "outputId": "c2aac1b9-678d-4514-d42f-0bc9c738d366"
      },
      "outputs": [
        {
          "output_type": "execute_result",
          "data": {
            "text/plain": [
              "                                     Средняя ЗП в рублях\n",
              "Федеральный округ                                       \n",
              "Дальневосточный федеральный округ           62689.468663\n",
              "Приволжский федеральный округ               76434.853036\n",
              "Северо-Западный федеральный округ          107279.379686\n",
              "Северо-Кавказский федеральный округ         48945.206522\n",
              "Сибирский федеральный округ                 85424.970407\n",
              "Уральский федеральный округ                 81020.561554\n",
              "Центральный федеральный округ              110874.052712\n",
              "Южный федеральный округ                     76018.931423"
            ],
            "text/html": [
              "\n",
              "  <div id=\"df-593c1e38-be55-47fe-b319-e3e0ab20434a\">\n",
              "    <div class=\"colab-df-container\">\n",
              "      <div>\n",
              "<style scoped>\n",
              "    .dataframe tbody tr th:only-of-type {\n",
              "        vertical-align: middle;\n",
              "    }\n",
              "\n",
              "    .dataframe tbody tr th {\n",
              "        vertical-align: top;\n",
              "    }\n",
              "\n",
              "    .dataframe thead th {\n",
              "        text-align: right;\n",
              "    }\n",
              "</style>\n",
              "<table border=\"1\" class=\"dataframe\">\n",
              "  <thead>\n",
              "    <tr style=\"text-align: right;\">\n",
              "      <th></th>\n",
              "      <th>Средняя ЗП в рублях</th>\n",
              "    </tr>\n",
              "    <tr>\n",
              "      <th>Федеральный округ</th>\n",
              "      <th></th>\n",
              "    </tr>\n",
              "  </thead>\n",
              "  <tbody>\n",
              "    <tr>\n",
              "      <th>Дальневосточный федеральный округ</th>\n",
              "      <td>62689.468663</td>\n",
              "    </tr>\n",
              "    <tr>\n",
              "      <th>Приволжский федеральный округ</th>\n",
              "      <td>76434.853036</td>\n",
              "    </tr>\n",
              "    <tr>\n",
              "      <th>Северо-Западный федеральный округ</th>\n",
              "      <td>107279.379686</td>\n",
              "    </tr>\n",
              "    <tr>\n",
              "      <th>Северо-Кавказский федеральный округ</th>\n",
              "      <td>48945.206522</td>\n",
              "    </tr>\n",
              "    <tr>\n",
              "      <th>Сибирский федеральный округ</th>\n",
              "      <td>85424.970407</td>\n",
              "    </tr>\n",
              "    <tr>\n",
              "      <th>Уральский федеральный округ</th>\n",
              "      <td>81020.561554</td>\n",
              "    </tr>\n",
              "    <tr>\n",
              "      <th>Центральный федеральный округ</th>\n",
              "      <td>110874.052712</td>\n",
              "    </tr>\n",
              "    <tr>\n",
              "      <th>Южный федеральный округ</th>\n",
              "      <td>76018.931423</td>\n",
              "    </tr>\n",
              "  </tbody>\n",
              "</table>\n",
              "</div>\n",
              "      <button class=\"colab-df-convert\" onclick=\"convertToInteractive('df-593c1e38-be55-47fe-b319-e3e0ab20434a')\"\n",
              "              title=\"Convert this dataframe to an interactive table.\"\n",
              "              style=\"display:none;\">\n",
              "        \n",
              "  <svg xmlns=\"http://www.w3.org/2000/svg\" height=\"24px\"viewBox=\"0 0 24 24\"\n",
              "       width=\"24px\">\n",
              "    <path d=\"M0 0h24v24H0V0z\" fill=\"none\"/>\n",
              "    <path d=\"M18.56 5.44l.94 2.06.94-2.06 2.06-.94-2.06-.94-.94-2.06-.94 2.06-2.06.94zm-11 1L8.5 8.5l.94-2.06 2.06-.94-2.06-.94L8.5 2.5l-.94 2.06-2.06.94zm10 10l.94 2.06.94-2.06 2.06-.94-2.06-.94-.94-2.06-.94 2.06-2.06.94z\"/><path d=\"M17.41 7.96l-1.37-1.37c-.4-.4-.92-.59-1.43-.59-.52 0-1.04.2-1.43.59L10.3 9.45l-7.72 7.72c-.78.78-.78 2.05 0 2.83L4 21.41c.39.39.9.59 1.41.59.51 0 1.02-.2 1.41-.59l7.78-7.78 2.81-2.81c.8-.78.8-2.07 0-2.86zM5.41 20L4 18.59l7.72-7.72 1.47 1.35L5.41 20z\"/>\n",
              "  </svg>\n",
              "      </button>\n",
              "      \n",
              "  <style>\n",
              "    .colab-df-container {\n",
              "      display:flex;\n",
              "      flex-wrap:wrap;\n",
              "      gap: 12px;\n",
              "    }\n",
              "\n",
              "    .colab-df-convert {\n",
              "      background-color: #E8F0FE;\n",
              "      border: none;\n",
              "      border-radius: 50%;\n",
              "      cursor: pointer;\n",
              "      display: none;\n",
              "      fill: #1967D2;\n",
              "      height: 32px;\n",
              "      padding: 0 0 0 0;\n",
              "      width: 32px;\n",
              "    }\n",
              "\n",
              "    .colab-df-convert:hover {\n",
              "      background-color: #E2EBFA;\n",
              "      box-shadow: 0px 1px 2px rgba(60, 64, 67, 0.3), 0px 1px 3px 1px rgba(60, 64, 67, 0.15);\n",
              "      fill: #174EA6;\n",
              "    }\n",
              "\n",
              "    [theme=dark] .colab-df-convert {\n",
              "      background-color: #3B4455;\n",
              "      fill: #D2E3FC;\n",
              "    }\n",
              "\n",
              "    [theme=dark] .colab-df-convert:hover {\n",
              "      background-color: #434B5C;\n",
              "      box-shadow: 0px 1px 3px 1px rgba(0, 0, 0, 0.15);\n",
              "      filter: drop-shadow(0px 1px 2px rgba(0, 0, 0, 0.3));\n",
              "      fill: #FFFFFF;\n",
              "    }\n",
              "  </style>\n",
              "\n",
              "      <script>\n",
              "        const buttonEl =\n",
              "          document.querySelector('#df-593c1e38-be55-47fe-b319-e3e0ab20434a button.colab-df-convert');\n",
              "        buttonEl.style.display =\n",
              "          google.colab.kernel.accessAllowed ? 'block' : 'none';\n",
              "\n",
              "        async function convertToInteractive(key) {\n",
              "          const element = document.querySelector('#df-593c1e38-be55-47fe-b319-e3e0ab20434a');\n",
              "          const dataTable =\n",
              "            await google.colab.kernel.invokeFunction('convertToInteractive',\n",
              "                                                     [key], {});\n",
              "          if (!dataTable) return;\n",
              "\n",
              "          const docLinkHtml = 'Like what you see? Visit the ' +\n",
              "            '<a target=\"_blank\" href=https://colab.research.google.com/notebooks/data_table.ipynb>data table notebook</a>'\n",
              "            + ' to learn more about interactive tables.';\n",
              "          element.innerHTML = '';\n",
              "          dataTable['output_type'] = 'display_data';\n",
              "          await google.colab.output.renderOutput(dataTable, element);\n",
              "          const docLink = document.createElement('div');\n",
              "          docLink.innerHTML = docLinkHtml;\n",
              "          element.appendChild(docLink);\n",
              "        }\n",
              "      </script>\n",
              "    </div>\n",
              "  </div>\n",
              "  "
            ]
          },
          "metadata": {},
          "execution_count": 109
        }
      ],
      "source": [
        "df_stat.groupby('Федеральный округ')[['Средняя ЗП в рублях']].mean()"
      ]
    },
    {
      "cell_type": "code",
      "execution_count": 110,
      "metadata": {
        "colab": {
          "base_uri": "https://localhost:8080/",
          "height": 332
        },
        "id": "JmOJiSAC6EZ8",
        "outputId": "4d59e40d-9a6c-489b-a28e-5f6847fe4fa2"
      },
      "outputs": [
        {
          "output_type": "execute_result",
          "data": {
            "text/plain": [
              "                                     Средняя ЗП в рублях\n",
              "Федеральный округ                                       \n",
              "Дальневосточный федеральный округ           65418.824864\n",
              "Приволжский федеральный округ               70804.847126\n",
              "Северо-Западный федеральный округ           97784.142238\n",
              "Северо-Кавказский федеральный округ         49613.910417\n",
              "Сибирский федеральный округ                 75639.512797\n",
              "Уральский федеральный округ                 74872.735384\n",
              "Центральный федеральный округ              103094.692455\n",
              "Южный федеральный округ                    125966.385290"
            ],
            "text/html": [
              "\n",
              "  <div id=\"df-cc283953-57f3-47e6-a50e-ddefb9847206\">\n",
              "    <div class=\"colab-df-container\">\n",
              "      <div>\n",
              "<style scoped>\n",
              "    .dataframe tbody tr th:only-of-type {\n",
              "        vertical-align: middle;\n",
              "    }\n",
              "\n",
              "    .dataframe tbody tr th {\n",
              "        vertical-align: top;\n",
              "    }\n",
              "\n",
              "    .dataframe thead th {\n",
              "        text-align: right;\n",
              "    }\n",
              "</style>\n",
              "<table border=\"1\" class=\"dataframe\">\n",
              "  <thead>\n",
              "    <tr style=\"text-align: right;\">\n",
              "      <th></th>\n",
              "      <th>Средняя ЗП в рублях</th>\n",
              "    </tr>\n",
              "    <tr>\n",
              "      <th>Федеральный округ</th>\n",
              "      <th></th>\n",
              "    </tr>\n",
              "  </thead>\n",
              "  <tbody>\n",
              "    <tr>\n",
              "      <th>Дальневосточный федеральный округ</th>\n",
              "      <td>65418.824864</td>\n",
              "    </tr>\n",
              "    <tr>\n",
              "      <th>Приволжский федеральный округ</th>\n",
              "      <td>70804.847126</td>\n",
              "    </tr>\n",
              "    <tr>\n",
              "      <th>Северо-Западный федеральный округ</th>\n",
              "      <td>97784.142238</td>\n",
              "    </tr>\n",
              "    <tr>\n",
              "      <th>Северо-Кавказский федеральный округ</th>\n",
              "      <td>49613.910417</td>\n",
              "    </tr>\n",
              "    <tr>\n",
              "      <th>Сибирский федеральный округ</th>\n",
              "      <td>75639.512797</td>\n",
              "    </tr>\n",
              "    <tr>\n",
              "      <th>Уральский федеральный округ</th>\n",
              "      <td>74872.735384</td>\n",
              "    </tr>\n",
              "    <tr>\n",
              "      <th>Центральный федеральный округ</th>\n",
              "      <td>103094.692455</td>\n",
              "    </tr>\n",
              "    <tr>\n",
              "      <th>Южный федеральный округ</th>\n",
              "      <td>125966.385290</td>\n",
              "    </tr>\n",
              "  </tbody>\n",
              "</table>\n",
              "</div>\n",
              "      <button class=\"colab-df-convert\" onclick=\"convertToInteractive('df-cc283953-57f3-47e6-a50e-ddefb9847206')\"\n",
              "              title=\"Convert this dataframe to an interactive table.\"\n",
              "              style=\"display:none;\">\n",
              "        \n",
              "  <svg xmlns=\"http://www.w3.org/2000/svg\" height=\"24px\"viewBox=\"0 0 24 24\"\n",
              "       width=\"24px\">\n",
              "    <path d=\"M0 0h24v24H0V0z\" fill=\"none\"/>\n",
              "    <path d=\"M18.56 5.44l.94 2.06.94-2.06 2.06-.94-2.06-.94-.94-2.06-.94 2.06-2.06.94zm-11 1L8.5 8.5l.94-2.06 2.06-.94-2.06-.94L8.5 2.5l-.94 2.06-2.06.94zm10 10l.94 2.06.94-2.06 2.06-.94-2.06-.94-.94-2.06-.94 2.06-2.06.94z\"/><path d=\"M17.41 7.96l-1.37-1.37c-.4-.4-.92-.59-1.43-.59-.52 0-1.04.2-1.43.59L10.3 9.45l-7.72 7.72c-.78.78-.78 2.05 0 2.83L4 21.41c.39.39.9.59 1.41.59.51 0 1.02-.2 1.41-.59l7.78-7.78 2.81-2.81c.8-.78.8-2.07 0-2.86zM5.41 20L4 18.59l7.72-7.72 1.47 1.35L5.41 20z\"/>\n",
              "  </svg>\n",
              "      </button>\n",
              "      \n",
              "  <style>\n",
              "    .colab-df-container {\n",
              "      display:flex;\n",
              "      flex-wrap:wrap;\n",
              "      gap: 12px;\n",
              "    }\n",
              "\n",
              "    .colab-df-convert {\n",
              "      background-color: #E8F0FE;\n",
              "      border: none;\n",
              "      border-radius: 50%;\n",
              "      cursor: pointer;\n",
              "      display: none;\n",
              "      fill: #1967D2;\n",
              "      height: 32px;\n",
              "      padding: 0 0 0 0;\n",
              "      width: 32px;\n",
              "    }\n",
              "\n",
              "    .colab-df-convert:hover {\n",
              "      background-color: #E2EBFA;\n",
              "      box-shadow: 0px 1px 2px rgba(60, 64, 67, 0.3), 0px 1px 3px 1px rgba(60, 64, 67, 0.15);\n",
              "      fill: #174EA6;\n",
              "    }\n",
              "\n",
              "    [theme=dark] .colab-df-convert {\n",
              "      background-color: #3B4455;\n",
              "      fill: #D2E3FC;\n",
              "    }\n",
              "\n",
              "    [theme=dark] .colab-df-convert:hover {\n",
              "      background-color: #434B5C;\n",
              "      box-shadow: 0px 1px 3px 1px rgba(0, 0, 0, 0.15);\n",
              "      filter: drop-shadow(0px 1px 2px rgba(0, 0, 0, 0.3));\n",
              "      fill: #FFFFFF;\n",
              "    }\n",
              "  </style>\n",
              "\n",
              "      <script>\n",
              "        const buttonEl =\n",
              "          document.querySelector('#df-cc283953-57f3-47e6-a50e-ddefb9847206 button.colab-df-convert');\n",
              "        buttonEl.style.display =\n",
              "          google.colab.kernel.accessAllowed ? 'block' : 'none';\n",
              "\n",
              "        async function convertToInteractive(key) {\n",
              "          const element = document.querySelector('#df-cc283953-57f3-47e6-a50e-ddefb9847206');\n",
              "          const dataTable =\n",
              "            await google.colab.kernel.invokeFunction('convertToInteractive',\n",
              "                                                     [key], {});\n",
              "          if (!dataTable) return;\n",
              "\n",
              "          const docLinkHtml = 'Like what you see? Visit the ' +\n",
              "            '<a target=\"_blank\" href=https://colab.research.google.com/notebooks/data_table.ipynb>data table notebook</a>'\n",
              "            + ' to learn more about interactive tables.';\n",
              "          element.innerHTML = '';\n",
              "          dataTable['output_type'] = 'display_data';\n",
              "          await google.colab.output.renderOutput(dataTable, element);\n",
              "          const docLink = document.createElement('div');\n",
              "          docLink.innerHTML = docLinkHtml;\n",
              "          element.appendChild(docLink);\n",
              "        }\n",
              "      </script>\n",
              "    </div>\n",
              "  </div>\n",
              "  "
            ]
          },
          "metadata": {},
          "execution_count": 110
        }
      ],
      "source": [
        "df_2.groupby('Федеральный округ')[['Средняя ЗП в рублях']].mean()"
      ]
    },
    {
      "cell_type": "code",
      "execution_count": 111,
      "metadata": {
        "colab": {
          "base_uri": "https://localhost:8080/",
          "height": 526
        },
        "id": "c1dS5mHu3w17",
        "outputId": "2475634c-8323-494f-cddb-eb2c6f09c54b"
      },
      "outputs": [
        {
          "output_type": "display_data",
          "data": {
            "text/plain": [
              "<Figure size 432x432 with 1 Axes>"
            ],
            "image/png": "[encoded data removed]"
          },
          "metadata": {}
        }
      ],
      "source": [
        "f, ax = plt.subplots(figsize=(6, 6))\n",
        "fig = sns.boxplot(x='Федеральный округ', y='Средняя ЗП в рублях', data=df_stat)\n",
        "plt.xticks(fontsize = 10, rotation = 45) # поворот подписи на 90 градусов\n",
        "plt.axis(ymin=0, ymax=450000)\n",
        "plt.show()"
      ]
    },
    {
      "cell_type": "code",
      "execution_count": 112,
      "metadata": {
        "colab": {
          "base_uri": "https://localhost:8080/"
        },
        "id": "n9O9ZGpre48M",
        "outputId": "642a161b-5041-44d6-d2b0-5ae463049551"
      },
      "outputs": [
        {
          "output_type": "execute_result",
          "data": {
            "text/plain": [
              "KruskalResult(statistic=1942.1589627645276, pvalue=0.0)"
            ]
          },
          "metadata": {},
          "execution_count": 112
        }
      ],
      "source": [
        "dfd1=np.array(df_2[df_2['Федеральный округ']=='Южный федеральный округ']['Средняя ЗП в рублях'])\n",
        "dfd2=np.array(df_2[df_2['Федеральный округ']=='Дальневосточный федеральный округ']['Средняя ЗП в рублях'])\n",
        "dfd3=np.array(df_2[df_2['Федеральный округ']=='Центральный федеральный округ']['Средняя ЗП в рублях'])\n",
        "dfd4=np.array(df_2[df_2['Федеральный округ']=='Приволжский федеральный округ']['Средняя ЗП в рублях'])\n",
        "dfd5=np.array(df_2[df_2['Федеральный округ']=='Сибирский федеральный округ']['Средняя ЗП в рублях'])\n",
        "dfd6=np.array(df_2[df_2['Федеральный округ']=='Северо-кавказский федеральный округ']['Средняя ЗП в рублях'])\n",
        "dfd7=np.array(df_2[df_2['Федеральный округ']=='Северо-Западный федеральный округ']['Средняя ЗП в рублях'])\n",
        "dfd8=np.array(df_2[df_2['Федеральный округ']=='Уральский федеральный округ']['Средняя ЗП в рублях'])\n",
        "stats.mstats.kruskalwallis(dfd1,dfd2,dfd3,dfd4,dfd5,dfd6,dfd7,dfd8)"
      ]
    },
    {
      "cell_type": "code",
      "execution_count": 113,
      "metadata": {
        "colab": {
          "base_uri": "https://localhost:8080/"
        },
        "id": "Q5Vmm9eBe8Dr",
        "outputId": "43fb0504-9025-47a3-d30a-ace26bfb29df"
      },
      "outputs": [
        {
          "output_type": "execute_result",
          "data": {
            "text/plain": [
              "KruskalResult(statistic=1458.8880173019093, pvalue=6.980472684574e-311)"
            ]
          },
          "metadata": {},
          "execution_count": 113
        }
      ],
      "source": [
        "dfd1=np.array(df_stat[df_stat['Федеральный округ']=='Южный федеральный округ']['Средняя ЗП в рублях'])\n",
        "dfd2=np.array(df_stat[df_stat['Федеральный округ']=='Дальневосточный федеральный округ']['Средняя ЗП в рублях'])\n",
        "dfd3=np.array(df_stat[df_stat['Федеральный округ']=='Центральный федеральный округ']['Средняя ЗП в рублях'])\n",
        "dfd4=np.array(df_stat[df_stat['Федеральный округ']=='Приволжский федеральный округ']['Средняя ЗП в рублях'])\n",
        "dfd5=np.array(df_stat[df_stat['Федеральный округ']=='Сибирский федеральный округ']['Средняя ЗП в рублях'])\n",
        "dfd6=np.array(df_stat[df_stat['Федеральный округ']=='Северо-кавказский федеральный округ']['Средняя ЗП в рублях'])\n",
        "dfd7=np.array(df_stat[df_stat['Федеральный округ']=='Северо-Западный федеральный округ']['Средняя ЗП в рублях'])\n",
        "dfd8=np.array(df_stat[df_stat['Федеральный округ']=='Уральский федеральный округ']['Средняя ЗП в рублях'])\n",
        "stats.mstats.kruskalwallis(dfd1,dfd2,dfd3,dfd4,dfd5,dfd6,dfd7,dfd8)"
      ]
    },
    {
      "cell_type": "markdown",
      "source": [
        "Гипотеза H0 об отсутствии связи между федеральным округом, в котором предлагается работа, и средней зп отвергается как по всей совокупности данных о вакансиях, так и по данным об ИТ-специалистах."
      ],
      "metadata": {
        "id": "yYw3pR4-gczU"
      }
    },
    {
      "cell_type": "markdown",
      "source": [
        "#**7. Проверка гипотез**"
      ],
      "metadata": {
        "id": "juCfzlL4lDVQ"
      }
    },
    {
      "cell_type": "markdown",
      "source": [
        "Н0: Опыт работы не влияет на заработную плату специалиста\\\n",
        "Н1: Опыт работы влияет на размер заработной платы специалиста"
      ],
      "metadata": {
        "id": "8InLtcaolKNF"
      }
    },
    {
      "cell_type": "code",
      "source": [
        "clear_exp = df_stat['Опыт работы'].replace({'Нет опыта': 0, 'От 1 года до 3 лет': 1, 'От 3 до 6 лет': 1, 'Более 6 лет':1})"
      ],
      "metadata": {
        "id": "TVB-fKfXliC3"
      },
      "execution_count": 114,
      "outputs": []
    },
    {
      "cell_type": "code",
      "source": [
        "df_stat['Чистый опыт'] = clear_exp"
      ],
      "metadata": {
        "id": "kYEgD5Wvlj7O"
      },
      "execution_count": 115,
      "outputs": []
    },
    {
      "cell_type": "code",
      "source": [
        "f, ax = plt.subplots(figsize=(6, 6))\n",
        "fig = sns.boxplot(x='Чистый опыт', y='Средняя ЗП в рублях', data=df_stat)\n",
        "plt.xticks(fontsize = 10, rotation = 90) # поворот подписи на 90 градусов\n",
        "plt.axis(ymin=0, ymax=290000)\n",
        "plt.show()"
      ],
      "metadata": {
        "colab": {
          "base_uri": "https://localhost:8080/",
          "height": 389
        },
        "id": "l9T_KcGulvVX",
        "outputId": "e9369070-893a-4fad-c35a-a0e3eff96526"
      },
      "execution_count": 116,
      "outputs": [
        {
          "output_type": "display_data",
          "data": {
            "text/plain": [
              "<Figure size 432x432 with 1 Axes>"
            ],
            "image/png": "[encoded data removed]"
          },
          "metadata": {}
        }
      ]
    },
    {
      "cell_type": "code",
      "source": [
        "fl_0 = df_stat[df_stat['Чистый опыт']==0]\n",
        "fl_1 = df_stat[df_stat['Чистый опыт']==1]\n",
        "scipy.stats.mannwhitneyu(fl_0['Средняя ЗП в рублях'],fl_1['Средняя ЗП в рублях'])"
      ],
      "metadata": {
        "colab": {
          "base_uri": "https://localhost:8080/"
        },
        "id": "GCHwgEPQJ-3L",
        "outputId": "aed35f6d-2e45-4a7b-adec-249de2dc11d7"
      },
      "execution_count": 134,
      "outputs": [
        {
          "output_type": "execute_result",
          "data": {
            "text/plain": [
              "MannwhitneyuResult(statistic=11109926.0, pvalue=0.0)"
            ]
          },
          "metadata": {},
          "execution_count": 134
        }
      ]
    },
    {
      "cell_type": "markdown",
      "source": [
        "Таким образом, Н0 откланяется, т.е. между показателями существует связь, т.е. опыт работы влияет на размер заработной платы специалиста."
      ],
      "metadata": {
        "id": "tFsK1QIQnZ_n"
      }
    },
    {
      "cell_type": "markdown",
      "metadata": {
        "id": "J5grT5Za8Bor"
      },
      "source": [
        "#**8. Регрессионная модель**"
      ]
    },
    {
      "cell_type": "code",
      "execution_count": 118,
      "metadata": {
        "id": "-oP8xrHFpYw4"
      },
      "outputs": [],
      "source": [
        "df_regr = df_stat[['Чистый опыт','Средняя ЗП в рублях','Федеральный округ', 'Количество скиллов']]"
      ]
    },
    {
      "cell_type": "code",
      "execution_count": 119,
      "metadata": {
        "id": "MpAxjt1SpBtH"
      },
      "outputs": [],
      "source": [
        "# ранжируем федеральные округа в соответствии со средней заработной платой\n",
        "\n",
        "cleanup_nums = {'Федеральный округ':\n",
        "      {'Южный федеральный округ': 3, \n",
        "       'Дальневосточный федеральный округ':2,\n",
        "       'Центральный федеральный округ':8, \n",
        "       'Приволжский федеральный округ':4,\n",
        "       'Сибирский федеральный округ':6,\n",
        "       'Северо-Кавказский федеральный округ':1,\n",
        "       'Северо-Западный федеральный округ':7, 'Уральский федеральный округ':5}}"
      ]
    },
    {
      "cell_type": "code",
      "execution_count": 120,
      "metadata": {
        "id": "1dyy3rQepFeg"
      },
      "outputs": [],
      "source": [
        "df_regr = df_regr.replace(cleanup_nums)"
      ]
    },
    {
      "cell_type": "code",
      "execution_count": 121,
      "metadata": {
        "colab": {
          "base_uri": "https://localhost:8080/",
          "height": 175
        },
        "id": "L16B_vdI0Oxy",
        "outputId": "f3dd33db-184d-4d55-cfdc-a6e5d2fffca2"
      },
      "outputs": [
        {
          "output_type": "execute_result",
          "data": {
            "text/plain": [
              "                     Чистый опыт  Средняя ЗП в рублях  Федеральный округ  \\\n",
              "Чистый опыт             1.000000             0.352175           0.136031   \n",
              "Средняя ЗП в рублях     0.352175             1.000000           0.223105   \n",
              "Федеральный округ       0.136031             0.223105           1.000000   \n",
              "Количество скиллов      0.178040             0.132629           0.070763   \n",
              "\n",
              "                     Количество скиллов  \n",
              "Чистый опыт                    0.178040  \n",
              "Средняя ЗП в рублях            0.132629  \n",
              "Федеральный округ              0.070763  \n",
              "Количество скиллов             1.000000  "
            ],
            "text/html": [
              "\n",
              "  <div id=\"df-d1505ed3-de69-4e46-8008-132ae5493804\">\n",
              "    <div class=\"colab-df-container\">\n",
              "      <div>\n",
              "<style scoped>\n",
              "    .dataframe tbody tr th:only-of-type {\n",
              "        vertical-align: middle;\n",
              "    }\n",
              "\n",
              "    .dataframe tbody tr th {\n",
              "        vertical-align: top;\n",
              "    }\n",
              "\n",
              "    .dataframe thead th {\n",
              "        text-align: right;\n",
              "    }\n",
              "</style>\n",
              "<table border=\"1\" class=\"dataframe\">\n",
              "  <thead>\n",
              "    <tr style=\"text-align: right;\">\n",
              "      <th></th>\n",
              "      <th>Чистый опыт</th>\n",
              "      <th>Средняя ЗП в рублях</th>\n",
              "      <th>Федеральный округ</th>\n",
              "      <th>Количество скиллов</th>\n",
              "    </tr>\n",
              "  </thead>\n",
              "  <tbody>\n",
              "    <tr>\n",
              "      <th>Чистый опыт</th>\n",
              "      <td>1.000000</td>\n",
              "      <td>0.352175</td>\n",
              "      <td>0.136031</td>\n",
              "      <td>0.178040</td>\n",
              "    </tr>\n",
              "    <tr>\n",
              "      <th>Средняя ЗП в рублях</th>\n",
              "      <td>0.352175</td>\n",
              "      <td>1.000000</td>\n",
              "      <td>0.223105</td>\n",
              "      <td>0.132629</td>\n",
              "    </tr>\n",
              "    <tr>\n",
              "      <th>Федеральный округ</th>\n",
              "      <td>0.136031</td>\n",
              "      <td>0.223105</td>\n",
              "      <td>1.000000</td>\n",
              "      <td>0.070763</td>\n",
              "    </tr>\n",
              "    <tr>\n",
              "      <th>Количество скиллов</th>\n",
              "      <td>0.178040</td>\n",
              "      <td>0.132629</td>\n",
              "      <td>0.070763</td>\n",
              "      <td>1.000000</td>\n",
              "    </tr>\n",
              "  </tbody>\n",
              "</table>\n",
              "</div>\n",
              "      <button class=\"colab-df-convert\" onclick=\"convertToInteractive('df-d1505ed3-de69-4e46-8008-132ae5493804')\"\n",
              "              title=\"Convert this dataframe to an interactive table.\"\n",
              "              style=\"display:none;\">\n",
              "        \n",
              "  <svg xmlns=\"http://www.w3.org/2000/svg\" height=\"24px\"viewBox=\"0 0 24 24\"\n",
              "       width=\"24px\">\n",
              "    <path d=\"M0 0h24v24H0V0z\" fill=\"none\"/>\n",
              "    <path d=\"M18.56 5.44l.94 2.06.94-2.06 2.06-.94-2.06-.94-.94-2.06-.94 2.06-2.06.94zm-11 1L8.5 8.5l.94-2.06 2.06-.94-2.06-.94L8.5 2.5l-.94 2.06-2.06.94zm10 10l.94 2.06.94-2.06 2.06-.94-2.06-.94-.94-2.06-.94 2.06-2.06.94z\"/><path d=\"M17.41 7.96l-1.37-1.37c-.4-.4-.92-.59-1.43-.59-.52 0-1.04.2-1.43.59L10.3 9.45l-7.72 7.72c-.78.78-.78 2.05 0 2.83L4 21.41c.39.39.9.59 1.41.59.51 0 1.02-.2 1.41-.59l7.78-7.78 2.81-2.81c.8-.78.8-2.07 0-2.86zM5.41 20L4 18.59l7.72-7.72 1.47 1.35L5.41 20z\"/>\n",
              "  </svg>\n",
              "      </button>\n",
              "      \n",
              "  <style>\n",
              "    .colab-df-container {\n",
              "      display:flex;\n",
              "      flex-wrap:wrap;\n",
              "      gap: 12px;\n",
              "    }\n",
              "\n",
              "    .colab-df-convert {\n",
              "      background-color: #E8F0FE;\n",
              "      border: none;\n",
              "      border-radius: 50%;\n",
              "      cursor: pointer;\n",
              "      display: none;\n",
              "      fill: #1967D2;\n",
              "      height: 32px;\n",
              "      padding: 0 0 0 0;\n",
              "      width: 32px;\n",
              "    }\n",
              "\n",
              "    .colab-df-convert:hover {\n",
              "      background-color: #E2EBFA;\n",
              "      box-shadow: 0px 1px 2px rgba(60, 64, 67, 0.3), 0px 1px 3px 1px rgba(60, 64, 67, 0.15);\n",
              "      fill: #174EA6;\n",
              "    }\n",
              "\n",
              "    [theme=dark] .colab-df-convert {\n",
              "      background-color: #3B4455;\n",
              "      fill: #D2E3FC;\n",
              "    }\n",
              "\n",
              "    [theme=dark] .colab-df-convert:hover {\n",
              "      background-color: #434B5C;\n",
              "      box-shadow: 0px 1px 3px 1px rgba(0, 0, 0, 0.15);\n",
              "      filter: drop-shadow(0px 1px 2px rgba(0, 0, 0, 0.3));\n",
              "      fill: #FFFFFF;\n",
              "    }\n",
              "  </style>\n",
              "\n",
              "      <script>\n",
              "        const buttonEl =\n",
              "          document.querySelector('#df-d1505ed3-de69-4e46-8008-132ae5493804 button.colab-df-convert');\n",
              "        buttonEl.style.display =\n",
              "          google.colab.kernel.accessAllowed ? 'block' : 'none';\n",
              "\n",
              "        async function convertToInteractive(key) {\n",
              "          const element = document.querySelector('#df-d1505ed3-de69-4e46-8008-132ae5493804');\n",
              "          const dataTable =\n",
              "            await google.colab.kernel.invokeFunction('convertToInteractive',\n",
              "                                                     [key], {});\n",
              "          if (!dataTable) return;\n",
              "\n",
              "          const docLinkHtml = 'Like what you see? Visit the ' +\n",
              "            '<a target=\"_blank\" href=https://colab.research.google.com/notebooks/data_table.ipynb>data table notebook</a>'\n",
              "            + ' to learn more about interactive tables.';\n",
              "          element.innerHTML = '';\n",
              "          dataTable['output_type'] = 'display_data';\n",
              "          await google.colab.output.renderOutput(dataTable, element);\n",
              "          const docLink = document.createElement('div');\n",
              "          docLink.innerHTML = docLinkHtml;\n",
              "          element.appendChild(docLink);\n",
              "        }\n",
              "      </script>\n",
              "    </div>\n",
              "  </div>\n",
              "  "
            ]
          },
          "metadata": {},
          "execution_count": 121
        }
      ],
      "source": [
        "df_regr.corr(method='pearson')"
      ]
    },
    {
      "cell_type": "code",
      "execution_count": 122,
      "metadata": {
        "colab": {
          "base_uri": "https://localhost:8080/",
          "height": 175
        },
        "id": "g0A_5CgD0Bdq",
        "outputId": "400f59b7-a246-4473-a31c-bc663e242de4"
      },
      "outputs": [
        {
          "output_type": "execute_result",
          "data": {
            "text/plain": [
              "                     Чистый опыт  Средняя ЗП в рублях  Федеральный округ  \\\n",
              "Чистый опыт             1.000000             0.397512           0.113993   \n",
              "Средняя ЗП в рублях     0.397512             1.000000           0.190545   \n",
              "Федеральный округ       0.113993             0.190545           1.000000   \n",
              "Количество скиллов      0.169602             0.141104           0.053980   \n",
              "\n",
              "                     Количество скиллов  \n",
              "Чистый опыт                    0.169602  \n",
              "Средняя ЗП в рублях            0.141104  \n",
              "Федеральный округ              0.053980  \n",
              "Количество скиллов             1.000000  "
            ],
            "text/html": [
              "\n",
              "  <div id=\"df-8a0c4321-a789-43ff-adbe-f3649038c2e2\">\n",
              "    <div class=\"colab-df-container\">\n",
              "      <div>\n",
              "<style scoped>\n",
              "    .dataframe tbody tr th:only-of-type {\n",
              "        vertical-align: middle;\n",
              "    }\n",
              "\n",
              "    .dataframe tbody tr th {\n",
              "        vertical-align: top;\n",
              "    }\n",
              "\n",
              "    .dataframe thead th {\n",
              "        text-align: right;\n",
              "    }\n",
              "</style>\n",
              "<table border=\"1\" class=\"dataframe\">\n",
              "  <thead>\n",
              "    <tr style=\"text-align: right;\">\n",
              "      <th></th>\n",
              "      <th>Чистый опыт</th>\n",
              "      <th>Средняя ЗП в рублях</th>\n",
              "      <th>Федеральный округ</th>\n",
              "      <th>Количество скиллов</th>\n",
              "    </tr>\n",
              "  </thead>\n",
              "  <tbody>\n",
              "    <tr>\n",
              "      <th>Чистый опыт</th>\n",
              "      <td>1.000000</td>\n",
              "      <td>0.397512</td>\n",
              "      <td>0.113993</td>\n",
              "      <td>0.169602</td>\n",
              "    </tr>\n",
              "    <tr>\n",
              "      <th>Средняя ЗП в рублях</th>\n",
              "      <td>0.397512</td>\n",
              "      <td>1.000000</td>\n",
              "      <td>0.190545</td>\n",
              "      <td>0.141104</td>\n",
              "    </tr>\n",
              "    <tr>\n",
              "      <th>Федеральный округ</th>\n",
              "      <td>0.113993</td>\n",
              "      <td>0.190545</td>\n",
              "      <td>1.000000</td>\n",
              "      <td>0.053980</td>\n",
              "    </tr>\n",
              "    <tr>\n",
              "      <th>Количество скиллов</th>\n",
              "      <td>0.169602</td>\n",
              "      <td>0.141104</td>\n",
              "      <td>0.053980</td>\n",
              "      <td>1.000000</td>\n",
              "    </tr>\n",
              "  </tbody>\n",
              "</table>\n",
              "</div>\n",
              "      <button class=\"colab-df-convert\" onclick=\"convertToInteractive('df-8a0c4321-a789-43ff-adbe-f3649038c2e2')\"\n",
              "              title=\"Convert this dataframe to an interactive table.\"\n",
              "              style=\"display:none;\">\n",
              "        \n",
              "  <svg xmlns=\"http://www.w3.org/2000/svg\" height=\"24px\"viewBox=\"0 0 24 24\"\n",
              "       width=\"24px\">\n",
              "    <path d=\"M0 0h24v24H0V0z\" fill=\"none\"/>\n",
              "    <path d=\"M18.56 5.44l.94 2.06.94-2.06 2.06-.94-2.06-.94-.94-2.06-.94 2.06-2.06.94zm-11 1L8.5 8.5l.94-2.06 2.06-.94-2.06-.94L8.5 2.5l-.94 2.06-2.06.94zm10 10l.94 2.06.94-2.06 2.06-.94-2.06-.94-.94-2.06-.94 2.06-2.06.94z\"/><path d=\"M17.41 7.96l-1.37-1.37c-.4-.4-.92-.59-1.43-.59-.52 0-1.04.2-1.43.59L10.3 9.45l-7.72 7.72c-.78.78-.78 2.05 0 2.83L4 21.41c.39.39.9.59 1.41.59.51 0 1.02-.2 1.41-.59l7.78-7.78 2.81-2.81c.8-.78.8-2.07 0-2.86zM5.41 20L4 18.59l7.72-7.72 1.47 1.35L5.41 20z\"/>\n",
              "  </svg>\n",
              "      </button>\n",
              "      \n",
              "  <style>\n",
              "    .colab-df-container {\n",
              "      display:flex;\n",
              "      flex-wrap:wrap;\n",
              "      gap: 12px;\n",
              "    }\n",
              "\n",
              "    .colab-df-convert {\n",
              "      background-color: #E8F0FE;\n",
              "      border: none;\n",
              "      border-radius: 50%;\n",
              "      cursor: pointer;\n",
              "      display: none;\n",
              "      fill: #1967D2;\n",
              "      height: 32px;\n",
              "      padding: 0 0 0 0;\n",
              "      width: 32px;\n",
              "    }\n",
              "\n",
              "    .colab-df-convert:hover {\n",
              "      background-color: #E2EBFA;\n",
              "      box-shadow: 0px 1px 2px rgba(60, 64, 67, 0.3), 0px 1px 3px 1px rgba(60, 64, 67, 0.15);\n",
              "      fill: #174EA6;\n",
              "    }\n",
              "\n",
              "    [theme=dark] .colab-df-convert {\n",
              "      background-color: #3B4455;\n",
              "      fill: #D2E3FC;\n",
              "    }\n",
              "\n",
              "    [theme=dark] .colab-df-convert:hover {\n",
              "      background-color: #434B5C;\n",
              "      box-shadow: 0px 1px 3px 1px rgba(0, 0, 0, 0.15);\n",
              "      filter: drop-shadow(0px 1px 2px rgba(0, 0, 0, 0.3));\n",
              "      fill: #FFFFFF;\n",
              "    }\n",
              "  </style>\n",
              "\n",
              "      <script>\n",
              "        const buttonEl =\n",
              "          document.querySelector('#df-8a0c4321-a789-43ff-adbe-f3649038c2e2 button.colab-df-convert');\n",
              "        buttonEl.style.display =\n",
              "          google.colab.kernel.accessAllowed ? 'block' : 'none';\n",
              "\n",
              "        async function convertToInteractive(key) {\n",
              "          const element = document.querySelector('#df-8a0c4321-a789-43ff-adbe-f3649038c2e2');\n",
              "          const dataTable =\n",
              "            await google.colab.kernel.invokeFunction('convertToInteractive',\n",
              "                                                     [key], {});\n",
              "          if (!dataTable) return;\n",
              "\n",
              "          const docLinkHtml = 'Like what you see? Visit the ' +\n",
              "            '<a target=\"_blank\" href=https://colab.research.google.com/notebooks/data_table.ipynb>data table notebook</a>'\n",
              "            + ' to learn more about interactive tables.';\n",
              "          element.innerHTML = '';\n",
              "          dataTable['output_type'] = 'display_data';\n",
              "          await google.colab.output.renderOutput(dataTable, element);\n",
              "          const docLink = document.createElement('div');\n",
              "          docLink.innerHTML = docLinkHtml;\n",
              "          element.appendChild(docLink);\n",
              "        }\n",
              "      </script>\n",
              "    </div>\n",
              "  </div>\n",
              "  "
            ]
          },
          "metadata": {},
          "execution_count": 122
        }
      ],
      "source": [
        "df_regr.corr(method='kendall')"
      ]
    },
    {
      "cell_type": "code",
      "execution_count": 123,
      "metadata": {
        "colab": {
          "base_uri": "https://localhost:8080/"
        },
        "id": "CVf7o-gtqtKg",
        "outputId": "11259f15-c933-4d7a-8903-b44abfe991dc"
      },
      "outputs": [
        {
          "output_type": "stream",
          "name": "stderr",
          "text": [
            "<ipython-input-123-e43e66d09243>:1: FutureWarning: In a future version of pandas all arguments of concat except for the argument 'objs' will be keyword-only\n",
            "  df_regr_1 = pd.concat((df_regr,pd.get_dummies(df_regr['Федеральный округ'], prefix=\"d\", prefix_sep='',)),1)\n"
          ]
        }
      ],
      "source": [
        "df_regr_1 = pd.concat((df_regr,pd.get_dummies(df_regr['Федеральный округ'], prefix=\"d\", prefix_sep='',)),1)"
      ]
    },
    {
      "cell_type": "code",
      "execution_count": 124,
      "metadata": {
        "colab": {
          "base_uri": "https://localhost:8080/",
          "height": 361
        },
        "id": "tQ73Jv4Mq4_Q",
        "outputId": "e64f4b65-6c84-4ac9-9445-741d25017f5b"
      },
      "outputs": [
        {
          "output_type": "execute_result",
          "data": {
            "text/plain": [
              "       Чистый опыт  Средняя ЗП в рублях  Федеральный округ  \\\n",
              "1                1              32625.0                  3   \n",
              "3                0              22620.0                  3   \n",
              "4                0              20000.0                  3   \n",
              "5                0              17500.0                  3   \n",
              "...            ...                  ...                ...   \n",
              "69649            1             250000.0                  8   \n",
              "69652            1             130000.0                  8   \n",
              "69653            1              50000.0                  8   \n",
              "69654            1              85000.0                  8   \n",
              "\n",
              "       Количество скиллов  d1  d2  d3  d4  d5  d6  d7  d8  \n",
              "1                       5   0   0   1   0   0   0   0   0  \n",
              "3                       5   0   0   1   0   0   0   0   0  \n",
              "4                       8   0   0   1   0   0   0   0   0  \n",
              "5                       0   0   0   1   0   0   0   0   0  \n",
              "...                   ...  ..  ..  ..  ..  ..  ..  ..  ..  \n",
              "69649                   5   0   0   0   0   0   0   0   1  \n",
              "69652                   5   0   0   0   0   0   0   0   1  \n",
              "69653                   7   0   0   0   0   0   0   0   1  \n",
              "69654                   0   0   0   0   0   0   0   0   1  \n",
              "\n",
              "[22646 rows x 12 columns]"
            ],
            "text/html": [
              "\n",
              "  <div id=\"df-6cab914f-db78-4205-beac-4570d94e8d15\">\n",
              "    <div class=\"colab-df-container\">\n",
              "      <div>\n",
              "<style scoped>\n",
              "    .dataframe tbody tr th:only-of-type {\n",
              "        vertical-align: middle;\n",
              "    }\n",
              "\n",
              "    .dataframe tbody tr th {\n",
              "        vertical-align: top;\n",
              "    }\n",
              "\n",
              "    .dataframe thead th {\n",
              "        text-align: right;\n",
              "    }\n",
              "</style>\n",
              "<table border=\"1\" class=\"dataframe\">\n",
              "  <thead>\n",
              "    <tr style=\"text-align: right;\">\n",
              "      <th></th>\n",
              "      <th>Чистый опыт</th>\n",
              "      <th>Средняя ЗП в рублях</th>\n",
              "      <th>Федеральный округ</th>\n",
              "      <th>Количество скиллов</th>\n",
              "      <th>d1</th>\n",
              "      <th>d2</th>\n",
              "      <th>d3</th>\n",
              "      <th>d4</th>\n",
              "      <th>d5</th>\n",
              "      <th>d6</th>\n",
              "      <th>d7</th>\n",
              "      <th>d8</th>\n",
              "    </tr>\n",
              "  </thead>\n",
              "  <tbody>\n",
              "    <tr>\n",
              "      <th>1</th>\n",
              "      <td>1</td>\n",
              "      <td>32625.0</td>\n",
              "      <td>3</td>\n",
              "      <td>5</td>\n",
              "      <td>0</td>\n",
              "      <td>0</td>\n",
              "      <td>1</td>\n",
              "      <td>0</td>\n",
              "      <td>0</td>\n",
              "      <td>0</td>\n",
              "      <td>0</td>\n",
              "      <td>0</td>\n",
              "    </tr>\n",
              "    <tr>\n",
              "      <th>3</th>\n",
              "      <td>0</td>\n",
              "      <td>22620.0</td>\n",
              "      <td>3</td>\n",
              "      <td>5</td>\n",
              "      <td>0</td>\n",
              "      <td>0</td>\n",
              "      <td>1</td>\n",
              "      <td>0</td>\n",
              "      <td>0</td>\n",
              "      <td>0</td>\n",
              "      <td>0</td>\n",
              "      <td>0</td>\n",
              "    </tr>\n",
              "    <tr>\n",
              "      <th>4</th>\n",
              "      <td>0</td>\n",
              "      <td>20000.0</td>\n",
              "      <td>3</td>\n",
              "      <td>8</td>\n",
              "      <td>0</td>\n",
              "      <td>0</td>\n",
              "      <td>1</td>\n",
              "      <td>0</td>\n",
              "      <td>0</td>\n",
              "      <td>0</td>\n",
              "      <td>0</td>\n",
              "      <td>0</td>\n",
              "    </tr>\n",
              "    <tr>\n",
              "      <th>5</th>\n",
              "      <td>0</td>\n",
              "      <td>17500.0</td>\n",
              "      <td>3</td>\n",
              "      <td>0</td>\n",
              "      <td>0</td>\n",
              "      <td>0</td>\n",
              "      <td>1</td>\n",
              "      <td>0</td>\n",
              "      <td>0</td>\n",
              "      <td>0</td>\n",
              "      <td>0</td>\n",
              "      <td>0</td>\n",
              "    </tr>\n",
              "    <tr>\n",
              "      <th>...</th>\n",
              "      <td>...</td>\n",
              "      <td>...</td>\n",
              "      <td>...</td>\n",
              "      <td>...</td>\n",
              "      <td>...</td>\n",
              "      <td>...</td>\n",
              "      <td>...</td>\n",
              "      <td>...</td>\n",
              "      <td>...</td>\n",
              "      <td>...</td>\n",
              "      <td>...</td>\n",
              "      <td>...</td>\n",
              "    </tr>\n",
              "    <tr>\n",
              "      <th>69649</th>\n",
              "      <td>1</td>\n",
              "      <td>250000.0</td>\n",
              "      <td>8</td>\n",
              "      <td>5</td>\n",
              "      <td>0</td>\n",
              "      <td>0</td>\n",
              "      <td>0</td>\n",
              "      <td>0</td>\n",
              "      <td>0</td>\n",
              "      <td>0</td>\n",
              "      <td>0</td>\n",
              "      <td>1</td>\n",
              "    </tr>\n",
              "    <tr>\n",
              "      <th>69652</th>\n",
              "      <td>1</td>\n",
              "      <td>130000.0</td>\n",
              "      <td>8</td>\n",
              "      <td>5</td>\n",
              "      <td>0</td>\n",
              "      <td>0</td>\n",
              "      <td>0</td>\n",
              "      <td>0</td>\n",
              "      <td>0</td>\n",
              "      <td>0</td>\n",
              "      <td>0</td>\n",
              "      <td>1</td>\n",
              "    </tr>\n",
              "    <tr>\n",
              "      <th>69653</th>\n",
              "      <td>1</td>\n",
              "      <td>50000.0</td>\n",
              "      <td>8</td>\n",
              "      <td>7</td>\n",
              "      <td>0</td>\n",
              "      <td>0</td>\n",
              "      <td>0</td>\n",
              "      <td>0</td>\n",
              "      <td>0</td>\n",
              "      <td>0</td>\n",
              "      <td>0</td>\n",
              "      <td>1</td>\n",
              "    </tr>\n",
              "    <tr>\n",
              "      <th>69654</th>\n",
              "      <td>1</td>\n",
              "      <td>85000.0</td>\n",
              "      <td>8</td>\n",
              "      <td>0</td>\n",
              "      <td>0</td>\n",
              "      <td>0</td>\n",
              "      <td>0</td>\n",
              "      <td>0</td>\n",
              "      <td>0</td>\n",
              "      <td>0</td>\n",
              "      <td>0</td>\n",
              "      <td>1</td>\n",
              "    </tr>\n",
              "  </tbody>\n",
              "</table>\n",
              "<p>22646 rows × 12 columns</p>\n",
              "</div>\n",
              "      <button class=\"colab-df-convert\" onclick=\"convertToInteractive('df-6cab914f-db78-4205-beac-4570d94e8d15')\"\n",
              "              title=\"Convert this dataframe to an interactive table.\"\n",
              "              style=\"display:none;\">\n",
              "        \n",
              "  <svg xmlns=\"http://www.w3.org/2000/svg\" height=\"24px\"viewBox=\"0 0 24 24\"\n",
              "       width=\"24px\">\n",
              "    <path d=\"M0 0h24v24H0V0z\" fill=\"none\"/>\n",
              "    <path d=\"M18.56 5.44l.94 2.06.94-2.06 2.06-.94-2.06-.94-.94-2.06-.94 2.06-2.06.94zm-11 1L8.5 8.5l.94-2.06 2.06-.94-2.06-.94L8.5 2.5l-.94 2.06-2.06.94zm10 10l.94 2.06.94-2.06 2.06-.94-2.06-.94-.94-2.06-.94 2.06-2.06.94z\"/><path d=\"M17.41 7.96l-1.37-1.37c-.4-.4-.92-.59-1.43-.59-.52 0-1.04.2-1.43.59L10.3 9.45l-7.72 7.72c-.78.78-.78 2.05 0 2.83L4 21.41c.39.39.9.59 1.41.59.51 0 1.02-.2 1.41-.59l7.78-7.78 2.81-2.81c.8-.78.8-2.07 0-2.86zM5.41 20L4 18.59l7.72-7.72 1.47 1.35L5.41 20z\"/>\n",
              "  </svg>\n",
              "      </button>\n",
              "      \n",
              "  <style>\n",
              "    .colab-df-container {\n",
              "      display:flex;\n",
              "      flex-wrap:wrap;\n",
              "      gap: 12px;\n",
              "    }\n",
              "\n",
              "    .colab-df-convert {\n",
              "      background-color: #E8F0FE;\n",
              "      border: none;\n",
              "      border-radius: 50%;\n",
              "      cursor: pointer;\n",
              "      display: none;\n",
              "      fill: #1967D2;\n",
              "      height: 32px;\n",
              "      padding: 0 0 0 0;\n",
              "      width: 32px;\n",
              "    }\n",
              "\n",
              "    .colab-df-convert:hover {\n",
              "      background-color: #E2EBFA;\n",
              "      box-shadow: 0px 1px 2px rgba(60, 64, 67, 0.3), 0px 1px 3px 1px rgba(60, 64, 67, 0.15);\n",
              "      fill: #174EA6;\n",
              "    }\n",
              "\n",
              "    [theme=dark] .colab-df-convert {\n",
              "      background-color: #3B4455;\n",
              "      fill: #D2E3FC;\n",
              "    }\n",
              "\n",
              "    [theme=dark] .colab-df-convert:hover {\n",
              "      background-color: #434B5C;\n",
              "      box-shadow: 0px 1px 3px 1px rgba(0, 0, 0, 0.15);\n",
              "      filter: drop-shadow(0px 1px 2px rgba(0, 0, 0, 0.3));\n",
              "      fill: #FFFFFF;\n",
              "    }\n",
              "  </style>\n",
              "\n",
              "      <script>\n",
              "        const buttonEl =\n",
              "          document.querySelector('#df-6cab914f-db78-4205-beac-4570d94e8d15 button.colab-df-convert');\n",
              "        buttonEl.style.display =\n",
              "          google.colab.kernel.accessAllowed ? 'block' : 'none';\n",
              "\n",
              "        async function convertToInteractive(key) {\n",
              "          const element = document.querySelector('#df-6cab914f-db78-4205-beac-4570d94e8d15');\n",
              "          const dataTable =\n",
              "            await google.colab.kernel.invokeFunction('convertToInteractive',\n",
              "                                                     [key], {});\n",
              "          if (!dataTable) return;\n",
              "\n",
              "          const docLinkHtml = 'Like what you see? Visit the ' +\n",
              "            '<a target=\"_blank\" href=https://colab.research.google.com/notebooks/data_table.ipynb>data table notebook</a>'\n",
              "            + ' to learn more about interactive tables.';\n",
              "          element.innerHTML = '';\n",
              "          dataTable['output_type'] = 'display_data';\n",
              "          await google.colab.output.renderOutput(dataTable, element);\n",
              "          const docLink = document.createElement('div');\n",
              "          docLink.innerHTML = docLinkHtml;\n",
              "          element.appendChild(docLink);\n",
              "        }\n",
              "      </script>\n",
              "    </div>\n",
              "  </div>\n",
              "  "
            ]
          },
          "metadata": {},
          "execution_count": 124
        }
      ],
      "source": [
        "df_regr_1"
      ]
    },
    {
      "cell_type": "code",
      "execution_count": 125,
      "metadata": {
        "id": "bx4ocvvArgiB"
      },
      "outputs": [],
      "source": [
        "df_regr_2 = df_regr_1.rename(columns = {'Средняя ЗП в рублях':'AvgSal','Чистый опыт':'EXP','Федеральный округ':'FO', 'Количество скиллов':'Qskills'}) "
      ]
    },
    {
      "cell_type": "code",
      "execution_count": 126,
      "metadata": {
        "colab": {
          "base_uri": "https://localhost:8080/",
          "height": 175
        },
        "id": "7ZPcK0UDvudx",
        "outputId": "43c7a8cd-3269-4b7b-aa8a-717b36d34165"
      },
      "outputs": [
        {
          "output_type": "execute_result",
          "data": {
            "text/plain": [
              "           AvgSal       EXP        FO   Qskills\n",
              "AvgSal   1.000000  0.483681  0.258672  0.196920\n",
              "EXP      0.483681  1.000000  0.128327  0.195680\n",
              "FO       0.258672  0.128327  1.000000  0.069689\n",
              "Qskills  0.196920  0.195680  0.069689  1.000000"
            ],
            "text/html": [
              "\n",
              "  <div id=\"df-fdfc91d5-757c-4589-90e7-a77aadbbbfdc\">\n",
              "    <div class=\"colab-df-container\">\n",
              "      <div>\n",
              "<style scoped>\n",
              "    .dataframe tbody tr th:only-of-type {\n",
              "        vertical-align: middle;\n",
              "    }\n",
              "\n",
              "    .dataframe tbody tr th {\n",
              "        vertical-align: top;\n",
              "    }\n",
              "\n",
              "    .dataframe thead th {\n",
              "        text-align: right;\n",
              "    }\n",
              "</style>\n",
              "<table border=\"1\" class=\"dataframe\">\n",
              "  <thead>\n",
              "    <tr style=\"text-align: right;\">\n",
              "      <th></th>\n",
              "      <th>AvgSal</th>\n",
              "      <th>EXP</th>\n",
              "      <th>FO</th>\n",
              "      <th>Qskills</th>\n",
              "    </tr>\n",
              "  </thead>\n",
              "  <tbody>\n",
              "    <tr>\n",
              "      <th>AvgSal</th>\n",
              "      <td>1.000000</td>\n",
              "      <td>0.483681</td>\n",
              "      <td>0.258672</td>\n",
              "      <td>0.196920</td>\n",
              "    </tr>\n",
              "    <tr>\n",
              "      <th>EXP</th>\n",
              "      <td>0.483681</td>\n",
              "      <td>1.000000</td>\n",
              "      <td>0.128327</td>\n",
              "      <td>0.195680</td>\n",
              "    </tr>\n",
              "    <tr>\n",
              "      <th>FO</th>\n",
              "      <td>0.258672</td>\n",
              "      <td>0.128327</td>\n",
              "      <td>1.000000</td>\n",
              "      <td>0.069689</td>\n",
              "    </tr>\n",
              "    <tr>\n",
              "      <th>Qskills</th>\n",
              "      <td>0.196920</td>\n",
              "      <td>0.195680</td>\n",
              "      <td>0.069689</td>\n",
              "      <td>1.000000</td>\n",
              "    </tr>\n",
              "  </tbody>\n",
              "</table>\n",
              "</div>\n",
              "      <button class=\"colab-df-convert\" onclick=\"convertToInteractive('df-fdfc91d5-757c-4589-90e7-a77aadbbbfdc')\"\n",
              "              title=\"Convert this dataframe to an interactive table.\"\n",
              "              style=\"display:none;\">\n",
              "        \n",
              "  <svg xmlns=\"http://www.w3.org/2000/svg\" height=\"24px\"viewBox=\"0 0 24 24\"\n",
              "       width=\"24px\">\n",
              "    <path d=\"M0 0h24v24H0V0z\" fill=\"none\"/>\n",
              "    <path d=\"M18.56 5.44l.94 2.06.94-2.06 2.06-.94-2.06-.94-.94-2.06-.94 2.06-2.06.94zm-11 1L8.5 8.5l.94-2.06 2.06-.94-2.06-.94L8.5 2.5l-.94 2.06-2.06.94zm10 10l.94 2.06.94-2.06 2.06-.94-2.06-.94-.94-2.06-.94 2.06-2.06.94z\"/><path d=\"M17.41 7.96l-1.37-1.37c-.4-.4-.92-.59-1.43-.59-.52 0-1.04.2-1.43.59L10.3 9.45l-7.72 7.72c-.78.78-.78 2.05 0 2.83L4 21.41c.39.39.9.59 1.41.59.51 0 1.02-.2 1.41-.59l7.78-7.78 2.81-2.81c.8-.78.8-2.07 0-2.86zM5.41 20L4 18.59l7.72-7.72 1.47 1.35L5.41 20z\"/>\n",
              "  </svg>\n",
              "      </button>\n",
              "      \n",
              "  <style>\n",
              "    .colab-df-container {\n",
              "      display:flex;\n",
              "      flex-wrap:wrap;\n",
              "      gap: 12px;\n",
              "    }\n",
              "\n",
              "    .colab-df-convert {\n",
              "      background-color: #E8F0FE;\n",
              "      border: none;\n",
              "      border-radius: 50%;\n",
              "      cursor: pointer;\n",
              "      display: none;\n",
              "      fill: #1967D2;\n",
              "      height: 32px;\n",
              "      padding: 0 0 0 0;\n",
              "      width: 32px;\n",
              "    }\n",
              "\n",
              "    .colab-df-convert:hover {\n",
              "      background-color: #E2EBFA;\n",
              "      box-shadow: 0px 1px 2px rgba(60, 64, 67, 0.3), 0px 1px 3px 1px rgba(60, 64, 67, 0.15);\n",
              "      fill: #174EA6;\n",
              "    }\n",
              "\n",
              "    [theme=dark] .colab-df-convert {\n",
              "      background-color: #3B4455;\n",
              "      fill: #D2E3FC;\n",
              "    }\n",
              "\n",
              "    [theme=dark] .colab-df-convert:hover {\n",
              "      background-color: #434B5C;\n",
              "      box-shadow: 0px 1px 3px 1px rgba(0, 0, 0, 0.15);\n",
              "      filter: drop-shadow(0px 1px 2px rgba(0, 0, 0, 0.3));\n",
              "      fill: #FFFFFF;\n",
              "    }\n",
              "  </style>\n",
              "\n",
              "      <script>\n",
              "        const buttonEl =\n",
              "          document.querySelector('#df-fdfc91d5-757c-4589-90e7-a77aadbbbfdc button.colab-df-convert');\n",
              "        buttonEl.style.display =\n",
              "          google.colab.kernel.accessAllowed ? 'block' : 'none';\n",
              "\n",
              "        async function convertToInteractive(key) {\n",
              "          const element = document.querySelector('#df-fdfc91d5-757c-4589-90e7-a77aadbbbfdc');\n",
              "          const dataTable =\n",
              "            await google.colab.kernel.invokeFunction('convertToInteractive',\n",
              "                                                     [key], {});\n",
              "          if (!dataTable) return;\n",
              "\n",
              "          const docLinkHtml = 'Like what you see? Visit the ' +\n",
              "            '<a target=\"_blank\" href=https://colab.research.google.com/notebooks/data_table.ipynb>data table notebook</a>'\n",
              "            + ' to learn more about interactive tables.';\n",
              "          element.innerHTML = '';\n",
              "          dataTable['output_type'] = 'display_data';\n",
              "          await google.colab.output.renderOutput(dataTable, element);\n",
              "          const docLink = document.createElement('div');\n",
              "          docLink.innerHTML = docLinkHtml;\n",
              "          element.appendChild(docLink);\n",
              "        }\n",
              "      </script>\n",
              "    </div>\n",
              "  </div>\n",
              "  "
            ]
          },
          "metadata": {},
          "execution_count": 126
        }
      ],
      "source": [
        "df_regr_2[['AvgSal','EXP','FO','Qskills']].corr(method='spearman')"
      ]
    },
    {
      "cell_type": "code",
      "execution_count": 127,
      "metadata": {
        "colab": {
          "base_uri": "https://localhost:8080/",
          "height": 112
        },
        "id": "cWtbAMyJwCOh",
        "outputId": "52f3e39f-26b5-45e9-8cdd-5aa081f4aa94"
      },
      "outputs": [
        {
          "output_type": "execute_result",
          "data": {
            "text/plain": [
              "          AvgSal        FO\n",
              "AvgSal  1.000000  0.258672\n",
              "FO      0.258672  1.000000"
            ],
            "text/html": [
              "\n",
              "  <div id=\"df-0459a865-b610-4c7d-a101-8a5fbd4616b0\">\n",
              "    <div class=\"colab-df-container\">\n",
              "      <div>\n",
              "<style scoped>\n",
              "    .dataframe tbody tr th:only-of-type {\n",
              "        vertical-align: middle;\n",
              "    }\n",
              "\n",
              "    .dataframe tbody tr th {\n",
              "        vertical-align: top;\n",
              "    }\n",
              "\n",
              "    .dataframe thead th {\n",
              "        text-align: right;\n",
              "    }\n",
              "</style>\n",
              "<table border=\"1\" class=\"dataframe\">\n",
              "  <thead>\n",
              "    <tr style=\"text-align: right;\">\n",
              "      <th></th>\n",
              "      <th>AvgSal</th>\n",
              "      <th>FO</th>\n",
              "    </tr>\n",
              "  </thead>\n",
              "  <tbody>\n",
              "    <tr>\n",
              "      <th>AvgSal</th>\n",
              "      <td>1.000000</td>\n",
              "      <td>0.258672</td>\n",
              "    </tr>\n",
              "    <tr>\n",
              "      <th>FO</th>\n",
              "      <td>0.258672</td>\n",
              "      <td>1.000000</td>\n",
              "    </tr>\n",
              "  </tbody>\n",
              "</table>\n",
              "</div>\n",
              "      <button class=\"colab-df-convert\" onclick=\"convertToInteractive('df-0459a865-b610-4c7d-a101-8a5fbd4616b0')\"\n",
              "              title=\"Convert this dataframe to an interactive table.\"\n",
              "              style=\"display:none;\">\n",
              "        \n",
              "  <svg xmlns=\"http://www.w3.org/2000/svg\" height=\"24px\"viewBox=\"0 0 24 24\"\n",
              "       width=\"24px\">\n",
              "    <path d=\"M0 0h24v24H0V0z\" fill=\"none\"/>\n",
              "    <path d=\"M18.56 5.44l.94 2.06.94-2.06 2.06-.94-2.06-.94-.94-2.06-.94 2.06-2.06.94zm-11 1L8.5 8.5l.94-2.06 2.06-.94-2.06-.94L8.5 2.5l-.94 2.06-2.06.94zm10 10l.94 2.06.94-2.06 2.06-.94-2.06-.94-.94-2.06-.94 2.06-2.06.94z\"/><path d=\"M17.41 7.96l-1.37-1.37c-.4-.4-.92-.59-1.43-.59-.52 0-1.04.2-1.43.59L10.3 9.45l-7.72 7.72c-.78.78-.78 2.05 0 2.83L4 21.41c.39.39.9.59 1.41.59.51 0 1.02-.2 1.41-.59l7.78-7.78 2.81-2.81c.8-.78.8-2.07 0-2.86zM5.41 20L4 18.59l7.72-7.72 1.47 1.35L5.41 20z\"/>\n",
              "  </svg>\n",
              "      </button>\n",
              "      \n",
              "  <style>\n",
              "    .colab-df-container {\n",
              "      display:flex;\n",
              "      flex-wrap:wrap;\n",
              "      gap: 12px;\n",
              "    }\n",
              "\n",
              "    .colab-df-convert {\n",
              "      background-color: #E8F0FE;\n",
              "      border: none;\n",
              "      border-radius: 50%;\n",
              "      cursor: pointer;\n",
              "      display: none;\n",
              "      fill: #1967D2;\n",
              "      height: 32px;\n",
              "      padding: 0 0 0 0;\n",
              "      width: 32px;\n",
              "    }\n",
              "\n",
              "    .colab-df-convert:hover {\n",
              "      background-color: #E2EBFA;\n",
              "      box-shadow: 0px 1px 2px rgba(60, 64, 67, 0.3), 0px 1px 3px 1px rgba(60, 64, 67, 0.15);\n",
              "      fill: #174EA6;\n",
              "    }\n",
              "\n",
              "    [theme=dark] .colab-df-convert {\n",
              "      background-color: #3B4455;\n",
              "      fill: #D2E3FC;\n",
              "    }\n",
              "\n",
              "    [theme=dark] .colab-df-convert:hover {\n",
              "      background-color: #434B5C;\n",
              "      box-shadow: 0px 1px 3px 1px rgba(0, 0, 0, 0.15);\n",
              "      filter: drop-shadow(0px 1px 2px rgba(0, 0, 0, 0.3));\n",
              "      fill: #FFFFFF;\n",
              "    }\n",
              "  </style>\n",
              "\n",
              "      <script>\n",
              "        const buttonEl =\n",
              "          document.querySelector('#df-0459a865-b610-4c7d-a101-8a5fbd4616b0 button.colab-df-convert');\n",
              "        buttonEl.style.display =\n",
              "          google.colab.kernel.accessAllowed ? 'block' : 'none';\n",
              "\n",
              "        async function convertToInteractive(key) {\n",
              "          const element = document.querySelector('#df-0459a865-b610-4c7d-a101-8a5fbd4616b0');\n",
              "          const dataTable =\n",
              "            await google.colab.kernel.invokeFunction('convertToInteractive',\n",
              "                                                     [key], {});\n",
              "          if (!dataTable) return;\n",
              "\n",
              "          const docLinkHtml = 'Like what you see? Visit the ' +\n",
              "            '<a target=\"_blank\" href=https://colab.research.google.com/notebooks/data_table.ipynb>data table notebook</a>'\n",
              "            + ' to learn more about interactive tables.';\n",
              "          element.innerHTML = '';\n",
              "          dataTable['output_type'] = 'display_data';\n",
              "          await google.colab.output.renderOutput(dataTable, element);\n",
              "          const docLink = document.createElement('div');\n",
              "          docLink.innerHTML = docLinkHtml;\n",
              "          element.appendChild(docLink);\n",
              "        }\n",
              "      </script>\n",
              "    </div>\n",
              "  </div>\n",
              "  "
            ]
          },
          "metadata": {},
          "execution_count": 127
        }
      ],
      "source": [
        "df_regr_2[['AvgSal','FO']].corr(method='spearman')"
      ]
    },
    {
      "cell_type": "code",
      "execution_count": 128,
      "metadata": {
        "colab": {
          "base_uri": "https://localhost:8080/",
          "height": 437
        },
        "id": "av8wjd8tuWrJ",
        "outputId": "cef0e4a0-db95-44b5-aefe-d821621391e4"
      },
      "outputs": [
        {
          "output_type": "execute_result",
          "data": {
            "text/plain": [
              "<class 'statsmodels.iolib.summary.Summary'>\n",
              "\"\"\"\n",
              "                            OLS Regression Results                            \n",
              "==============================================================================\n",
              "Dep. Variable:                 AvgSal   R-squared:                       0.018\n",
              "Model:                            OLS   Adj. R-squared:                  0.018\n",
              "Method:                 Least Squares   F-statistic:                     405.4\n",
              "Date:                Fri, 03 Feb 2023   Prob (F-statistic):           2.18e-89\n",
              "Time:                        12:01:48   Log-Likelihood:            -2.8579e+05\n",
              "No. Observations:               22646   AIC:                         5.716e+05\n",
              "Df Residuals:                   22644   BIC:                         5.716e+05\n",
              "Df Model:                           1                                         \n",
              "Covariance Type:            nonrobust                                         \n",
              "==============================================================================\n",
              "                 coef    std err          t      P>|t|      [0.025      0.975]\n",
              "------------------------------------------------------------------------------\n",
              "Intercept   8.082e+04    779.182    103.720      0.000    7.93e+04    8.23e+04\n",
              "Qskills     2282.4326    113.352     20.136      0.000    2060.255    2504.611\n",
              "==============================================================================\n",
              "Omnibus:                     9409.769   Durbin-Watson:                   1.186\n",
              "Prob(Omnibus):                  0.000   Jarque-Bera (JB):            50349.971\n",
              "Skew:                           1.955   Prob(JB):                         0.00\n",
              "Kurtosis:                       9.171   Cond. No.                         11.2\n",
              "==============================================================================\n",
              "\n",
              "Notes:\n",
              "[1] Standard Errors assume that the covariance matrix of the errors is correctly specified.\n",
              "\"\"\""
            ],
            "text/html": [
              "<table class=\"simpletable\">\n",
              "<caption>OLS Regression Results</caption>\n",
              "<tr>\n",
              "  <th>Dep. Variable:</th>         <td>AvgSal</td>      <th>  R-squared:         </th>  <td>   0.018</td>  \n",
              "</tr>\n",
              "<tr>\n",
              "  <th>Model:</th>                   <td>OLS</td>       <th>  Adj. R-squared:    </th>  <td>   0.018</td>  \n",
              "</tr>\n",
              "<tr>\n",
              "  <th>Method:</th>             <td>Least Squares</td>  <th>  F-statistic:       </th>  <td>   405.4</td>  \n",
              "</tr>\n",
              "<tr>\n",
              "  <th>Date:</th>             <td>Fri, 03 Feb 2023</td> <th>  Prob (F-statistic):</th>  <td>2.18e-89</td>  \n",
              "</tr>\n",
              "<tr>\n",
              "  <th>Time:</th>                 <td>12:01:48</td>     <th>  Log-Likelihood:    </th> <td>-2.8579e+05</td>\n",
              "</tr>\n",
              "<tr>\n",
              "  <th>No. Observations:</th>      <td> 22646</td>      <th>  AIC:               </th>  <td>5.716e+05</td> \n",
              "</tr>\n",
              "<tr>\n",
              "  <th>Df Residuals:</th>          <td> 22644</td>      <th>  BIC:               </th>  <td>5.716e+05</td> \n",
              "</tr>\n",
              "<tr>\n",
              "  <th>Df Model:</th>              <td>     1</td>      <th>                     </th>      <td> </td>     \n",
              "</tr>\n",
              "<tr>\n",
              "  <th>Covariance Type:</th>      <td>nonrobust</td>    <th>                     </th>      <td> </td>     \n",
              "</tr>\n",
              "</table>\n",
              "<table class=\"simpletable\">\n",
              "<tr>\n",
              "      <td></td>         <th>coef</th>     <th>std err</th>      <th>t</th>      <th>P>|t|</th>  <th>[0.025</th>    <th>0.975]</th>  \n",
              "</tr>\n",
              "<tr>\n",
              "  <th>Intercept</th> <td> 8.082e+04</td> <td>  779.182</td> <td>  103.720</td> <td> 0.000</td> <td> 7.93e+04</td> <td> 8.23e+04</td>\n",
              "</tr>\n",
              "<tr>\n",
              "  <th>Qskills</th>   <td> 2282.4326</td> <td>  113.352</td> <td>   20.136</td> <td> 0.000</td> <td> 2060.255</td> <td> 2504.611</td>\n",
              "</tr>\n",
              "</table>\n",
              "<table class=\"simpletable\">\n",
              "<tr>\n",
              "  <th>Omnibus:</th>       <td>9409.769</td> <th>  Durbin-Watson:     </th> <td>   1.186</td> \n",
              "</tr>\n",
              "<tr>\n",
              "  <th>Prob(Omnibus):</th>  <td> 0.000</td>  <th>  Jarque-Bera (JB):  </th> <td>50349.971</td>\n",
              "</tr>\n",
              "<tr>\n",
              "  <th>Skew:</th>           <td> 1.955</td>  <th>  Prob(JB):          </th> <td>    0.00</td> \n",
              "</tr>\n",
              "<tr>\n",
              "  <th>Kurtosis:</th>       <td> 9.171</td>  <th>  Cond. No.          </th> <td>    11.2</td> \n",
              "</tr>\n",
              "</table><br/><br/>Notes:<br/>[1] Standard Errors assume that the covariance matrix of the errors is correctly specified."
            ]
          },
          "metadata": {},
          "execution_count": 128
        }
      ],
      "source": [
        "resultsm = smf.ols('AvgSal ~ Qskills', data=df_regr_2).fit()\n",
        "resultsm.summary()"
      ]
    },
    {
      "cell_type": "code",
      "execution_count": 129,
      "metadata": {
        "colab": {
          "base_uri": "https://localhost:8080/",
          "height": 581
        },
        "id": "jTwnvo3arpbX",
        "outputId": "4b65fa71-952d-49e8-b816-472871a21860"
      },
      "outputs": [
        {
          "output_type": "execute_result",
          "data": {
            "text/plain": [
              "<class 'statsmodels.iolib.summary.Summary'>\n",
              "\"\"\"\n",
              "                            OLS Regression Results                            \n",
              "==============================================================================\n",
              "Dep. Variable:                 AvgSal   R-squared:                       0.158\n",
              "Model:                            OLS   Adj. R-squared:                  0.158\n",
              "Method:                 Least Squares   F-statistic:                     531.4\n",
              "Date:                Fri, 03 Feb 2023   Prob (F-statistic):               0.00\n",
              "Time:                        12:01:48   Log-Likelihood:            -2.8404e+05\n",
              "No. Observations:               22646   AIC:                         5.681e+05\n",
              "Df Residuals:                   22637   BIC:                         5.682e+05\n",
              "Df Model:                           8                                         \n",
              "Covariance Type:            nonrobust                                         \n",
              "==============================================================================\n",
              "                 coef    std err          t      P>|t|      [0.025      0.975]\n",
              "------------------------------------------------------------------------------\n",
              "Intercept   5.761e+04   1260.746     45.695      0.000    5.51e+04    6.01e+04\n",
              "EXP         6.194e+04   1166.538     53.100      0.000    5.97e+04    6.42e+04\n",
              "d1         -4.255e+04   4165.704    -10.215      0.000   -5.07e+04   -3.44e+04\n",
              "d2         -3.662e+04   2383.712    -15.365      0.000   -4.13e+04    -3.2e+04\n",
              "d3         -2.928e+04   1693.360    -17.288      0.000   -3.26e+04    -2.6e+04\n",
              "d4         -2.875e+04   1336.486    -21.511      0.000   -3.14e+04   -2.61e+04\n",
              "d5         -2.541e+04   1730.057    -14.685      0.000   -2.88e+04    -2.2e+04\n",
              "d6         -2.222e+04   1492.673    -14.885      0.000   -2.51e+04   -1.93e+04\n",
              "d7         -3681.0419   1452.865     -2.534      0.011   -6528.758    -833.326\n",
              "==============================================================================\n",
              "Omnibus:                    10008.972   Durbin-Watson:                   1.358\n",
              "Prob(Omnibus):                  0.000   Jarque-Bera (JB):            67271.531\n",
              "Skew:                           2.011   Prob(JB):                         0.00\n",
              "Kurtosis:                      10.424   Cond. No.                         12.5\n",
              "==============================================================================\n",
              "\n",
              "Notes:\n",
              "[1] Standard Errors assume that the covariance matrix of the errors is correctly specified.\n",
              "\"\"\""
            ],
            "text/html": [
              "<table class=\"simpletable\">\n",
              "<caption>OLS Regression Results</caption>\n",
              "<tr>\n",
              "  <th>Dep. Variable:</th>         <td>AvgSal</td>      <th>  R-squared:         </th>  <td>   0.158</td>  \n",
              "</tr>\n",
              "<tr>\n",
              "  <th>Model:</th>                   <td>OLS</td>       <th>  Adj. R-squared:    </th>  <td>   0.158</td>  \n",
              "</tr>\n",
              "<tr>\n",
              "  <th>Method:</th>             <td>Least Squares</td>  <th>  F-statistic:       </th>  <td>   531.4</td>  \n",
              "</tr>\n",
              "<tr>\n",
              "  <th>Date:</th>             <td>Fri, 03 Feb 2023</td> <th>  Prob (F-statistic):</th>   <td>  0.00</td>   \n",
              "</tr>\n",
              "<tr>\n",
              "  <th>Time:</th>                 <td>12:01:48</td>     <th>  Log-Likelihood:    </th> <td>-2.8404e+05</td>\n",
              "</tr>\n",
              "<tr>\n",
              "  <th>No. Observations:</th>      <td> 22646</td>      <th>  AIC:               </th>  <td>5.681e+05</td> \n",
              "</tr>\n",
              "<tr>\n",
              "  <th>Df Residuals:</th>          <td> 22637</td>      <th>  BIC:               </th>  <td>5.682e+05</td> \n",
              "</tr>\n",
              "<tr>\n",
              "  <th>Df Model:</th>              <td>     8</td>      <th>                     </th>      <td> </td>     \n",
              "</tr>\n",
              "<tr>\n",
              "  <th>Covariance Type:</th>      <td>nonrobust</td>    <th>                     </th>      <td> </td>     \n",
              "</tr>\n",
              "</table>\n",
              "<table class=\"simpletable\">\n",
              "<tr>\n",
              "      <td></td>         <th>coef</th>     <th>std err</th>      <th>t</th>      <th>P>|t|</th>  <th>[0.025</th>    <th>0.975]</th>  \n",
              "</tr>\n",
              "<tr>\n",
              "  <th>Intercept</th> <td> 5.761e+04</td> <td> 1260.746</td> <td>   45.695</td> <td> 0.000</td> <td> 5.51e+04</td> <td> 6.01e+04</td>\n",
              "</tr>\n",
              "<tr>\n",
              "  <th>EXP</th>       <td> 6.194e+04</td> <td> 1166.538</td> <td>   53.100</td> <td> 0.000</td> <td> 5.97e+04</td> <td> 6.42e+04</td>\n",
              "</tr>\n",
              "<tr>\n",
              "  <th>d1</th>        <td>-4.255e+04</td> <td> 4165.704</td> <td>  -10.215</td> <td> 0.000</td> <td>-5.07e+04</td> <td>-3.44e+04</td>\n",
              "</tr>\n",
              "<tr>\n",
              "  <th>d2</th>        <td>-3.662e+04</td> <td> 2383.712</td> <td>  -15.365</td> <td> 0.000</td> <td>-4.13e+04</td> <td> -3.2e+04</td>\n",
              "</tr>\n",
              "<tr>\n",
              "  <th>d3</th>        <td>-2.928e+04</td> <td> 1693.360</td> <td>  -17.288</td> <td> 0.000</td> <td>-3.26e+04</td> <td> -2.6e+04</td>\n",
              "</tr>\n",
              "<tr>\n",
              "  <th>d4</th>        <td>-2.875e+04</td> <td> 1336.486</td> <td>  -21.511</td> <td> 0.000</td> <td>-3.14e+04</td> <td>-2.61e+04</td>\n",
              "</tr>\n",
              "<tr>\n",
              "  <th>d5</th>        <td>-2.541e+04</td> <td> 1730.057</td> <td>  -14.685</td> <td> 0.000</td> <td>-2.88e+04</td> <td> -2.2e+04</td>\n",
              "</tr>\n",
              "<tr>\n",
              "  <th>d6</th>        <td>-2.222e+04</td> <td> 1492.673</td> <td>  -14.885</td> <td> 0.000</td> <td>-2.51e+04</td> <td>-1.93e+04</td>\n",
              "</tr>\n",
              "<tr>\n",
              "  <th>d7</th>        <td>-3681.0419</td> <td> 1452.865</td> <td>   -2.534</td> <td> 0.011</td> <td>-6528.758</td> <td> -833.326</td>\n",
              "</tr>\n",
              "</table>\n",
              "<table class=\"simpletable\">\n",
              "<tr>\n",
              "  <th>Omnibus:</th>       <td>10008.972</td> <th>  Durbin-Watson:     </th> <td>   1.358</td> \n",
              "</tr>\n",
              "<tr>\n",
              "  <th>Prob(Omnibus):</th>  <td> 0.000</td>   <th>  Jarque-Bera (JB):  </th> <td>67271.531</td>\n",
              "</tr>\n",
              "<tr>\n",
              "  <th>Skew:</th>           <td> 2.011</td>   <th>  Prob(JB):          </th> <td>    0.00</td> \n",
              "</tr>\n",
              "<tr>\n",
              "  <th>Kurtosis:</th>       <td>10.424</td>   <th>  Cond. No.          </th> <td>    12.5</td> \n",
              "</tr>\n",
              "</table><br/><br/>Notes:<br/>[1] Standard Errors assume that the covariance matrix of the errors is correctly specified."
            ]
          },
          "metadata": {},
          "execution_count": 129
        }
      ],
      "source": [
        "resultsm = smf.ols('AvgSal ~ EXP + d1 + d2 + d3 + d4 + d5 + d6 + d7', data=df_regr_2).fit()\n",
        "resultsm.summary()"
      ]
    },
    {
      "cell_type": "code",
      "execution_count": 130,
      "metadata": {
        "colab": {
          "base_uri": "https://localhost:8080/",
          "height": 602
        },
        "id": "BCCTndezsAMY",
        "outputId": "2c220e22-96e8-473e-c4c8-01a9dd51ea8c"
      },
      "outputs": [
        {
          "output_type": "execute_result",
          "data": {
            "text/plain": [
              "<class 'statsmodels.iolib.summary.Summary'>\n",
              "\"\"\"\n",
              "                            OLS Regression Results                            \n",
              "==============================================================================\n",
              "Dep. Variable:                 AvgSal   R-squared:                       0.162\n",
              "Model:                            OLS   Adj. R-squared:                  0.161\n",
              "Method:                 Least Squares   F-statistic:                     485.6\n",
              "Date:                Fri, 03 Feb 2023   Prob (F-statistic):               0.00\n",
              "Time:                        12:01:48   Log-Likelihood:            -2.8399e+05\n",
              "No. Observations:               22646   AIC:                         5.680e+05\n",
              "Df Residuals:                   22636   BIC:                         5.681e+05\n",
              "Df Model:                           9                                         \n",
              "Covariance Type:            nonrobust                                         \n",
              "==============================================================================\n",
              "                 coef    std err          t      P>|t|      [0.025      0.975]\n",
              "------------------------------------------------------------------------------\n",
              "Intercept   5.328e+04   1330.014     40.063      0.000    5.07e+04    5.59e+04\n",
              "EXP         5.995e+04   1180.852     50.769      0.000    5.76e+04    6.23e+04\n",
              "Qskills     1069.0201    106.698     10.019      0.000     859.884    1278.156\n",
              "d1         -4.164e+04   4157.585    -10.016      0.000   -4.98e+04   -3.35e+04\n",
              "d2         -3.548e+04   2381.225    -14.901      0.000   -4.02e+04   -3.08e+04\n",
              "d3         -2.927e+04   1689.655    -17.325      0.000   -3.26e+04    -2.6e+04\n",
              "d4         -2.826e+04   1334.456    -21.177      0.000   -3.09e+04   -2.56e+04\n",
              "d5         -2.511e+04   1726.526    -14.543      0.000   -2.85e+04   -2.17e+04\n",
              "d6          -2.17e+04   1490.313    -14.559      0.000   -2.46e+04   -1.88e+04\n",
              "d7         -3877.3079   1449.819     -2.674      0.007   -6719.053   -1035.563\n",
              "==============================================================================\n",
              "Omnibus:                    10001.662   Durbin-Watson:                   1.360\n",
              "Prob(Omnibus):                  0.000   Jarque-Bera (JB):            67098.119\n",
              "Skew:                           2.010   Prob(JB):                         0.00\n",
              "Kurtosis:                      10.413   Cond. No.                         64.9\n",
              "==============================================================================\n",
              "\n",
              "Notes:\n",
              "[1] Standard Errors assume that the covariance matrix of the errors is correctly specified.\n",
              "\"\"\""
            ],
            "text/html": [
              "<table class=\"simpletable\">\n",
              "<caption>OLS Regression Results</caption>\n",
              "<tr>\n",
              "  <th>Dep. Variable:</th>         <td>AvgSal</td>      <th>  R-squared:         </th>  <td>   0.162</td>  \n",
              "</tr>\n",
              "<tr>\n",
              "  <th>Model:</th>                   <td>OLS</td>       <th>  Adj. R-squared:    </th>  <td>   0.161</td>  \n",
              "</tr>\n",
              "<tr>\n",
              "  <th>Method:</th>             <td>Least Squares</td>  <th>  F-statistic:       </th>  <td>   485.6</td>  \n",
              "</tr>\n",
              "<tr>\n",
              "  <th>Date:</th>             <td>Fri, 03 Feb 2023</td> <th>  Prob (F-statistic):</th>   <td>  0.00</td>   \n",
              "</tr>\n",
              "<tr>\n",
              "  <th>Time:</th>                 <td>12:01:48</td>     <th>  Log-Likelihood:    </th> <td>-2.8399e+05</td>\n",
              "</tr>\n",
              "<tr>\n",
              "  <th>No. Observations:</th>      <td> 22646</td>      <th>  AIC:               </th>  <td>5.680e+05</td> \n",
              "</tr>\n",
              "<tr>\n",
              "  <th>Df Residuals:</th>          <td> 22636</td>      <th>  BIC:               </th>  <td>5.681e+05</td> \n",
              "</tr>\n",
              "<tr>\n",
              "  <th>Df Model:</th>              <td>     9</td>      <th>                     </th>      <td> </td>     \n",
              "</tr>\n",
              "<tr>\n",
              "  <th>Covariance Type:</th>      <td>nonrobust</td>    <th>                     </th>      <td> </td>     \n",
              "</tr>\n",
              "</table>\n",
              "<table class=\"simpletable\">\n",
              "<tr>\n",
              "      <td></td>         <th>coef</th>     <th>std err</th>      <th>t</th>      <th>P>|t|</th>  <th>[0.025</th>    <th>0.975]</th>  \n",
              "</tr>\n",
              "<tr>\n",
              "  <th>Intercept</th> <td> 5.328e+04</td> <td> 1330.014</td> <td>   40.063</td> <td> 0.000</td> <td> 5.07e+04</td> <td> 5.59e+04</td>\n",
              "</tr>\n",
              "<tr>\n",
              "  <th>EXP</th>       <td> 5.995e+04</td> <td> 1180.852</td> <td>   50.769</td> <td> 0.000</td> <td> 5.76e+04</td> <td> 6.23e+04</td>\n",
              "</tr>\n",
              "<tr>\n",
              "  <th>Qskills</th>   <td> 1069.0201</td> <td>  106.698</td> <td>   10.019</td> <td> 0.000</td> <td>  859.884</td> <td> 1278.156</td>\n",
              "</tr>\n",
              "<tr>\n",
              "  <th>d1</th>        <td>-4.164e+04</td> <td> 4157.585</td> <td>  -10.016</td> <td> 0.000</td> <td>-4.98e+04</td> <td>-3.35e+04</td>\n",
              "</tr>\n",
              "<tr>\n",
              "  <th>d2</th>        <td>-3.548e+04</td> <td> 2381.225</td> <td>  -14.901</td> <td> 0.000</td> <td>-4.02e+04</td> <td>-3.08e+04</td>\n",
              "</tr>\n",
              "<tr>\n",
              "  <th>d3</th>        <td>-2.927e+04</td> <td> 1689.655</td> <td>  -17.325</td> <td> 0.000</td> <td>-3.26e+04</td> <td> -2.6e+04</td>\n",
              "</tr>\n",
              "<tr>\n",
              "  <th>d4</th>        <td>-2.826e+04</td> <td> 1334.456</td> <td>  -21.177</td> <td> 0.000</td> <td>-3.09e+04</td> <td>-2.56e+04</td>\n",
              "</tr>\n",
              "<tr>\n",
              "  <th>d5</th>        <td>-2.511e+04</td> <td> 1726.526</td> <td>  -14.543</td> <td> 0.000</td> <td>-2.85e+04</td> <td>-2.17e+04</td>\n",
              "</tr>\n",
              "<tr>\n",
              "  <th>d6</th>        <td> -2.17e+04</td> <td> 1490.313</td> <td>  -14.559</td> <td> 0.000</td> <td>-2.46e+04</td> <td>-1.88e+04</td>\n",
              "</tr>\n",
              "<tr>\n",
              "  <th>d7</th>        <td>-3877.3079</td> <td> 1449.819</td> <td>   -2.674</td> <td> 0.007</td> <td>-6719.053</td> <td>-1035.563</td>\n",
              "</tr>\n",
              "</table>\n",
              "<table class=\"simpletable\">\n",
              "<tr>\n",
              "  <th>Omnibus:</th>       <td>10001.662</td> <th>  Durbin-Watson:     </th> <td>   1.360</td> \n",
              "</tr>\n",
              "<tr>\n",
              "  <th>Prob(Omnibus):</th>  <td> 0.000</td>   <th>  Jarque-Bera (JB):  </th> <td>67098.119</td>\n",
              "</tr>\n",
              "<tr>\n",
              "  <th>Skew:</th>           <td> 2.010</td>   <th>  Prob(JB):          </th> <td>    0.00</td> \n",
              "</tr>\n",
              "<tr>\n",
              "  <th>Kurtosis:</th>       <td>10.413</td>   <th>  Cond. No.          </th> <td>    64.9</td> \n",
              "</tr>\n",
              "</table><br/><br/>Notes:<br/>[1] Standard Errors assume that the covariance matrix of the errors is correctly specified."
            ]
          },
          "metadata": {},
          "execution_count": 130
        }
      ],
      "source": [
        "resultsm = smf.ols('AvgSal ~ EXP + Qskills + d1 + d2 + d3 + d4 + d5 + d6 + d7', data=df_regr_2).fit()\n",
        "resultsm.summary()"
      ]
    },
    {
      "cell_type": "code",
      "execution_count": 131,
      "metadata": {
        "colab": {
          "base_uri": "https://localhost:8080/",
          "height": 144
        },
        "id": "kdwxfqcks-rA",
        "outputId": "fe73d654-3d60-4235-d845-62a178025f06"
      },
      "outputs": [
        {
          "output_type": "execute_result",
          "data": {
            "text/plain": [
              "FO     1    2     3     4     5     6     7     8\n",
              "EXP                                              \n",
              "0    125  297   465   894   405   538   417  1103\n",
              "1    151  612  1555  2960  1506  2260  2589  6769"
            ],
            "text/html": [
              "\n",
              "  <div id=\"df-3b168281-c2de-445b-986d-b70ef786cf85\">\n",
              "    <div class=\"colab-df-container\">\n",
              "      <div>\n",
              "<style scoped>\n",
              "    .dataframe tbody tr th:only-of-type {\n",
              "        vertical-align: middle;\n",
              "    }\n",
              "\n",
              "    .dataframe tbody tr th {\n",
              "        vertical-align: top;\n",
              "    }\n",
              "\n",
              "    .dataframe thead th {\n",
              "        text-align: right;\n",
              "    }\n",
              "</style>\n",
              "<table border=\"1\" class=\"dataframe\">\n",
              "  <thead>\n",
              "    <tr style=\"text-align: right;\">\n",
              "      <th>FO</th>\n",
              "      <th>1</th>\n",
              "      <th>2</th>\n",
              "      <th>3</th>\n",
              "      <th>4</th>\n",
              "      <th>5</th>\n",
              "      <th>6</th>\n",
              "      <th>7</th>\n",
              "      <th>8</th>\n",
              "    </tr>\n",
              "    <tr>\n",
              "      <th>EXP</th>\n",
              "      <th></th>\n",
              "      <th></th>\n",
              "      <th></th>\n",
              "      <th></th>\n",
              "      <th></th>\n",
              "      <th></th>\n",
              "      <th></th>\n",
              "      <th></th>\n",
              "    </tr>\n",
              "  </thead>\n",
              "  <tbody>\n",
              "    <tr>\n",
              "      <th>0</th>\n",
              "      <td>125</td>\n",
              "      <td>297</td>\n",
              "      <td>465</td>\n",
              "      <td>894</td>\n",
              "      <td>405</td>\n",
              "      <td>538</td>\n",
              "      <td>417</td>\n",
              "      <td>1103</td>\n",
              "    </tr>\n",
              "    <tr>\n",
              "      <th>1</th>\n",
              "      <td>151</td>\n",
              "      <td>612</td>\n",
              "      <td>1555</td>\n",
              "      <td>2960</td>\n",
              "      <td>1506</td>\n",
              "      <td>2260</td>\n",
              "      <td>2589</td>\n",
              "      <td>6769</td>\n",
              "    </tr>\n",
              "  </tbody>\n",
              "</table>\n",
              "</div>\n",
              "      <button class=\"colab-df-convert\" onclick=\"convertToInteractive('df-3b168281-c2de-445b-986d-b70ef786cf85')\"\n",
              "              title=\"Convert this dataframe to an interactive table.\"\n",
              "              style=\"display:none;\">\n",
              "        \n",
              "  <svg xmlns=\"http://www.w3.org/2000/svg\" height=\"24px\"viewBox=\"0 0 24 24\"\n",
              "       width=\"24px\">\n",
              "    <path d=\"M0 0h24v24H0V0z\" fill=\"none\"/>\n",
              "    <path d=\"M18.56 5.44l.94 2.06.94-2.06 2.06-.94-2.06-.94-.94-2.06-.94 2.06-2.06.94zm-11 1L8.5 8.5l.94-2.06 2.06-.94-2.06-.94L8.5 2.5l-.94 2.06-2.06.94zm10 10l.94 2.06.94-2.06 2.06-.94-2.06-.94-.94-2.06-.94 2.06-2.06.94z\"/><path d=\"M17.41 7.96l-1.37-1.37c-.4-.4-.92-.59-1.43-.59-.52 0-1.04.2-1.43.59L10.3 9.45l-7.72 7.72c-.78.78-.78 2.05 0 2.83L4 21.41c.39.39.9.59 1.41.59.51 0 1.02-.2 1.41-.59l7.78-7.78 2.81-2.81c.8-.78.8-2.07 0-2.86zM5.41 20L4 18.59l7.72-7.72 1.47 1.35L5.41 20z\"/>\n",
              "  </svg>\n",
              "      </button>\n",
              "      \n",
              "  <style>\n",
              "    .colab-df-container {\n",
              "      display:flex;\n",
              "      flex-wrap:wrap;\n",
              "      gap: 12px;\n",
              "    }\n",
              "\n",
              "    .colab-df-convert {\n",
              "      background-color: #E8F0FE;\n",
              "      border: none;\n",
              "      border-radius: 50%;\n",
              "      cursor: pointer;\n",
              "      display: none;\n",
              "      fill: #1967D2;\n",
              "      height: 32px;\n",
              "      padding: 0 0 0 0;\n",
              "      width: 32px;\n",
              "    }\n",
              "\n",
              "    .colab-df-convert:hover {\n",
              "      background-color: #E2EBFA;\n",
              "      box-shadow: 0px 1px 2px rgba(60, 64, 67, 0.3), 0px 1px 3px 1px rgba(60, 64, 67, 0.15);\n",
              "      fill: #174EA6;\n",
              "    }\n",
              "\n",
              "    [theme=dark] .colab-df-convert {\n",
              "      background-color: #3B4455;\n",
              "      fill: #D2E3FC;\n",
              "    }\n",
              "\n",
              "    [theme=dark] .colab-df-convert:hover {\n",
              "      background-color: #434B5C;\n",
              "      box-shadow: 0px 1px 3px 1px rgba(0, 0, 0, 0.15);\n",
              "      filter: drop-shadow(0px 1px 2px rgba(0, 0, 0, 0.3));\n",
              "      fill: #FFFFFF;\n",
              "    }\n",
              "  </style>\n",
              "\n",
              "      <script>\n",
              "        const buttonEl =\n",
              "          document.querySelector('#df-3b168281-c2de-445b-986d-b70ef786cf85 button.colab-df-convert');\n",
              "        buttonEl.style.display =\n",
              "          google.colab.kernel.accessAllowed ? 'block' : 'none';\n",
              "\n",
              "        async function convertToInteractive(key) {\n",
              "          const element = document.querySelector('#df-3b168281-c2de-445b-986d-b70ef786cf85');\n",
              "          const dataTable =\n",
              "            await google.colab.kernel.invokeFunction('convertToInteractive',\n",
              "                                                     [key], {});\n",
              "          if (!dataTable) return;\n",
              "\n",
              "          const docLinkHtml = 'Like what you see? Visit the ' +\n",
              "            '<a target=\"_blank\" href=https://colab.research.google.com/notebooks/data_table.ipynb>data table notebook</a>'\n",
              "            + ' to learn more about interactive tables.';\n",
              "          element.innerHTML = '';\n",
              "          dataTable['output_type'] = 'display_data';\n",
              "          await google.colab.output.renderOutput(dataTable, element);\n",
              "          const docLink = document.createElement('div');\n",
              "          docLink.innerHTML = docLinkHtml;\n",
              "          element.appendChild(docLink);\n",
              "        }\n",
              "      </script>\n",
              "    </div>\n",
              "  </div>\n",
              "  "
            ]
          },
          "metadata": {},
          "execution_count": 131
        }
      ],
      "source": [
        "wd=pd.crosstab(df_regr_2['EXP'],df_regr_2['FO']); wd"
      ]
    },
    {
      "cell_type": "code",
      "execution_count": 132,
      "metadata": {
        "colab": {
          "base_uri": "https://localhost:8080/",
          "height": 385
        },
        "id": "z4DN8XxqtUFs",
        "outputId": "833fc922-c30c-4840-8f54-4bb6dd0ae32e"
      },
      "outputs": [
        {
          "output_type": "execute_result",
          "data": {
            "text/plain": [
              "<matplotlib.axes._subplots.AxesSubplot at 0x7f0c5de510a0>"
            ]
          },
          "metadata": {},
          "execution_count": 132
        },
        {
          "output_type": "display_data",
          "data": {
            "text/plain": [
              "<Figure size 576x396 with 1 Axes>"
            ],
            "image/png": "[encoded data removed]"
          },
          "metadata": {}
        }
      ],
      "source": [
        "sns.countplot(x=df_regr_2['FO'], hue=df_regr_2['EXP'])"
      ]
    },
    {
      "cell_type": "code",
      "execution_count": 133,
      "metadata": {
        "colab": {
          "base_uri": "https://localhost:8080/"
        },
        "id": "I_bEAiHXtnqd",
        "outputId": "9358ef8e-f80b-4a97-a597-4b7b876d0bfe"
      },
      "outputs": [
        {
          "output_type": "stream",
          "name": "stdout",
          "text": [
            "test Statistics: 488.5280110026998\n",
            "degrees of freedom: 7\n",
            "p-value: 2.344294514379501e-101\n",
            "\n"
          ]
        }
      ],
      "source": [
        "chi2, prob, df, expected = scipy.stats.chi2_contingency(wd)\n",
        "output = \"test Statistics: {}\\ndegrees of freedom: {}\\np-value: {}\\n\"\n",
        " \n",
        "print(output.format( chi2, df, prob))"
      ]
    },
    {
      "cell_type": "markdown",
      "source": [
        "#**9.Выводы**"
      ],
      "metadata": {
        "id": "48-6NnV1FknI"
      }
    },
    {
      "cell_type": "markdown",
      "source": [
        "В процессе оценки данных по вакансиям, в сфере ИТ, представленным на рынке труда РФ были получены следующие результаты исследования:\n",
        "- в рамках статистического анализа данных, отражающих особенности спроса на специалистов, были графически представлены особенности распределения спроса на специалистов в соответствии с городами размещения вакансий, федеральными округами: так наибольшее количество вакансий среди городов относится к Москве и Санкт-Петербургу, а также городам миллионникам;\n",
        "- представленное выше распределение вакансий также характерно и для федеральных округов;\n",
        "- была графически представлена структура вакансий специалистов в зависимости от опыта, минимум которого рассматривается со стороны работодателя: так больше всего спроса на специалистов, обладающих опытом от 1 года до 3-х лет;\n",
        "- среди наиболее востребованных навыков для специалистов работодатели отмечали: работу в команде, GIT, SQL, Linux, 1C, грамотную речь и т.д.;\n",
        "- в рамках исследования были проанализированы числовые данные: средняя ЗП специалистов, а также количество требуемых скиллов со стороны работодателей от потенциальных работников. ПО данным количественным показателям была проверена гипотеза о нормальности распределения данных величин, которая не подтвердилась в рамках теста Д’Агостино;\n",
        "- в процессе работы были проверены гипотезы о наличии связи между уровнем средней заработной платы и следующими категориальными признаками: график работы, опыт работы, федеральным округом, где предлагается работа (наличие связи было подтверждено в рамках проверки гипотез);\n",
        "- представленная выше проверка гипотез была осуществлена как по всей совокупности исследуемых данных, так и по совокупности данных, которые отражали вакансии в ИТ-сфере;\n",
        "- в заключительной части работы были предприняты попытки построения регрессионной модели зависимости средней заработной платы в зависимости от федерального округа, где предлагалась работа, количества скиллов, а также опыта.\n"
      ],
      "metadata": {
        "id": "JVaUSitzFwIA"
      }
    }
  ],
  "metadata": {
    "colab": {
      "collapsed_sections": [
        "25vfb6g6Ovyl"
      ],
      "provenance": [],
      "toc_visible": true
    },
    "kernelspec": {
      "display_name": "Python 3",
      "name": "python3"
    },
    "language_info": {
      "name": "python"
    }
  },
  "nbformat": 4,
  "nbformat_minor": 0
}