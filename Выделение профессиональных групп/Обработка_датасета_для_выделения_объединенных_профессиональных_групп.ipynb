{
  "nbformat": 4,
  "nbformat_minor": 0,
  "metadata": {
    "colab": {
      "provenance": [],
      "toc_visible": true
    },
    "kernelspec": {
      "name": "python3",
      "display_name": "Python 3"
    },
    "language_info": {
      "name": "python"
    }
  },
  "cells": [
    {
      "cell_type": "markdown",
      "source": [
        "#1.Загрузка данных"
      ],
      "metadata": {
        "id": "6HWUizceIJS-"
      }
    },
    {
      "cell_type": "code",
      "execution_count": null,
      "metadata": {
        "colab": {
          "base_uri": "https://localhost:8080/"
        },
        "id": "_ion4g_23aF4",
        "outputId": "066cc502-e2d5-483b-9b82-ba688f3d0d5d"
      },
      "outputs": [
        {
          "output_type": "stream",
          "name": "stdout",
          "text": [
            "/usr/local/lib/python3.8/dist-packages/gdown/cli.py:127: FutureWarning: Option `--id` was deprecated in version 4.3.1 and will be removed in 5.0. You don't need to pass it anymore to use a file ID.\n",
            "  warnings.warn(\n",
            "Downloading...\n",
            "From: https://drive.google.com/uc?id=1LWRJPYweSKT4vwwXJoY8xSmf1WCEyMso\n",
            "To: /content/region roles (26.05.22).xlsx\n",
            "100% 84.4M/84.4M [00:04<00:00, 19.2MB/s]\n"
          ]
        }
      ],
      "source": [
        "!gdown --id "
      ]
    },
    {
      "cell_type": "code",
      "source": [
        "import pandas as pd\n",
        "import numpy as np\n",
        "import matplotlib.pyplot as plt\n",
        "import scipy\n",
        "import scipy.stats as stats\n",
        "import seaborn as sns\n",
        "import sklearn.linear_model as lm\n",
        "import statsmodels.api as sm\n",
        "import statsmodels.formula.api as smf\n",
        "from ast import literal_eval"
      ],
      "metadata": {
        "id": "Zxs2L15Z3yvt"
      },
      "execution_count": null,
      "outputs": []
    },
    {
      "cell_type": "code",
      "source": [
        "dataset_reg = pd.read_excel('region roles (26.05.22).xlsx')"
      ],
      "metadata": {
        "id": "7kBOP5fV33D1"
      },
      "execution_count": null,
      "outputs": []
    },
    {
      "cell_type": "code",
      "source": [
        "dataset_reg.info()"
      ],
      "metadata": {
        "colab": {
          "base_uri": "https://localhost:8080/"
        },
        "id": "mkcfMAYD4FPk",
        "outputId": "adcd9502-b1ba-4b4b-c6f5-0f509c9d8a8f"
      },
      "execution_count": null,
      "outputs": [
        {
          "output_type": "stream",
          "name": "stdout",
          "text": [
            "<class 'pandas.core.frame.DataFrame'>\n",
            "RangeIndex: 69656 entries, 0 to 69655\n",
            "Data columns (total 34 columns):\n",
            " #   Column                    Non-Null Count  Dtype  \n",
            "---  ------                    --------------  -----  \n",
            " 0   Unnamed: 0                69656 non-null  int64  \n",
            " 1   id                        69656 non-null  int64  \n",
            " 2   premium                   69656 non-null  bool   \n",
            " 3   name                      69656 non-null  object \n",
            " 4   department                5263 non-null   object \n",
            " 5   has_test                  69656 non-null  bool   \n",
            " 6   response_letter_required  69656 non-null  bool   \n",
            " 7   area                      69656 non-null  object \n",
            " 8   salary                    37590 non-null  object \n",
            " 9   type                      69656 non-null  object \n",
            " 10  address                   40318 non-null  object \n",
            " 11  response_url              1 non-null      object \n",
            " 12  sort_point_distance       0 non-null      float64\n",
            " 13  published_at              69656 non-null  object \n",
            " 14  created_at                69656 non-null  object \n",
            " 15  archived                  69656 non-null  bool   \n",
            " 16  insider_interview         522 non-null    object \n",
            " 17  url                       69656 non-null  object \n",
            " 18  alternate_url             69656 non-null  object \n",
            " 19  relations                 69656 non-null  object \n",
            " 20  employer                  69656 non-null  object \n",
            " 21  snippet                   69656 non-null  object \n",
            " 22  contacts                  35114 non-null  object \n",
            " 23  schedule                  69656 non-null  object \n",
            " 24  working_days              69656 non-null  object \n",
            " 25  working_time_intervals    69656 non-null  object \n",
            " 26  working_time_modes        69656 non-null  object \n",
            " 27  accept_temporary          69656 non-null  bool   \n",
            " 28  description               69656 non-null  object \n",
            " 29  experience                69656 non-null  object \n",
            " 30  key_skills                69656 non-null  object \n",
            " 31  specializations           69656 non-null  object \n",
            " 32  region                    69656 non-null  object \n",
            " 33  immediate_redirect_url    1 non-null      object \n",
            "dtypes: bool(5), float64(1), int64(2), object(26)\n",
            "memory usage: 15.7+ MB\n"
          ]
        }
      ]
    },
    {
      "cell_type": "code",
      "source": [
        "fed_okr = {'Белгородская область':'Центральный федеральный округ', 'Брянская область':'Центральный федеральный округ', 'Владимирская область':'Центральный федеральный округ', 'Воронежская область':'Центральный федеральный округ', 'Ивановская область':'Центральный федеральный округ', 'Калужская область':'Центральный федеральный округ', 'Костромская область':'Центральный федеральный округ', 'Курская область':'Центральный федеральный округ', 'Липецкая область':'Центральный федеральный округ', 'Московская область':'Центральный федеральный округ', 'Орловская область':'Центральный федеральный округ', 'Рязанская область':'Центральный федеральный округ', 'Смоленская область':'Центральный федеральный округ', 'Тамбовская область':'Центральный федеральный округ', 'Тверская область':'Центральный федеральный округ', 'Тульская область':'Центральный федеральный округ', 'Ярославская область':'Центральный федеральный округ', 'Москва':'Центральный федеральный округ','Республика Карелия':'Северо-Западный федеральный округ', 'Республика Коми':'Северо-Западный федеральный округ', 'Архангельская область':'Северо-Западный федеральный округ', 'Вологодская область':'Северо-Западный федеральный округ', 'Калининградская область':'Северо-Западный федеральный округ', 'Ленинградская область':'Северо-Западный федеральный округ', 'Мурманская область':'Северо-Западный федеральный округ', 'Новгородская область':'Северо-Западный федеральный округ', 'Псковская область':'Северо-Западный федеральный округ', 'Санкт-Петербург':'Северо-Западный федеральный округ', 'Ненецкий АО':'Северо-Западный федеральный округ', 'Республика Адыгея':'Южный федеральный округ', 'Республика Калмыкия':'Южный федеральный округ', 'Республика Крым':'Южный федеральный округ', 'Краснодарский край':'Южный федеральный округ', 'Астраханская область':'Южный федеральный округ', 'Волгоградская область':'Южный федеральный округ', 'Ростовская область':'Южный федеральный округ', 'Севастополь':'Южный федеральный округ', 'Республика Дагестан':'Северо-Кавказский федеральный округ', 'Республика Ингушетия':'Северо-Кавказский федеральный округ', 'Кабардино-Балкарская республика':'Северо-Кавказский федеральный округ', 'Карачаево-Черкесская Республика':'Северо-Кавказский федеральный округ', 'Республика Северная Осетия-Алания':'Северо-Кавказский федеральный округ', 'Чеченская республика':'Северо-Кавказский федеральный округ', 'Ставропольский край':'Северо-Кавказский федеральный округ', 'Республика Башкортостан':'Приволжский федеральный округ', 'Республика Марий Эл':'Приволжский федеральный округ', 'Республика Мордовия':'Приволжский федеральный округ', 'Республика Татарстан':'Приволжский федеральный округ', 'Удмуртская Республика':'Приволжский федеральный округ', 'Чувашская Республика':'Приволжский федеральный округ', 'Пермский край':'Приволжский федеральный округ', 'Кировская область':'Приволжский федеральный округ', 'Нижегородская область':'Приволжский федеральный округ', 'Оренбургская область':'Приволжский федеральный округ', 'Пензенская область':'Приволжский федеральный округ', 'Самарская область':'Приволжский федеральный округ', 'Саратовская область':'Приволжский федеральный округ', 'Ульяновская область':'Приволжский федеральный округ','Курганская область':'Уральский федеральный округ', 'Свердловская область':'Уральский федеральный округ', 'Тюменская область':'Уральский федеральный округ', 'Челябинская область':'Уральский федеральный округ', 'Ханты-Мансийский АО - Югра':'Уральский федеральный округ', 'Ямало-Ненецкий АО':'Уральский федеральный округ','Республика Алтай':'Сибирский федеральный округ', 'Республика Тыва':'Сибирский федеральный округ', 'Республика Хакасия':'Сибирский федеральный округ', 'Алтайский край':'Сибирский федеральный округ', 'Красноярский край':'Сибирский федеральный округ', 'Иркутская область':'Сибирский федеральный округ', 'Кемеровская область':'Сибирский федеральный округ', 'Новосибирская область':'Сибирский федеральный округ', 'Омская область':'Сибирский федеральный округ', 'Томская область':'Сибирский федеральный округ','Республика Бурятия':'Дальневосточный федеральный округ', 'Республика Саха (Якутия)':'Дальневосточный федеральный округ', 'Забайкальский край':'Дальневосточный федеральный округ', 'Камчатский край':'Дальневосточный федеральный округ', 'Приморский край':'Дальневосточный федеральный округ', 'Хабаровский край':'Дальневосточный федеральный округ', 'Амурская область':'Дальневосточный федеральный округ', 'Магаданская область':'Дальневосточный федеральный округ', 'Сахалинская область':'Дальневосточный федеральный округ', 'Еврейская АО':'Дальневосточный федеральный округ', 'Чукотский АО':'Дальневосточный федеральный округ'}"
      ],
      "metadata": {
        "id": "jyFS3GjJ4XXs"
      },
      "execution_count": null,
      "outputs": []
    },
    {
      "cell_type": "code",
      "source": [
        "dataset_reg['Федеральный округ'] = dataset_reg['region'].map(fed_okr)"
      ],
      "metadata": {
        "id": "FCurnjUU4Zc1"
      },
      "execution_count": null,
      "outputs": []
    },
    {
      "cell_type": "markdown",
      "source": [],
      "metadata": {
        "id": "aKCf_u_dWWse"
      }
    },
    {
      "cell_type": "markdown",
      "source": [
        "#2.Унификация вакансий"
      ],
      "metadata": {
        "id": "V7PZWESd6cxd"
      }
    },
    {
      "cell_type": "markdown",
      "source": [
        "##2.1Унификация разного написания специальностей"
      ],
      "metadata": {
        "id": "WIGR7_yrMLS0"
      }
    },
    {
      "cell_type": "code",
      "source": [
        "frontr = 'Frontend'\n",
        "def fr(val):\n",
        "  if frontr in val:\n",
        "    val = 'Frontend-разработчик'\n",
        "  return val\n",
        "  \n",
        "dataset_reg['name'] = dataset_reg['name'].apply(fr)"
      ],
      "metadata": {
        "id": "LiDg_J95-q_U"
      },
      "execution_count": null,
      "outputs": []
    },
    {
      "cell_type": "code",
      "source": [
        "one = '1C'\n",
        "def one_c(val):\n",
        "  if one in val:\n",
        "    val = 'Программист 1С'\n",
        "  return val\n",
        "  \n",
        "dataset_reg['name'] = dataset_reg['name'].apply(one_c)"
      ],
      "metadata": {
        "id": "qk8vJLwY-8Uk"
      },
      "execution_count": null,
      "outputs": []
    },
    {
      "cell_type": "code",
      "source": [
        "devops = 'DevOps'\n",
        "def dev(val):\n",
        "  if devops in val:\n",
        "    val = 'DevOps-инженер'\n",
        "  return val\n",
        "    \n",
        "dataset_reg['name'] = dataset_reg['name'].apply(dev)"
      ],
      "metadata": {
        "id": "SS6KIExL_CZ0"
      },
      "execution_count": null,
      "outputs": []
    },
    {
      "cell_type": "code",
      "source": [
        "ios = 'IOS'\n",
        "def ioss(val):\n",
        "  if ios in val:\n",
        "    val = 'IOS-разработчик'\n",
        "  return val\n",
        "  \n",
        "dataset_reg['name'] = dataset_reg['name'].apply(ioss)"
      ],
      "metadata": {
        "id": "Zl_8VErs_Ipj"
      },
      "execution_count": null,
      "outputs": []
    },
    {
      "cell_type": "code",
      "source": [
        "sysadm = 'администр'\n",
        "def sysa(val):\n",
        "  if sysadm in val:\n",
        "    val = 'Системный администратор'\n",
        "  return val\n",
        "  \n",
        "dataset_reg['name'] = dataset_reg['name'].apply(sysa)"
      ],
      "metadata": {
        "id": "xJmNT4Er_N7s"
      },
      "execution_count": null,
      "outputs": []
    },
    {
      "cell_type": "code",
      "source": [
        "support = 'поддержки'\n",
        "def sup(val):\n",
        "  if support in val:\n",
        "    val = 'Специалист технической поддержки'\n",
        "  return val\n",
        "  \n",
        "dataset_reg['name'] = dataset_reg['name'].apply(sup)"
      ],
      "metadata": {
        "id": "KnKGw3ax_SZl"
      },
      "execution_count": null,
      "outputs": []
    },
    {
      "cell_type": "code",
      "source": [
        "csharp = 'C#'\n",
        "def csh(val):\n",
        "  if csharp in val:\n",
        "    val = 'C#-разработчик'\n",
        "  return val\n",
        "  \n",
        "dataset_reg['name'] = dataset_reg['name'].apply(csh)"
      ],
      "metadata": {
        "id": "40SuSbJc_XE7"
      },
      "execution_count": null,
      "outputs": []
    },
    {
      "cell_type": "code",
      "source": [
        "csharp = ['C#','С#']\n",
        "def csh(val):\n",
        "  for i in csharp:\n",
        "    if i in val:\n",
        "        val = 'C#-разработчик'\n",
        "  return val\n",
        "  \n",
        "dataset_reg['name'] = dataset_reg['name'].apply(csh)"
      ],
      "metadata": {
        "id": "H-biVMST_bbL"
      },
      "execution_count": null,
      "outputs": []
    },
    {
      "cell_type": "code",
      "source": [
        "android = ['Android','android', 'Андроид', 'андроид']\n",
        "def andr(val):\n",
        "  for i in android:\n",
        "    if i in val:\n",
        "        val = 'Android-разработчик'\n",
        "  return val\n",
        "  \n",
        "dataset_reg['name'] = dataset_reg['name'].apply(andr)"
      ],
      "metadata": {
        "id": "7tbSawAF_gQs"
      },
      "execution_count": null,
      "outputs": []
    },
    {
      "cell_type": "code",
      "source": [
        "cplus = ['C++', 'С++', 'C++', 'С++']\n",
        "def cpl(val):\n",
        "  for i in cplus:\n",
        "    if i in val:\n",
        "        val = 'C++-разработчик'\n",
        "  return val\n",
        "  \n",
        "dataset_reg['name'] = dataset_reg['name'].apply(cpl)"
      ],
      "metadata": {
        "id": "HjHDVg6J_kes"
      },
      "execution_count": null,
      "outputs": []
    },
    {
      "cell_type": "code",
      "source": [
        "testing = ['QA', 'тестир', 'Тестир']\n",
        "def tst(val):\n",
        "  for i in testing:\n",
        "    if i in val:\n",
        "        val = 'Тестировщик'\n",
        "  return val\n",
        "  \n",
        "dataset_reg['name'] = dataset_reg['name'].apply(tst)"
      ],
      "metadata": {
        "id": "VqDB_haR_poE"
      },
      "execution_count": null,
      "outputs": []
    },
    {
      "cell_type": "code",
      "source": [
        "dataset_reg['name'].value_counts()"
      ],
      "metadata": {
        "colab": {
          "base_uri": "https://localhost:8080/"
        },
        "id": "jDGh5vKI_2CU",
        "outputId": "ecf545b5-d9ec-4a81-a44b-0a9efd311db3"
      },
      "execution_count": null,
      "outputs": [
        {
          "output_type": "execute_result",
          "data": {
            "text/plain": [
              "Специалист технической поддержки                                       4070\n",
              "Системный администратор                                                3686\n",
              "Тестировщик                                                            2771\n",
              "Программист 1С                                                         1847\n",
              "Frontend-разработчик                                                   1046\n",
              "                                                                       ... \n",
              "Технический руководитель проекта (TAM)                                    1\n",
              "Менеджер по ключевым клиентам (телекоммуникационное оборудование)         1\n",
              "Ключевой пользователь Oracle Hyperion\\SAP (финансы)                       1\n",
              "Менеджер по продукту (у застройщика) м. Коломенская                       1\n",
              "Начальник отдела по защите информации и информационной безопасности       1\n",
              "Name: name, Length: 26061, dtype: int64"
            ]
          },
          "metadata": {},
          "execution_count": 18
        }
      ]
    },
    {
      "cell_type": "markdown",
      "source": [
        "##2.2Укрупнение наименований вакансий "
      ],
      "metadata": {
        "id": "btINfmDoMTDL"
      }
    },
    {
      "cell_type": "code",
      "source": [
        "pm_dict = {}\n",
        "new_k = ['Проектный менеджер','Администратор проекта','Project manager','Project Manager', 'Project manager/Менеджер проекта', 'Менеджер проекта', \n",
        "         'Менеджер по проектам', 'Менеджер IT-проектов', \n",
        "         'Менеджер проектов / Project Manager', \n",
        "         'Менеджер IT Проекта / IT Project manager (junior)','Администратор проектов']\n",
        "for org_key in new_k:\n",
        "    pm_dict[org_key] = 'Менеджер проектов'"
      ],
      "metadata": {
        "id": "LX1sCgRv__EU"
      },
      "execution_count": null,
      "outputs": []
    },
    {
      "cell_type": "code",
      "source": [
        "pmch_dict = {}\n",
        "new_k = ['Руководитель ИТ-проектов','Руководитель IT проектов','Руководитель проекта', 'Руководитель проектов', 'Руководитель проектов 1С']\n",
        "for org_key in new_k:\n",
        "    pmch_dict[org_key] = 'Руководитель проектов'"
      ],
      "metadata": {
        "id": "UmGMtjbW__4U"
      },
      "execution_count": null,
      "outputs": []
    },
    {
      "cell_type": "code",
      "source": [
        "one_c_dict = {}\n",
        "new_k = ['Программист-стажер 1С', 'Программист-разработчик 1С','Программист 1C 8', 'Программист 1C', '1с программист-разработчик', 'Программист настройщик 1с', \n",
        "         'Программист 1С УТ, РТ(удаленно)', 'Программист 1С БП, УХ', 'Программист 1C-Битрикс', 'Разработчик 1С',\n",
        "         'Ведущий программист 1C', '1С программист', 'Ведущий разработчик 1С', 'Программист 1С (начинающий)', \n",
        "         'Программист 1С (удаленно)', 'Инженер-программист 1С (удаленно)', 'Программист 1С (удалённая работа)', \n",
        "         'Инженер-программист 1С', '1С Разработчик', 'Главный программист 1 С', 'Ведущий программист 1С', 'Инженер-программист 1C', \n",
        "         'Программист 1C (удаленно)', 'Старший программист 1С (удаленно)', 'Middle Программист 1C', 'Senior Программист 1C', \n",
        "         'Программист 1С (разработка)', '1С Программист', 'Ведущий инженер-программист 1С', 'Программист - стажер 1С', \n",
        "         'Программист 1С (поддержка)', 'Программист 1С (стажер)', 'Программист 1C (ERP)', 'Разработчик 1C-Битрикс (удаленно)', \n",
        "         'Программист 1С (Middle)', 'Программист 1С ERP', 'Программист 1С (Junior)', 'Программист 1С (ЗУП)', \n",
        "         'Программист 1C/ senior', 'Программист 1C Кодер', 'Программист 1 С', 'Стажер-Программист 1С', \n",
        "         'Программист - разработчик 1С /на удаленку/', 'Программист 1C/Программист 1С (Стажер 1С)', 'Стажер-программист 1С', \n",
        "         'Инженер - программист 1С', 'Старший программист 1С']\n",
        "for org_key in new_k:\n",
        "    one_c_dict[org_key] = 'Программист 1С'"
      ],
      "metadata": {
        "id": "g8db9uraAB70"
      },
      "execution_count": null,
      "outputs": []
    },
    {
      "cell_type": "code",
      "source": [
        "sys_adm_dict = {}\n",
        "new_k = ['Сетевой администратор','Помощник системного администратора','Системный администратор серверной инфраструктуры (с навыками MS Exchage + Azure)', \n",
        "         'Системный администратор в контактный центр', 'Системный администратор / Инженер техподдержки', \n",
        "         'Системный администратор (ТЦ Новая Дача)', 'Системный администратор Linux', \n",
        "         'Администратор информационной системы', 'Администратор информационных систем', \n",
        "         'Системный администратор (удаленно)', 'Системный администратор 1 категории',\n",
        "         'Системный администратор (г. Волжский)', 'Системный администратор отдела информационных технологий', \n",
        "         'Ведущий системный администратор', 'Младший системный администратор', 'Дежурный системный администратор', \n",
        "         'Инженер (Системный администратор/Администратор БД/Техническая поддержка)', \n",
        "         'Системный администратор (специалист IT-отдела)',\n",
        "         'Главный системный администратор отдела безопасности', 'Инженер/системный администратор', \n",
        "         'Старший системный администратор',\n",
        "         'Специалист по защите информации / системный администратор', 'Главный специалист (системный администратор)',\n",
        "         'Системный администратор (внедрение CRM)', 'Системный администратор (Эникей продвинутый)', \n",
        "         'Системный администратор в супермаркет', 'Системный администратор (Локотки)',\n",
        "         'Системный администратор (Кластер Отелей на Сейшельских островах)','Системный администратор/инженер выездной (IT-аутсорсинг)']\n",
        "for org_key in new_k:\n",
        "    sys_adm_dict[org_key] = 'Системный администратор'"
      ],
      "metadata": {
        "id": "so1WxOzPADVc"
      },
      "execution_count": null,
      "outputs": []
    },
    {
      "cell_type": "code",
      "source": [
        "tech_supp_dict = {}\n",
        "new_k = ['Специалист службы поддержки с техническими знаниями (Яндекс ID)','Специалист технической поддержки 1С','Консультант техподдержки','Инженер технической поддержки','Специалист отдела технической поддержки', 'Специалист голосовой поддержки пользователей', 'Специалист поддержки в Яндекс Бизнес', 'Специалист службы поддержки с техническими знаниями (Контест)','Сотрудник службы поддержки в Яндекс Бизнес',\n",
        "         'Специалист по общению с клиентами в Яндекс Бизнес', 'Эксперт по ответам на вопросы о Яндекс Бизнесе',\n",
        "         'Консультант онлайн-поддержки с техническими знаниями','Специалист службы поддержки с техническими знаниями (Браузер)','Специалист технической поддержки информационных систем (1 линия)', \n",
        "         'Специалист технической поддержки (удаленная работа)', \n",
        "         'Специалист технической поддержки 1 линии', 'Специалист по технической поддержке', \n",
        "         'Специалист тех. поддержки', 'Специалист технической поддержки CRM (2-я линия)', \n",
        "         'Специалист службы поддержки в Яндекс Бизнес', 'Специалист службы поддержки Рекламной сети Яндекса и ADFOX',\n",
        "         'Специалист службы поддержки пользователей', 'Сотрудник поддержки поиска Яндекса', 'Специалист поддержки в Yandex Cloud',\n",
        "         'Специалист службы поддержки с техническими знаниями (Умные устройства)', \n",
        "         'Специалист службы поддержки с техническими знаниями в Диск',\n",
        "         'Специалист поддержки в Толоку со знанием английского языка', 'Сотрудник службы поддержки с техническими знаниями в Яндекс 360 (фронтенд)',\n",
        "         'Сотрудник службы поддержки с техническими знаниями в Яндекс 360 (бэкенд)', 'Специалист службы технической поддержки']\n",
        "for org_key in new_k:\n",
        "    tech_supp_dict[org_key] = 'Специалист технической поддержки'"
      ],
      "metadata": {
        "id": "7vMSY69CAE3E"
      },
      "execution_count": null,
      "outputs": []
    },
    {
      "cell_type": "code",
      "source": [
        "tech_wr_dict = {}\n",
        "new_k = ['Технический писатель (дистанционный автор)', 'Технический писатель']\n",
        "for org_key in new_k:\n",
        "    tech_wr_dict[org_key] = 'Технический писатель'"
      ],
      "metadata": {
        "id": "hYEfuhgDAGic"
      },
      "execution_count": null,
      "outputs": []
    },
    {
      "cell_type": "code",
      "source": [
        "dev_ops_eng_dict = {}\n",
        "new_k = ['DevOps Engineer', 'DevOps-инженер', 'DevOps инженер', 'DevOps engineer','DevOps', 'Инженер DevOps']\n",
        "for org_key in new_k:\n",
        "    dev_ops_eng_dict[org_key] = 'DevOps-инженер'"
      ],
      "metadata": {
        "id": "q94KfdkoAHwk"
      },
      "execution_count": null,
      "outputs": []
    },
    {
      "cell_type": "code",
      "source": [
        "test_dict = {}\n",
        "new_k = ['Инженер по тестированию ','QA engineer', 'Тестировщик', 'Тестировщик ПО','QA Engineer', 'QA Automation Engineer',\n",
        "         'Инженер по нагрузочному тестированию','Младший специалист ручного тестирования','QA инженер']\n",
        "for org_key in new_k:\n",
        "    test_dict[org_key] = 'Тестировщик'"
      ],
      "metadata": {
        "id": "V7eA2jNeAJFl"
      },
      "execution_count": null,
      "outputs": []
    },
    {
      "cell_type": "code",
      "source": [
        "web_dict = {}\n",
        "new_k = ['Web-программист', 'Web-разработчик','Веб-программист']\n",
        "for org_key in new_k:\n",
        "    web_dict[org_key] = 'Web-разработчик'"
      ],
      "metadata": {
        "id": "IAs8tcF0AKIc"
      },
      "execution_count": null,
      "outputs": []
    },
    {
      "cell_type": "code",
      "source": [
        "sec_dict = {}\n",
        "new_k = ['Главный специалист по информационной безопасности', 'Ведущий специалист по информационной безопасности',\n",
        "         'Специалист по защите информации', 'Специалист по информационной безопасности',\n",
        "         'Инженер по информационной безопасности', 'Инженер по защите информации']\n",
        "for org_key in new_k:\n",
        "    sec_dict[org_key] = 'Cпециалист по информационной безопасности'"
      ],
      "metadata": {
        "id": "r-4TvNSeALM8"
      },
      "execution_count": null,
      "outputs": []
    },
    {
      "cell_type": "code",
      "source": [
        "comp_dict = {}\n",
        "new_k = ['Компьютерный Мастер', 'Компьютерный мастер','Ученик компьютерного мастера']\n",
        "for org_key in new_k:\n",
        "    comp_dict[org_key] = 'Компьютерный мастер'"
      ],
      "metadata": {
        "id": "gmIsHHPbAM5M"
      },
      "execution_count": null,
      "outputs": []
    },
    {
      "cell_type": "code",
      "source": [
        "prod_dict = {}\n",
        "new_k = ['Менеджер по продукту (fashion, одежда) / Ведущий конструктор','Product manager', 'Продакт-менеджер', 'Менеджер по продукту','Product Owner', 'Product Manager']\n",
        "for org_key in new_k:\n",
        "    prod_dict[org_key] = 'Продакт-менеджер'"
      ],
      "metadata": {
        "id": "IGe7SUlVAOIc"
      },
      "execution_count": null,
      "outputs": []
    },
    {
      "cell_type": "code",
      "source": [
        "it_dict = {}\n",
        "new_k = ['IT-специалист', 'Специалист по IT','Специалист по информационным технологиям','ИТ-специалист']\n",
        "for org_key in new_k:\n",
        "    it_dict[org_key] = 'IT-специалист'"
      ],
      "metadata": {
        "id": "YiUEd-FZAPc8"
      },
      "execution_count": null,
      "outputs": []
    },
    {
      "cell_type": "code",
      "source": [
        "andr_dict = {}\n",
        "new_k = ['Android разработчик','Android Developer','Android developer','‎Android Developer']\n",
        "for org_key in new_k:\n",
        "    andr_dict[org_key] = 'Android-разработчик'"
      ],
      "metadata": {
        "id": "S_413ni2AQ71"
      },
      "execution_count": null,
      "outputs": []
    },
    {
      "cell_type": "code",
      "source": [
        "altc_dict = {}\n",
        "new_k = ['Старший аналитик','Аналитик','Бизнес-аналитик','Маркетолог-аналитик',\n",
        "         'Аналитик бизнес-процессов','Ведущий системный аналитик',\n",
        "         'Продуктовый аналитик','Аналитик отдела продаж','Аналитик данных', 'Data Analyst','Ведущий аналитик']\n",
        "for org_key in new_k:\n",
        "    altc_dict[org_key] = 'Аналитик'"
      ],
      "metadata": {
        "id": "zPLFzKnuASKE"
      },
      "execution_count": null,
      "outputs": []
    },
    {
      "cell_type": "code",
      "source": [
        "php_dict = {}\n",
        "new_k = ['PHP-разработчик', 'PHP-программист', 'PHP Developer']\n",
        "for org_key in new_k:\n",
        "    php_dict[org_key] = 'PHP-разработчик'"
      ],
      "metadata": {
        "id": "brWJ9GPLATb0"
      },
      "execution_count": null,
      "outputs": []
    },
    {
      "cell_type": "code",
      "source": [
        "java_dict = {}\n",
        "new_k = ['Java developer', 'Java Developer', 'Java-разработчик', 'Java разработчик']\n",
        "for org_key in new_k:\n",
        "    java_dict[org_key] = 'Java-разработчик'"
      ],
      "metadata": {
        "id": "OuDQlOSlAUi9"
      },
      "execution_count": null,
      "outputs": []
    },
    {
      "cell_type": "code",
      "source": [
        "anltc_one_c_dict = {}\n",
        "new_k = ['Аналитик 1С','Консультант 1С','Консультант-аналитик 1С']\n",
        "for org_key in new_k:\n",
        "    anltc_one_c_dict[org_key] = 'Аналитик 1С'"
      ],
      "metadata": {
        "id": "O3cVbY_bAVg8"
      },
      "execution_count": null,
      "outputs": []
    },
    {
      "cell_type": "code",
      "source": [
        "proger_dict = {}\n",
        "new_k = ['Ведущий специалист/программист (печатный сервис)','Программист микроконтроллеров','Инженер-программист микроконтроллеров','Ведущий программист', 'Программист', 'Техник-программист',\n",
        "         'Ведущий инженер-программист', 'Программист-разработчик', 'Разработчик (поисковая выдача)']\n",
        "for org_key in new_k:\n",
        "    proger_dict[org_key] = 'Программист'"
      ],
      "metadata": {
        "id": "2CYGioRKAW31"
      },
      "execution_count": null,
      "outputs": []
    },
    {
      "cell_type": "code",
      "source": [
        "pyth_dict = {}\n",
        "new_k = ['Программист Python','Python разработчик','Разработчик Python','Python Developer','Python developer']\n",
        "for org_key in new_k:\n",
        "    pyth_dict[org_key] = 'Python-разработчик'"
      ],
      "metadata": {
        "id": "WtMzXOohAYGU"
      },
      "execution_count": null,
      "outputs": []
    },
    {
      "cell_type": "code",
      "source": [
        "csharp_dict = {}\n",
        "new_k = ['Разработчик C#','Программист С#', 'Программист C#']\n",
        "for org_key in new_k:\n",
        "    csharp_dict[org_key] = 'C#-разработчик'"
      ],
      "metadata": {
        "id": "ek2wZHAdAZF0"
      },
      "execution_count": null,
      "outputs": []
    },
    {
      "cell_type": "code",
      "source": [
        "front_dict = {}\n",
        "new_k = ['Frontend-разработчик','Frontend-разработчик (Angular)','Frontend Developer', 'Frontend developer','Front-end разработчик']\n",
        "for org_key in new_k:\n",
        "    front_dict[org_key] = 'Frontend-разработчик'"
      ],
      "metadata": {
        "id": "p9XSKC8CAaGt"
      },
      "execution_count": null,
      "outputs": []
    },
    {
      "cell_type": "code",
      "source": [
        "ios_dict = {}\n",
        "new_k = ['IOS разработчик', 'IOS developer']\n",
        "for org_key in new_k:\n",
        "    ios_dict[org_key] = 'IOS-разработчик'"
      ],
      "metadata": {
        "id": "k7SELPfgAbC0"
      },
      "execution_count": null,
      "outputs": []
    },
    {
      "cell_type": "code",
      "source": [
        "dall = {}\n",
        "dall.update(one_c_dict)\n",
        "dall.update(pm_dict)\n",
        "dall.update(sys_adm_dict)\n",
        "dall.update(tech_supp_dict)\n",
        "dall.update(pmch_dict)\n",
        "dall.update(tech_wr_dict)\n",
        "dall.update(dev_ops_eng_dict)\n",
        "dall.update(test_dict)\n",
        "dall.update(web_dict)\n",
        "dall.update(sec_dict)\n",
        "dall.update(comp_dict)\n",
        "dall.update(prod_dict)\n",
        "dall.update(it_dict)\n",
        "dall.update(andr_dict)\n",
        "dall.update(altc_dict)\n",
        "dall.update(php_dict)\n",
        "dall.update(java_dict)\n",
        "dall.update(anltc_one_c_dict)\n",
        "dall.update(proger_dict)\n",
        "dall.update(pyth_dict)\n",
        "dall.update(csharp_dict)\n",
        "dall.update(front_dict)\n",
        "dall.update(ios_dict)"
      ],
      "metadata": {
        "id": "_sEdbPSmAcet"
      },
      "execution_count": null,
      "outputs": []
    },
    {
      "cell_type": "code",
      "source": [
        "dataset_reg = dataset_reg.replace({'name':dall})"
      ],
      "metadata": {
        "id": "Pnb7LRSGAfLu"
      },
      "execution_count": null,
      "outputs": []
    },
    {
      "cell_type": "markdown",
      "source": [
        "#3.Разделение JSON, приведение зп к числовому виду"
      ],
      "metadata": {
        "id": "vI-alajg7oOM"
      }
    },
    {
      "cell_type": "code",
      "source": [
        "import json\n",
        "def text_to_json(text):\n",
        "  try:\n",
        "    return json.loads(text.replace('\"', '').replace(\"'\", '\"'))\n",
        "  except:\n",
        "    return []\n",
        "dataset_reg['specializations_json'] = dataset_reg['specializations'].apply(text_to_json)"
      ],
      "metadata": {
        "id": "E5fcmoVqC8GU"
      },
      "execution_count": null,
      "outputs": []
    },
    {
      "cell_type": "code",
      "source": [
        "import json\n",
        "def text_to_json(text):\n",
        "  try:\n",
        "    return json.loads(text.replace('\"', '').replace(\"'\", '\"'))\n",
        "  except:\n",
        "    return []\n",
        "dataset_reg['snippet_json'] = dataset_reg['snippet'].apply(text_to_json)"
      ],
      "metadata": {
        "id": "xVqHiqdTes-6"
      },
      "execution_count": null,
      "outputs": []
    },
    {
      "cell_type": "code",
      "source": [
        "dataset_reg['snippet_json'] = dataset_reg['snippet'].fillna('{}').apply(eval)\n",
        "def get_values(json):\n",
        "  try:\n",
        "    return json['requirement']\n",
        "  except:\n",
        "    return None\n",
        "dataset_reg['Требования'] = dataset_reg['snippet_json'].apply(get_values)"
      ],
      "metadata": {
        "id": "oa_GZPCAgTwa"
      },
      "execution_count": null,
      "outputs": []
    },
    {
      "cell_type": "code",
      "source": [
        "dataset_reg['Требования']"
      ],
      "metadata": {
        "colab": {
          "base_uri": "https://localhost:8080/"
        },
        "id": "Q7ywQSHLiHqT",
        "outputId": "67b22d90-2ffe-4d0e-80d5-b82a94280c17"
      },
      "execution_count": null,
      "outputs": [
        {
          "output_type": "execute_result",
          "data": {
            "text/plain": [
              "0        Внимательны и наблюдательны. Уверенно пользует...\n",
              "1        Мы ищем талантливого и амбициозного тестировщи...\n",
              "2        Глубокие знания клиентских и серверных операци...\n",
              "3                      Средне-профессиональное или высшее.\n",
              "4        Медицинская комиссия, справка о наличие/отсутс...\n",
              "                               ...                        \n",
              "69651    Опыт разработки корпоративного ПО. Опыт работы...\n",
              "69652    Доброжелательность и отзывчивость к коллегам. ...\n",
              "69653    Знать нормативные и методические материалы по ...\n",
              "69654    Опыт работы с различными CMS (LAMP, Битрикс, L...\n",
              "69655    Знание английского языка не ниже среднего, вла...\n",
              "Name: Требования, Length: 69656, dtype: object"
            ]
          },
          "metadata": {},
          "execution_count": 48
        }
      ]
    },
    {
      "cell_type": "code",
      "source": [
        "dataset_reg['snippet_json'] = dataset_reg['snippet'].fillna('{}').apply(eval)\n",
        "def get_values(json):\n",
        "  try:\n",
        "    return json['responsibility']\n",
        "  except:\n",
        "    return None\n",
        "dataset_reg['Ответственность'] = dataset_reg['snippet_json'].apply(get_values)"
      ],
      "metadata": {
        "id": "OIuxFAebhFaK"
      },
      "execution_count": null,
      "outputs": []
    },
    {
      "cell_type": "code",
      "source": [
        "dataset_reg['Ответственность']"
      ],
      "metadata": {
        "colab": {
          "base_uri": "https://localhost:8080/"
        },
        "id": "UMV4EmHdiKfC",
        "outputId": "bd191e85-b54d-4eed-a02c-fc42ab172152"
      },
      "execution_count": null,
      "outputs": [
        {
          "output_type": "execute_result",
          "data": {
            "text/plain": [
              "0        В некоторых проектах Яндексу помогают компании...\n",
              "1        Написанием тест-кейсов по готовым требованиям....\n",
              "2        Консультации разработчиков относительно дорабо...\n",
              "3        Администрирование компьютерной сети. Организац...\n",
              "4        Обеспечивает бесперебойное функционирование об...\n",
              "                               ...                        \n",
              "69651    Написание и модификация программного кода при ...\n",
              "69652    Поддержка и доработка различных конфигураций н...\n",
              "69653    Руководить работниками отдела информационных т...\n",
              "69654    Поддержка и развитие инфраструктуры компании. ...\n",
              "69655    Руководство деятельностью отдела по защите инф...\n",
              "Name: Ответственность, Length: 69656, dtype: object"
            ]
          },
          "metadata": {},
          "execution_count": 50
        }
      ]
    },
    {
      "cell_type": "code",
      "source": [
        "def get_values(json):\n",
        "  try:\n",
        "    out = []\n",
        "    if len(json)>0:\n",
        "      for i in json:\n",
        "        out.append(i['id'])\n",
        "    return out\n",
        "  except:\n",
        "    return []\n",
        "dataset_reg['id_list'] = dataset_reg['specializations_json'].apply(get_values)"
      ],
      "metadata": {
        "id": "t-bF0wK3C7-8"
      },
      "execution_count": null,
      "outputs": []
    },
    {
      "cell_type": "code",
      "source": [
        "import json\n",
        "def text_to_json(text):\n",
        "  try:\n",
        "    return json.loads(text.replace('\"', '').replace(\"'\", '\"'))\n",
        "  except:\n",
        "    return []\n",
        "dataset_reg['key_skills_json'] = dataset_reg['key_skills'].apply(text_to_json)"
      ],
      "metadata": {
        "id": "AnDzk3DiC73M"
      },
      "execution_count": null,
      "outputs": []
    },
    {
      "cell_type": "code",
      "source": [
        "def get_values(json):\n",
        "  try:\n",
        "    out = []\n",
        "    if len(json)>0:\n",
        "      for i in json:\n",
        "        out.append(i['name'])\n",
        "    return out\n",
        "  except:\n",
        "    return []\n",
        "dataset_reg['Ключевые скиллы'] = dataset_reg['key_skills_json'].apply(get_values)"
      ],
      "metadata": {
        "id": "W91INem1C7d8"
      },
      "execution_count": null,
      "outputs": []
    },
    {
      "cell_type": "code",
      "source": [
        "def get_values(json):\n",
        "  try:\n",
        "    out = []\n",
        "    if len(json)>0:\n",
        "      for i in json:\n",
        "        out.append(i['name'])\n",
        "    return out\n",
        "  except:\n",
        "    return []\n",
        "dataset_reg['spec_list'] = dataset_reg['specializations_json'].apply(get_values)"
      ],
      "metadata": {
        "id": "cgg0GWPYDX5l"
      },
      "execution_count": null,
      "outputs": []
    },
    {
      "cell_type": "code",
      "source": [
        "def get_values(json):\n",
        "  try:\n",
        "    out = []\n",
        "    if len(json)>0:\n",
        "      for i in json:\n",
        "        out.append(i['profarea_name'])\n",
        "    return out\n",
        "  except:\n",
        "    return []\n",
        "dataset_reg['profarea_list'] = dataset_reg['specializations_json'].apply(get_values)"
      ],
      "metadata": {
        "id": "eg0MjdKeDeAt"
      },
      "execution_count": null,
      "outputs": []
    },
    {
      "cell_type": "code",
      "source": [
        "dataset_reg['experience_json'] = dataset_reg['experience'].fillna('{}').apply(eval)\n",
        "def get_values(json):\n",
        "  try:\n",
        "    return json['name']\n",
        "  except:\n",
        "    return None\n",
        "dataset_reg['Опыт работы'] = dataset_reg['experience_json'].apply(get_values)"
      ],
      "metadata": {
        "id": "MfvteBzCDiH9"
      },
      "execution_count": null,
      "outputs": []
    },
    {
      "cell_type": "code",
      "source": [
        "dataset_reg['schedule_json'] = dataset_reg['schedule'].fillna('{}').apply(eval)\n",
        "def get_values(json):\n",
        "  try:\n",
        "    return json['name']\n",
        "  except:\n",
        "    return None\n",
        "dataset_reg['График работы'] = dataset_reg['schedule_json'].apply(get_values)"
      ],
      "metadata": {
        "id": "_BfEJxPpDkWM"
      },
      "execution_count": null,
      "outputs": []
    },
    {
      "cell_type": "code",
      "source": [
        "dataset_reg['area_json'] = dataset_reg['area'].fillna('{}').apply(eval)\n",
        "def get_values(json):\n",
        "  try:\n",
        "    return json['name']\n",
        "  except:\n",
        "    return None\n",
        "dataset_reg['Город вакансии'] = dataset_reg['area_json'].apply(get_values)"
      ],
      "metadata": {
        "id": "TbfUn3DtDkT0"
      },
      "execution_count": null,
      "outputs": []
    },
    {
      "cell_type": "code",
      "source": [
        "dataset_reg['salary_json'] = dataset_reg['salary'].fillna('{}').apply(eval)\n",
        "def get_values(json):\n",
        "  try:\n",
        "    return json['to']\n",
        "  except:\n",
        "    return None\n",
        "dataset_reg['Максимальная зарплата'] = dataset_reg['salary_json'].apply(get_values)"
      ],
      "metadata": {
        "id": "HMt9mHJBDkOU"
      },
      "execution_count": null,
      "outputs": []
    },
    {
      "cell_type": "code",
      "source": [
        "dataset_reg['salary_json'] = dataset_reg['salary'].fillna('{}').apply(eval)\n",
        "def get_values(json):\n",
        "  try:\n",
        "    return json['from']\n",
        "  except:\n",
        "    return None\n",
        "dataset_reg['Минимальная зарплата'] = dataset_reg['salary_json'].apply(get_values)"
      ],
      "metadata": {
        "id": "60VH4hk9DyO1"
      },
      "execution_count": null,
      "outputs": []
    },
    {
      "cell_type": "code",
      "source": [
        "dataset_reg['salary_json'] = dataset_reg['salary'].fillna('{}').apply(eval)\n",
        "def get_values(json):\n",
        "  try:\n",
        "    return json['currency']\n",
        "  except:\n",
        "    return None\n",
        "dataset_reg['Валюта'] = dataset_reg['salary_json'].apply(get_values)"
      ],
      "metadata": {
        "id": "KC165J1gD06l"
      },
      "execution_count": null,
      "outputs": []
    },
    {
      "cell_type": "code",
      "source": [
        "dataset_reg['salary_json'] = dataset_reg['salary'].fillna('{}').apply(eval)\n",
        "def get_values(json):\n",
        "  try:\n",
        "    return json['gross']\n",
        "  except:\n",
        "    return None\n",
        "dataset_reg['НДФЛ'] = dataset_reg['salary_json'].apply(get_values)"
      ],
      "metadata": {
        "id": "TRdL_55-D2UN"
      },
      "execution_count": null,
      "outputs": []
    },
    {
      "cell_type": "code",
      "source": [
        "clear_ndfl = dataset_reg['НДФЛ'].replace({False: 1, True: 0.87})"
      ],
      "metadata": {
        "id": "fyQ9URo2D_-t"
      },
      "execution_count": null,
      "outputs": []
    },
    {
      "cell_type": "code",
      "source": [
        "dataset_reg['Чистый НДФЛ'] = clear_ndfl"
      ],
      "metadata": {
        "id": "jlZIop9eEBXd"
      },
      "execution_count": null,
      "outputs": []
    },
    {
      "cell_type": "code",
      "source": [
        "rates = dict(RUR=1, USD=53, EUR=56, KZT=0.12)\n",
        "dataset_reg['Минимальная ЗП в рублях'] = dataset_reg['Валюта'].map(rates)*dataset_reg['Минимальная зарплата']*dataset_reg['Чистый НДФЛ']"
      ],
      "metadata": {
        "id": "p9Aw9KvQECnN"
      },
      "execution_count": null,
      "outputs": []
    },
    {
      "cell_type": "code",
      "source": [
        "dataset_reg['Максимальная ЗП в рублях'] = dataset_reg['Валюта'].map(rates)*dataset_reg['Максимальная зарплата']*dataset_reg['Чистый НДФЛ']"
      ],
      "metadata": {
        "id": "fJ7oCouLED8U"
      },
      "execution_count": null,
      "outputs": []
    },
    {
      "cell_type": "code",
      "source": [
        "dataset_reg['Средняя ЗП в рублях'] = dataset_reg[['Минимальная ЗП в рублях', 'Максимальная ЗП в рублях']].mean(axis=1)"
      ],
      "metadata": {
        "id": "eOzweZg1EFO0"
      },
      "execution_count": null,
      "outputs": []
    },
    {
      "cell_type": "code",
      "source": [
        "skills = dataset_reg['Ключевые скиллы']"
      ],
      "metadata": {
        "id": "MKnfhiVTD4VF"
      },
      "execution_count": null,
      "outputs": []
    },
    {
      "cell_type": "code",
      "source": [
        "def get_number_of_elements(skills):\n",
        "    count = 0\n",
        "    for element in skills:\n",
        "        count += 1\n",
        "    return count"
      ],
      "metadata": {
        "id": "xqvw47a_D5yF"
      },
      "execution_count": null,
      "outputs": []
    },
    {
      "cell_type": "code",
      "source": [
        "dataset_reg['Количество скиллов'] = skills.apply(get_number_of_elements)"
      ],
      "metadata": {
        "id": "ad3DJ3IED7ZN"
      },
      "execution_count": null,
      "outputs": []
    },
    {
      "cell_type": "code",
      "source": [
        "dataset_reg.info()"
      ],
      "metadata": {
        "colab": {
          "base_uri": "https://localhost:8080/"
        },
        "id": "mkIv_Lq58VJ1",
        "outputId": "c64c4773-768a-44fe-98ac-cc36df84b2e7"
      },
      "execution_count": null,
      "outputs": [
        {
          "output_type": "stream",
          "name": "stdout",
          "text": [
            "<class 'pandas.core.frame.DataFrame'>\n",
            "RangeIndex: 69656 entries, 0 to 69655\n",
            "Data columns (total 60 columns):\n",
            " #   Column                    Non-Null Count  Dtype  \n",
            "---  ------                    --------------  -----  \n",
            " 0   Unnamed: 0                69656 non-null  int64  \n",
            " 1   id                        69656 non-null  int64  \n",
            " 2   premium                   69656 non-null  bool   \n",
            " 3   name                      69656 non-null  object \n",
            " 4   department                5263 non-null   object \n",
            " 5   has_test                  69656 non-null  bool   \n",
            " 6   response_letter_required  69656 non-null  bool   \n",
            " 7   area                      69656 non-null  object \n",
            " 8   salary                    37590 non-null  object \n",
            " 9   type                      69656 non-null  object \n",
            " 10  address                   40318 non-null  object \n",
            " 11  response_url              1 non-null      object \n",
            " 12  sort_point_distance       0 non-null      float64\n",
            " 13  published_at              69656 non-null  object \n",
            " 14  created_at                69656 non-null  object \n",
            " 15  archived                  69656 non-null  bool   \n",
            " 16  insider_interview         522 non-null    object \n",
            " 17  url                       69656 non-null  object \n",
            " 18  alternate_url             69656 non-null  object \n",
            " 19  relations                 69656 non-null  object \n",
            " 20  employer                  69656 non-null  object \n",
            " 21  snippet                   69656 non-null  object \n",
            " 22  contacts                  35114 non-null  object \n",
            " 23  schedule                  69656 non-null  object \n",
            " 24  working_days              69656 non-null  object \n",
            " 25  working_time_intervals    69656 non-null  object \n",
            " 26  working_time_modes        69656 non-null  object \n",
            " 27  accept_temporary          69656 non-null  bool   \n",
            " 28  description               69656 non-null  object \n",
            " 29  experience                69656 non-null  object \n",
            " 30  key_skills                69656 non-null  object \n",
            " 31  specializations           69656 non-null  object \n",
            " 32  region                    69656 non-null  object \n",
            " 33  immediate_redirect_url    1 non-null      object \n",
            " 34  Федеральный округ         69656 non-null  object \n",
            " 35  specializations_json      69656 non-null  object \n",
            " 36  snippet_json              69656 non-null  object \n",
            " 37  Требования                68467 non-null  object \n",
            " 38  Ответственность           68062 non-null  object \n",
            " 39  id_list                   69656 non-null  object \n",
            " 40  key_skills_json           69656 non-null  object \n",
            " 41  Ключевые скиллы           69656 non-null  object \n",
            " 42  spec_list                 69656 non-null  object \n",
            " 43  profarea_list             69656 non-null  object \n",
            " 44  experience_json           69656 non-null  object \n",
            " 45  Опыт работы               69656 non-null  object \n",
            " 46  schedule_json             69656 non-null  object \n",
            " 47  График работы             69656 non-null  object \n",
            " 48  area_json                 69656 non-null  object \n",
            " 49  Город вакансии            69656 non-null  object \n",
            " 50  salary_json               69656 non-null  object \n",
            " 51  Максимальная зарплата     19956 non-null  float64\n",
            " 52  Минимальная зарплата      34074 non-null  float64\n",
            " 53  Валюта                    37590 non-null  object \n",
            " 54  НДФЛ                      37575 non-null  object \n",
            " 55  Чистый НДФЛ               37575 non-null  float64\n",
            " 56  Минимальная ЗП в рублях   34059 non-null  float64\n",
            " 57  Максимальная ЗП в рублях  19946 non-null  float64\n",
            " 58  Средняя ЗП в рублях       37575 non-null  float64\n",
            " 59  Количество скиллов        69656 non-null  int64  \n",
            "dtypes: bool(5), float64(7), int64(3), object(45)\n",
            "memory usage: 29.6+ MB\n"
          ]
        }
      ]
    },
    {
      "cell_type": "code",
      "source": [
        "df = dataset_reg.drop_duplicates(subset = ['id'], keep='last')"
      ],
      "metadata": {
        "id": "f3CDoTNz-P8X"
      },
      "execution_count": null,
      "outputs": []
    },
    {
      "cell_type": "code",
      "source": [
        "dff = df.apply(lambda x: x.replace({'python': 'Python', 'python 3': 'Python', 'sql':'SQL', 'git':'GIT', 'Git':'GIT', 'Арт директор': 'Арт-директор'}, regex=True))"
      ],
      "metadata": {
        "id": "xnVmiRxo-i1V"
      },
      "execution_count": null,
      "outputs": []
    },
    {
      "cell_type": "code",
      "source": [
        "dff_2 = dff[['name', 'specializations', 'Федеральный округ','Ключевые скиллы', 'Опыт работы', 'График работы', 'Город вакансии', 'Минимальная ЗП в рублях', 'Максимальная ЗП в рублях', 'Средняя ЗП в рублях', 'Количество скиллов', 'spec_list','Требования','Ответственность']]"
      ],
      "metadata": {
        "id": "t4vSCLpS-uL0"
      },
      "execution_count": null,
      "outputs": []
    },
    {
      "cell_type": "code",
      "source": [
        "dff_2 = dff_2[dff_2['specializations'].str.contains(\"Информационные технологии\", na=False)]"
      ],
      "metadata": {
        "id": "z224eajd-2cU"
      },
      "execution_count": null,
      "outputs": []
    },
    {
      "cell_type": "code",
      "source": [
        "dff_2.info()"
      ],
      "metadata": {
        "colab": {
          "base_uri": "https://localhost:8080/"
        },
        "id": "8yF8kzZA-5G1",
        "outputId": "6f0a6324-c26d-431a-bb9e-a0a7ffd7064e"
      },
      "execution_count": null,
      "outputs": [
        {
          "output_type": "stream",
          "name": "stdout",
          "text": [
            "<class 'pandas.core.frame.DataFrame'>\n",
            "Int64Index: 50209 entries, 0 to 69655\n",
            "Data columns (total 14 columns):\n",
            " #   Column                    Non-Null Count  Dtype  \n",
            "---  ------                    --------------  -----  \n",
            " 0   name                      50209 non-null  object \n",
            " 1   specializations           50209 non-null  object \n",
            " 2   Федеральный округ         50209 non-null  object \n",
            " 3   Ключевые скиллы           50209 non-null  object \n",
            " 4   Опыт работы               50209 non-null  object \n",
            " 5   График работы             50209 non-null  object \n",
            " 6   Город вакансии            50209 non-null  object \n",
            " 7   Минимальная ЗП в рублях   20150 non-null  float64\n",
            " 8   Максимальная ЗП в рублях  11847 non-null  float64\n",
            " 9   Средняя ЗП в рублях       22646 non-null  float64\n",
            " 10  Количество скиллов        50209 non-null  int64  \n",
            " 11  spec_list                 50209 non-null  object \n",
            " 12  Требования                49790 non-null  object \n",
            " 13  Ответственность           49287 non-null  object \n",
            "dtypes: float64(3), int64(1), object(10)\n",
            "memory usage: 5.7+ MB\n"
          ]
        }
      ]
    },
    {
      "cell_type": "markdown",
      "source": [
        "#4.Унификация скиллов для выделения профессиональных групп"
      ],
      "metadata": {
        "id": "OYsoMrKt_61l"
      }
    },
    {
      "cell_type": "code",
      "source": [
        "dff_3 = dff_2[dff_2['Ключевые скиллы'].map(lambda d: len(d)) > 0]"
      ],
      "metadata": {
        "id": "bmuxOWDR_Hfd"
      },
      "execution_count": null,
      "outputs": []
    },
    {
      "cell_type": "code",
      "source": [
        "dff_3['Number'] = np.arange(len(dff_3))"
      ],
      "metadata": {
        "colab": {
          "base_uri": "https://localhost:8080/"
        },
        "id": "EsSC4hteBmsu",
        "outputId": "99d6f280-d08e-4522-de0a-44fe3dd7197f"
      },
      "execution_count": null,
      "outputs": [
        {
          "output_type": "stream",
          "name": "stderr",
          "text": [
            "<ipython-input-91-088b9133ffad>:1: SettingWithCopyWarning: \n",
            "A value is trying to be set on a copy of a slice from a DataFrame.\n",
            "Try using .loc[row_indexer,col_indexer] = value instead\n",
            "\n",
            "See the caveats in the documentation: https://pandas.pydata.org/pandas-docs/stable/user_guide/indexing.html#returning-a-view-versus-a-copy\n",
            "  dff_3['Number'] = np.arange(len(dff_3))\n"
          ]
        }
      ]
    },
    {
      "cell_type": "code",
      "source": [
        "dff_4 = dff_3.explode('Ключевые скиллы')"
      ],
      "metadata": {
        "id": "g-1jQT1Y_PNN"
      },
      "execution_count": null,
      "outputs": []
    },
    {
      "cell_type": "code",
      "source": [
        "dff5 = dff_4.apply(lambda x: x.replace({'python': 'Python', 'python 3': 'Python', \n",
        "                                        'sql':'SQL', 'git':'GIT', 'Git':'GIT', 'Арт-директор':'Арт-директор', 'Арт директор':'Арт-директор'}, regex=True))"
      ],
      "metadata": {
        "id": "HC_vlvRO_bEe"
      },
      "execution_count": null,
      "outputs": []
    },
    {
      "cell_type": "code",
      "source": [
        "dff5['Ключевые скиллы'].str.contains('photo').value_counts()"
      ],
      "metadata": {
        "colab": {
          "base_uri": "https://localhost:8080/"
        },
        "id": "I59E4jJT_Sal",
        "outputId": "81d7dfd6-04cf-415f-f653-0e5c21a7f562"
      },
      "execution_count": null,
      "outputs": [
        {
          "output_type": "execute_result",
          "data": {
            "text/plain": [
              "False    264579\n",
              "Name: Ключевые скиллы, dtype: int64"
            ]
          },
          "metadata": {},
          "execution_count": 94
        }
      ]
    },
    {
      "cell_type": "code",
      "source": [
        "html = ['HTML', 'HTML5', 'HTML 5', 'HTML (html5)/CSS (css3)', '5 HTML', 'HTML5/CSS',\n",
        "        'HTML/CSS', 'HTML-верстка', 'HTML5+',\n",
        "        'Базовые знания HTML', 'Основы HTML', 'Базовые знания HTML и CSS']\n",
        "def htmll(val):\n",
        "  for i in html:\n",
        "    if i in val:\n",
        "        val = 'HTML'\n",
        "  return val\n",
        "  \n",
        "dff5['Ключевые скиллы'] = dff5['Ключевые скиллы'].apply(htmll)"
      ],
      "metadata": {
        "id": "pEvyxC8ELQk2"
      },
      "execution_count": null,
      "outputs": []
    },
    {
      "cell_type": "code",
      "source": [
        "photo = ['Adobe Photoshop', 'Photoshop', ]\n",
        "def pth(val):\n",
        "  for i in photo:\n",
        "    if i in val:\n",
        "        val = 'Adobe Photoshop'\n",
        "  return val\n",
        "  \n",
        "dff5['Ключевые скиллы'] = dff5['Ключевые скиллы'].apply(pth)"
      ],
      "metadata": {
        "id": "7RImSfJOWQ1F"
      },
      "execution_count": null,
      "outputs": []
    },
    {
      "cell_type": "code",
      "source": [
        "english = ['Английский язык', 'Английский язык (Intermediate)', \n",
        "           'Английский язык (Upper-Intermediate)', 'Разговорный английский', \n",
        "           'Английский язык pre-intermediate', \n",
        "           'Английский — B2 — Средне-продвинутый', 'Технический английский язык', 'Английский — B1 — Средний',\n",
        "           'Английский — A1 — Начальный', 'Английский — A2 — Элементарный', 'Английский — C1 — Продвинутый', 'Английский']\n",
        "def engl(val):\n",
        "  for i in english:\n",
        "    if i in val:\n",
        "        val = 'Английский язык'\n",
        "  return val\n",
        "  \n",
        "dff5['Ключевые скиллы'] = dff5['Ключевые скиллы'].apply(engl)"
      ],
      "metadata": {
        "id": "u-6IWMEhWQvg"
      },
      "execution_count": null,
      "outputs": []
    },
    {
      "cell_type": "code",
      "source": [
        "sql = ['SQL','PostgreSQL', 'PgSQL', 'PosgreSQL', 'PostrgeSQL',\n",
        "       'PostgeSQL','Опыт работы c СУБД PostgreeSQL', 'Flash MySQL', \n",
        "       'PL SQL;','Администрирование PostgreSQL']\n",
        "def sqll(val):\n",
        "  for i in sql:\n",
        "    if i in val:\n",
        "        val = 'SQL'\n",
        "  return val\n",
        "  \n",
        "dff5['Ключевые скиллы'] = dff5['Ключевые скиллы'].apply(sqll)"
      ],
      "metadata": {
        "id": "4SaipDIHLQf2"
      },
      "execution_count": null,
      "outputs": []
    },
    {
      "cell_type": "code",
      "source": [
        "unix = ['*nix-системы', 'Unix', 'Unix-like систем', 'NixOS', '*nix', \n",
        "        'Unix-системы', 'NIX системы', '*NIX', \n",
        "        '• Опыт администрирования Windows и Unix– систем и/или сетевого оборудования;',\n",
        "        'Unix ОС', 'Unix-like', '*NIX-системы', 'Nix', '*nix-системы', '*nix системы'\n",
        "        'nix*', 'Администрирование nix систем']\n",
        "def unixx(val):\n",
        "  for i in unix:\n",
        "    if i in val:\n",
        "        val = 'Unix'\n",
        "  return val\n",
        "  \n",
        "dff5['Ключевые скиллы'] = dff5['Ключевые скиллы'].apply(unixx)"
      ],
      "metadata": {
        "id": "XOokgHOTLQdW"
      },
      "execution_count": null,
      "outputs": []
    },
    {
      "cell_type": "code",
      "source": [
        "df_11 = (dff5.groupby(['Number']).agg({'Ключевые скиллы':lambda x: x.tolist()}))"
      ],
      "metadata": {
        "id": "qCu2KcuRBbam"
      },
      "execution_count": null,
      "outputs": []
    },
    {
      "cell_type": "code",
      "source": [
        "df_11['Number_1'] = np.arange(len(df_11))"
      ],
      "metadata": {
        "id": "T8kHXTzgB4qV"
      },
      "execution_count": null,
      "outputs": []
    },
    {
      "cell_type": "code",
      "source": [
        "new_dict = dict(zip(df_11['Number_1'], df_11['Ключевые скиллы']))"
      ],
      "metadata": {
        "id": "PxD7wrCBB7wl"
      },
      "execution_count": null,
      "outputs": []
    },
    {
      "cell_type": "code",
      "source": [
        "dff_3['Исправленные скиллы'] = dff_3['Number'].map(new_dict)"
      ],
      "metadata": {
        "colab": {
          "base_uri": "https://localhost:8080/"
        },
        "id": "tDrcoCxaB-a1",
        "outputId": "22f27e84-31a8-4fe9-cccb-6853487ebf26"
      },
      "execution_count": null,
      "outputs": [
        {
          "output_type": "stream",
          "name": "stderr",
          "text": [
            "<ipython-input-103-5db31cb5dd8a>:1: SettingWithCopyWarning: \n",
            "A value is trying to be set on a copy of a slice from a DataFrame.\n",
            "Try using .loc[row_indexer,col_indexer] = value instead\n",
            "\n",
            "See the caveats in the documentation: https://pandas.pydata.org/pandas-docs/stable/user_guide/indexing.html#returning-a-view-versus-a-copy\n",
            "  dff_3['Исправленные скиллы'] = dff_3['Number'].map(new_dict)\n"
          ]
        }
      ]
    },
    {
      "cell_type": "code",
      "source": [
        "dff_10 = dff_3.rename(columns={\"name\": \"Вакансия\", \"Исправленные скиллы\": \"Требуемые навыки\", \"spec_list\":'Специализация'})"
      ],
      "metadata": {
        "id": "hGT2gdemCBX9"
      },
      "execution_count": null,
      "outputs": []
    },
    {
      "cell_type": "code",
      "source": [
        "df_vis = dff_10[['Вакансия','Федеральный округ','Опыт работы', 'График работы', 'Город вакансии', 'Минимальная ЗП в рублях', 'Максимальная ЗП в рублях', 'Средняя ЗП в рублях','Специализация','Требуемые навыки','Количество скиллов','Требования','Ответственность']]"
      ],
      "metadata": {
        "id": "88HuplzGCDnd"
      },
      "execution_count": null,
      "outputs": []
    },
    {
      "cell_type": "code",
      "source": [
        "df_vis"
      ],
      "metadata": {
        "colab": {
          "base_uri": "https://localhost:8080/",
          "height": 832
        },
        "id": "_lOPWSOfWDof",
        "outputId": "6e713145-c4d4-4cf9-8792-f982abb5d855"
      },
      "execution_count": null,
      "outputs": [
        {
          "output_type": "execute_result",
          "data": {
            "text/plain": [
              "                                                Вакансия  \\\n",
              "1                                            Тестировщик   \n",
              "2                                              Пентестер   \n",
              "3       Ведущий Специалист по информационным технологиям   \n",
              "4              Cпециалист по информационной безопасности   \n",
              "6       Ведущий специалист по информационным технологиям   \n",
              "...                                                  ...   \n",
              "69649                                    C++-разработчик   \n",
              "69650                                     Программист 1С   \n",
              "69652                                     Программист 1С   \n",
              "69653         Начальник отдела информационных технологий   \n",
              "69655  Начальник отдела по защите информации и информ...   \n",
              "\n",
              "                   Федеральный округ         Опыт работы График работы  \\\n",
              "1            Южный федеральный округ  От 1 года до 3 лет   Полный день   \n",
              "2            Южный федеральный округ       От 3 до 6 лет   Полный день   \n",
              "3            Южный федеральный округ           Нет опыта   Полный день   \n",
              "4            Южный федеральный округ           Нет опыта   Полный день   \n",
              "6            Южный федеральный округ       От 3 до 6 лет   Полный день   \n",
              "...                              ...                 ...           ...   \n",
              "69649  Центральный федеральный округ       От 3 до 6 лет   Полный день   \n",
              "69650  Центральный федеральный округ  От 1 года до 3 лет   Полный день   \n",
              "69652  Центральный федеральный округ  От 1 года до 3 лет   Полный день   \n",
              "69653  Центральный федеральный округ  От 1 года до 3 лет   Полный день   \n",
              "69655  Центральный федеральный округ         Более 6 лет   Полный день   \n",
              "\n",
              "      Город вакансии  Минимальная ЗП в рублях  Максимальная ЗП в рублях  \\\n",
              "1          Астрахань                  21750.0                   43500.0   \n",
              "2          Астрахань                      NaN                       NaN   \n",
              "3          Астрахань                  22620.0                       NaN   \n",
              "4          Астрахань                  20000.0                   20000.0   \n",
              "6          Астрахань                      NaN                       NaN   \n",
              "...              ...                      ...                       ...   \n",
              "69649           Тула                      NaN                  250000.0   \n",
              "69650           Тула                      NaN                       NaN   \n",
              "69652           Тула                 130000.0                       NaN   \n",
              "69653           Тула                  50000.0                       NaN   \n",
              "69655           Тула                      NaN                       NaN   \n",
              "\n",
              "       Средняя ЗП в рублях                                      Специализация  \\\n",
              "1                  32625.0  [Программирование, Разработка, Инженер, Тестир...   \n",
              "2                      NaN  [Программирование, Разработка, Инженер, Тестир...   \n",
              "3                  22620.0  [Компьютерная безопасность, Сетевые технологии...   \n",
              "4                  20000.0  [Компьютерная безопасность, Сетевые технологии...   \n",
              "6                      NaN  [Компьютерная безопасность, Сетевые технологии...   \n",
              "...                    ...                                                ...   \n",
              "69649             250000.0  [Программирование, Разработка, Системы управле...   \n",
              "69650                  NaN  [Программирование, Разработка, Системы управле...   \n",
              "69652             130000.0  [Программирование, Разработка, Системы управле...   \n",
              "69653              50000.0  [Информационные технологии, Интернет, Мультиме...   \n",
              "69655                  NaN  [Информационные технологии, Интернет, Мультиме...   \n",
              "\n",
              "                                        Требуемые навыки  Количество скиллов  \\\n",
              "1                      [GIT, SQL, Тестирование, C#, API]                   5   \n",
              "2      [SQL, Linux, Информационная безопасность, Рабо...                   5   \n",
              "3      [Пользователь ПК, Работа в команде, 1С: Предпр...                   5   \n",
              "4      [MS Dos, Диагностика ПК, Компьютер, Работа в у...                   8   \n",
              "6      [Администрирование сетевого оборудования, Заку...                   5   \n",
              "...                                                  ...                 ...   \n",
              "69649                      [STL, C/C++, C++, ООП, Boost]                   5   \n",
              "69650  [1С программирование, Обновление конфигурации ...                   5   \n",
              "69652  [1С: Управление Торговлей, 1С: Предприятие 8, ...                   5   \n",
              "69653  [Организаторские навыки, Работа в команде, Упр...                   7   \n",
              "69655  [Информационная безопасность, Аудит безопаснос...                   5   \n",
              "\n",
              "                                              Требования  \\\n",
              "1      Мы ищем талантливого и амбициозного тестировщи...   \n",
              "2      Глубокие знания клиентских и серверных операци...   \n",
              "3                    Средне-профессиональное или высшее.   \n",
              "4      Медицинская комиссия, справка о наличие/отсутс...   \n",
              "6      Высшее профессиональное (техническое) образова...   \n",
              "...                                                  ...   \n",
              "69649  Общий опыт программирования – не менее 5лет. В...   \n",
              "69650  Высшее профессиональное образование. Опыт сопр...   \n",
              "69652  Доброжелательность и отзывчивость к коллегам. ...   \n",
              "69653  Знать нормативные и методические материалы по ...   \n",
              "69655  Знание английского языка не ниже среднего, вла...   \n",
              "\n",
              "                                         Ответственность  \n",
              "1      Написанием тест-кейсов по готовым требованиям....  \n",
              "2      Консультации разработчиков относительно дорабо...  \n",
              "3      Администрирование компьютерной сети. Организац...  \n",
              "4      Обеспечивает бесперебойное функционирование об...  \n",
              "6      1. Обеспечение работы локальной вычислительной...  \n",
              "...                                                  ...  \n",
              "69649                                               None  \n",
              "69650  Поддержка и внедрение систем на платформе 1С v...  \n",
              "69652  Поддержка и доработка различных конфигураций н...  \n",
              "69653  Руководить работниками отдела информационных т...  \n",
              "69655  Руководство деятельностью отдела по защите инф...  \n",
              "\n",
              "[41547 rows x 13 columns]"
            ],
            "text/html": [
              "\n",
              "  <div id=\"df-840333a0-30cd-4bec-8465-6ef27b3668a0\">\n",
              "    <div class=\"colab-df-container\">\n",
              "      <div>\n",
              "<style scoped>\n",
              "    .dataframe tbody tr th:only-of-type {\n",
              "        vertical-align: middle;\n",
              "    }\n",
              "\n",
              "    .dataframe tbody tr th {\n",
              "        vertical-align: top;\n",
              "    }\n",
              "\n",
              "    .dataframe thead th {\n",
              "        text-align: right;\n",
              "    }\n",
              "</style>\n",
              "<table border=\"1\" class=\"dataframe\">\n",
              "  <thead>\n",
              "    <tr style=\"text-align: right;\">\n",
              "      <th></th>\n",
              "      <th>Вакансия</th>\n",
              "      <th>Федеральный округ</th>\n",
              "      <th>Опыт работы</th>\n",
              "      <th>График работы</th>\n",
              "      <th>Город вакансии</th>\n",
              "      <th>Минимальная ЗП в рублях</th>\n",
              "      <th>Максимальная ЗП в рублях</th>\n",
              "      <th>Средняя ЗП в рублях</th>\n",
              "      <th>Специализация</th>\n",
              "      <th>Требуемые навыки</th>\n",
              "      <th>Количество скиллов</th>\n",
              "      <th>Требования</th>\n",
              "      <th>Ответственность</th>\n",
              "    </tr>\n",
              "  </thead>\n",
              "  <tbody>\n",
              "    <tr>\n",
              "      <th>1</th>\n",
              "      <td>Тестировщик</td>\n",
              "      <td>Южный федеральный округ</td>\n",
              "      <td>От 1 года до 3 лет</td>\n",
              "      <td>Полный день</td>\n",
              "      <td>Астрахань</td>\n",
              "      <td>21750.0</td>\n",
              "      <td>43500.0</td>\n",
              "      <td>32625.0</td>\n",
              "      <td>[Программирование, Разработка, Инженер, Тестир...</td>\n",
              "      <td>[GIT, SQL, Тестирование, C#, API]</td>\n",
              "      <td>5</td>\n",
              "      <td>Мы ищем талантливого и амбициозного тестировщи...</td>\n",
              "      <td>Написанием тест-кейсов по готовым требованиям....</td>\n",
              "    </tr>\n",
              "    <tr>\n",
              "      <th>2</th>\n",
              "      <td>Пентестер</td>\n",
              "      <td>Южный федеральный округ</td>\n",
              "      <td>От 3 до 6 лет</td>\n",
              "      <td>Полный день</td>\n",
              "      <td>Астрахань</td>\n",
              "      <td>NaN</td>\n",
              "      <td>NaN</td>\n",
              "      <td>NaN</td>\n",
              "      <td>[Программирование, Разработка, Инженер, Тестир...</td>\n",
              "      <td>[SQL, Linux, Информационная безопасность, Рабо...</td>\n",
              "      <td>5</td>\n",
              "      <td>Глубокие знания клиентских и серверных операци...</td>\n",
              "      <td>Консультации разработчиков относительно дорабо...</td>\n",
              "    </tr>\n",
              "    <tr>\n",
              "      <th>3</th>\n",
              "      <td>Ведущий Специалист по информационным технологиям</td>\n",
              "      <td>Южный федеральный округ</td>\n",
              "      <td>Нет опыта</td>\n",
              "      <td>Полный день</td>\n",
              "      <td>Астрахань</td>\n",
              "      <td>22620.0</td>\n",
              "      <td>NaN</td>\n",
              "      <td>22620.0</td>\n",
              "      <td>[Компьютерная безопасность, Сетевые технологии...</td>\n",
              "      <td>[Пользователь ПК, Работа в команде, 1С: Предпр...</td>\n",
              "      <td>5</td>\n",
              "      <td>Средне-профессиональное или высшее.</td>\n",
              "      <td>Администрирование компьютерной сети. Организац...</td>\n",
              "    </tr>\n",
              "    <tr>\n",
              "      <th>4</th>\n",
              "      <td>Cпециалист по информационной безопасности</td>\n",
              "      <td>Южный федеральный округ</td>\n",
              "      <td>Нет опыта</td>\n",
              "      <td>Полный день</td>\n",
              "      <td>Астрахань</td>\n",
              "      <td>20000.0</td>\n",
              "      <td>20000.0</td>\n",
              "      <td>20000.0</td>\n",
              "      <td>[Компьютерная безопасность, Сетевые технологии...</td>\n",
              "      <td>[MS Dos, Диагностика ПК, Компьютер, Работа в у...</td>\n",
              "      <td>8</td>\n",
              "      <td>Медицинская комиссия, справка о наличие/отсутс...</td>\n",
              "      <td>Обеспечивает бесперебойное функционирование об...</td>\n",
              "    </tr>\n",
              "    <tr>\n",
              "      <th>6</th>\n",
              "      <td>Ведущий специалист по информационным технологиям</td>\n",
              "      <td>Южный федеральный округ</td>\n",
              "      <td>От 3 до 6 лет</td>\n",
              "      <td>Полный день</td>\n",
              "      <td>Астрахань</td>\n",
              "      <td>NaN</td>\n",
              "      <td>NaN</td>\n",
              "      <td>NaN</td>\n",
              "      <td>[Компьютерная безопасность, Сетевые технологии...</td>\n",
              "      <td>[Администрирование сетевого оборудования, Заку...</td>\n",
              "      <td>5</td>\n",
              "      <td>Высшее профессиональное (техническое) образова...</td>\n",
              "      <td>1. Обеспечение работы локальной вычислительной...</td>\n",
              "    </tr>\n",
              "    <tr>\n",
              "      <th>...</th>\n",
              "      <td>...</td>\n",
              "      <td>...</td>\n",
              "      <td>...</td>\n",
              "      <td>...</td>\n",
              "      <td>...</td>\n",
              "      <td>...</td>\n",
              "      <td>...</td>\n",
              "      <td>...</td>\n",
              "      <td>...</td>\n",
              "      <td>...</td>\n",
              "      <td>...</td>\n",
              "      <td>...</td>\n",
              "      <td>...</td>\n",
              "    </tr>\n",
              "    <tr>\n",
              "      <th>69649</th>\n",
              "      <td>C++-разработчик</td>\n",
              "      <td>Центральный федеральный округ</td>\n",
              "      <td>От 3 до 6 лет</td>\n",
              "      <td>Полный день</td>\n",
              "      <td>Тула</td>\n",
              "      <td>NaN</td>\n",
              "      <td>250000.0</td>\n",
              "      <td>250000.0</td>\n",
              "      <td>[Программирование, Разработка, Системы управле...</td>\n",
              "      <td>[STL, C/C++, C++, ООП, Boost]</td>\n",
              "      <td>5</td>\n",
              "      <td>Общий опыт программирования – не менее 5лет. В...</td>\n",
              "      <td>None</td>\n",
              "    </tr>\n",
              "    <tr>\n",
              "      <th>69650</th>\n",
              "      <td>Программист 1С</td>\n",
              "      <td>Центральный федеральный округ</td>\n",
              "      <td>От 1 года до 3 лет</td>\n",
              "      <td>Полный день</td>\n",
              "      <td>Тула</td>\n",
              "      <td>NaN</td>\n",
              "      <td>NaN</td>\n",
              "      <td>NaN</td>\n",
              "      <td>[Программирование, Разработка, Системы управле...</td>\n",
              "      <td>[1С программирование, Обновление конфигурации ...</td>\n",
              "      <td>5</td>\n",
              "      <td>Высшее профессиональное образование. Опыт сопр...</td>\n",
              "      <td>Поддержка и внедрение систем на платформе 1С v...</td>\n",
              "    </tr>\n",
              "    <tr>\n",
              "      <th>69652</th>\n",
              "      <td>Программист 1С</td>\n",
              "      <td>Центральный федеральный округ</td>\n",
              "      <td>От 1 года до 3 лет</td>\n",
              "      <td>Полный день</td>\n",
              "      <td>Тула</td>\n",
              "      <td>130000.0</td>\n",
              "      <td>NaN</td>\n",
              "      <td>130000.0</td>\n",
              "      <td>[Программирование, Разработка, Системы управле...</td>\n",
              "      <td>[1С: Управление Торговлей, 1С: Предприятие 8, ...</td>\n",
              "      <td>5</td>\n",
              "      <td>Доброжелательность и отзывчивость к коллегам. ...</td>\n",
              "      <td>Поддержка и доработка различных конфигураций н...</td>\n",
              "    </tr>\n",
              "    <tr>\n",
              "      <th>69653</th>\n",
              "      <td>Начальник отдела информационных технологий</td>\n",
              "      <td>Центральный федеральный округ</td>\n",
              "      <td>От 1 года до 3 лет</td>\n",
              "      <td>Полный день</td>\n",
              "      <td>Тула</td>\n",
              "      <td>50000.0</td>\n",
              "      <td>NaN</td>\n",
              "      <td>50000.0</td>\n",
              "      <td>[Информационные технологии, Интернет, Мультиме...</td>\n",
              "      <td>[Организаторские навыки, Работа в команде, Упр...</td>\n",
              "      <td>7</td>\n",
              "      <td>Знать нормативные и методические материалы по ...</td>\n",
              "      <td>Руководить работниками отдела информационных т...</td>\n",
              "    </tr>\n",
              "    <tr>\n",
              "      <th>69655</th>\n",
              "      <td>Начальник отдела по защите информации и информ...</td>\n",
              "      <td>Центральный федеральный округ</td>\n",
              "      <td>Более 6 лет</td>\n",
              "      <td>Полный день</td>\n",
              "      <td>Тула</td>\n",
              "      <td>NaN</td>\n",
              "      <td>NaN</td>\n",
              "      <td>NaN</td>\n",
              "      <td>[Информационные технологии, Интернет, Мультиме...</td>\n",
              "      <td>[Информационная безопасность, Аудит безопаснос...</td>\n",
              "      <td>5</td>\n",
              "      <td>Знание английского языка не ниже среднего, вла...</td>\n",
              "      <td>Руководство деятельностью отдела по защите инф...</td>\n",
              "    </tr>\n",
              "  </tbody>\n",
              "</table>\n",
              "<p>41547 rows × 13 columns</p>\n",
              "</div>\n",
              "      <button class=\"colab-df-convert\" onclick=\"convertToInteractive('df-840333a0-30cd-4bec-8465-6ef27b3668a0')\"\n",
              "              title=\"Convert this dataframe to an interactive table.\"\n",
              "              style=\"display:none;\">\n",
              "        \n",
              "  <svg xmlns=\"http://www.w3.org/2000/svg\" height=\"24px\"viewBox=\"0 0 24 24\"\n",
              "       width=\"24px\">\n",
              "    <path d=\"M0 0h24v24H0V0z\" fill=\"none\"/>\n",
              "    <path d=\"M18.56 5.44l.94 2.06.94-2.06 2.06-.94-2.06-.94-.94-2.06-.94 2.06-2.06.94zm-11 1L8.5 8.5l.94-2.06 2.06-.94-2.06-.94L8.5 2.5l-.94 2.06-2.06.94zm10 10l.94 2.06.94-2.06 2.06-.94-2.06-.94-.94-2.06-.94 2.06-2.06.94z\"/><path d=\"M17.41 7.96l-1.37-1.37c-.4-.4-.92-.59-1.43-.59-.52 0-1.04.2-1.43.59L10.3 9.45l-7.72 7.72c-.78.78-.78 2.05 0 2.83L4 21.41c.39.39.9.59 1.41.59.51 0 1.02-.2 1.41-.59l7.78-7.78 2.81-2.81c.8-.78.8-2.07 0-2.86zM5.41 20L4 18.59l7.72-7.72 1.47 1.35L5.41 20z\"/>\n",
              "  </svg>\n",
              "      </button>\n",
              "      \n",
              "  <style>\n",
              "    .colab-df-container {\n",
              "      display:flex;\n",
              "      flex-wrap:wrap;\n",
              "      gap: 12px;\n",
              "    }\n",
              "\n",
              "    .colab-df-convert {\n",
              "      background-color: #E8F0FE;\n",
              "      border: none;\n",
              "      border-radius: 50%;\n",
              "      cursor: pointer;\n",
              "      display: none;\n",
              "      fill: #1967D2;\n",
              "      height: 32px;\n",
              "      padding: 0 0 0 0;\n",
              "      width: 32px;\n",
              "    }\n",
              "\n",
              "    .colab-df-convert:hover {\n",
              "      background-color: #E2EBFA;\n",
              "      box-shadow: 0px 1px 2px rgba(60, 64, 67, 0.3), 0px 1px 3px 1px rgba(60, 64, 67, 0.15);\n",
              "      fill: #174EA6;\n",
              "    }\n",
              "\n",
              "    [theme=dark] .colab-df-convert {\n",
              "      background-color: #3B4455;\n",
              "      fill: #D2E3FC;\n",
              "    }\n",
              "\n",
              "    [theme=dark] .colab-df-convert:hover {\n",
              "      background-color: #434B5C;\n",
              "      box-shadow: 0px 1px 3px 1px rgba(0, 0, 0, 0.15);\n",
              "      filter: drop-shadow(0px 1px 2px rgba(0, 0, 0, 0.3));\n",
              "      fill: #FFFFFF;\n",
              "    }\n",
              "  </style>\n",
              "\n",
              "      <script>\n",
              "        const buttonEl =\n",
              "          document.querySelector('#df-840333a0-30cd-4bec-8465-6ef27b3668a0 button.colab-df-convert');\n",
              "        buttonEl.style.display =\n",
              "          google.colab.kernel.accessAllowed ? 'block' : 'none';\n",
              "\n",
              "        async function convertToInteractive(key) {\n",
              "          const element = document.querySelector('#df-840333a0-30cd-4bec-8465-6ef27b3668a0');\n",
              "          const dataTable =\n",
              "            await google.colab.kernel.invokeFunction('convertToInteractive',\n",
              "                                                     [key], {});\n",
              "          if (!dataTable) return;\n",
              "\n",
              "          const docLinkHtml = 'Like what you see? Visit the ' +\n",
              "            '<a target=\"_blank\" href=https://colab.research.google.com/notebooks/data_table.ipynb>data table notebook</a>'\n",
              "            + ' to learn more about interactive tables.';\n",
              "          element.innerHTML = '';\n",
              "          dataTable['output_type'] = 'display_data';\n",
              "          await google.colab.output.renderOutput(dataTable, element);\n",
              "          const docLink = document.createElement('div');\n",
              "          docLink.innerHTML = docLinkHtml;\n",
              "          element.appendChild(docLink);\n",
              "        }\n",
              "      </script>\n",
              "    </div>\n",
              "  </div>\n",
              "  "
            ]
          },
          "metadata": {},
          "execution_count": 137
        }
      ]
    },
    {
      "cell_type": "code",
      "source": [
        "df_exp_3 = df_vis['Специализация'].apply(pd.Series)"
      ],
      "metadata": {
        "id": "AFf3mBpFCG5N"
      },
      "execution_count": null,
      "outputs": []
    },
    {
      "cell_type": "code",
      "source": [
        "df_exp_3.columns = ['sp1','sp2','sp3','sp4','sp5','sp6']"
      ],
      "metadata": {
        "id": "LoWVYiUwCNsd"
      },
      "execution_count": null,
      "outputs": []
    },
    {
      "cell_type": "code",
      "source": [
        "df_exp_3['sp8'] = df_exp_3['sp1'].astype(str) + \"-\" + df_exp_3['sp2'].astype(str) + \"-\" + df_exp_3['sp3'].astype(str) + \"-\" + df_exp_3['sp4'].astype(str) + \"-\" + df_exp_3['sp5'].astype(str) + \"-\" + df_exp_3['sp6'].astype(str)"
      ],
      "metadata": {
        "id": "SMInpxQ_CPtF"
      },
      "execution_count": null,
      "outputs": []
    },
    {
      "cell_type": "code",
      "source": [
        "df_exp_18 = df_vis['Требуемые навыки'].apply(pd.Series)"
      ],
      "metadata": {
        "id": "dn8NCqhDCSu1"
      },
      "execution_count": null,
      "outputs": []
    },
    {
      "cell_type": "code",
      "source": [
        "df_exp_18.columns = ['sk1','sk2','sk3','sk4','sk5','sk6','sk7','sk8','sk9','sk10'\n",
        ",'sk11','sk12','sk13','sk14','sk15','sk16','sk17','sk18','sk19','sk20','sk21','sk22'\n",
        ",'sk23','sk24','sk25','sk26','sk27','sk28','sk29','sk30']"
      ],
      "metadata": {
        "id": "G1nZ2eH8Cc2Q"
      },
      "execution_count": null,
      "outputs": []
    },
    {
      "cell_type": "code",
      "source": [
        "df_exp_3['sp9'] = df_exp_3['sp8']"
      ],
      "metadata": {
        "id": "2Yc5k2DPCj6m"
      },
      "execution_count": null,
      "outputs": []
    },
    {
      "cell_type": "code",
      "source": [
        "df_exp_3['Number_1'] = np.arange(len(df_exp_3))"
      ],
      "metadata": {
        "id": "vCp02h-HCmTd"
      },
      "execution_count": null,
      "outputs": []
    },
    {
      "cell_type": "code",
      "source": [
        "names_full = df_exp_3['sp8'].value_counts()"
      ],
      "metadata": {
        "id": "PIdckx_uCo7N"
      },
      "execution_count": null,
      "outputs": []
    },
    {
      "cell_type": "markdown",
      "source": [
        "#5.Выделение профессиональных групп"
      ],
      "metadata": {
        "id": "fganxWY1OJ9k"
      }
    },
    {
      "cell_type": "code",
      "source": [
        "high = ['CTO, CIO, Директор по IT']\n",
        "def highh(val):\n",
        "  for i in high:\n",
        "    if i in val:\n",
        "        val = 'Специалисты высого уровня'\n",
        "  return val\n",
        "  \n",
        "df_exp_3['sp8'] = df_exp_3['sp8'].apply(highh)"
      ],
      "metadata": {
        "id": "PgMu6rVLCtnt"
      },
      "execution_count": null,
      "outputs": []
    },
    {
      "cell_type": "code",
      "source": [
        "lows = ['Начальный уровень, Мало опыта','Технический писатель-nan-nan-nan-nan-nan','Журналистика', 'Сотовые, Беспроводные технологии-Технический писатель-nan-nan-nan-nan', 'Информационные технологии-Системы управления предприятием (ERP)-nan-nan-nan-nan', 'Системы управления предприятием (ERP)-nan-nan-nan-nan-nan',\n",
        "         'Информационные технологии, Интернет, Мультимедиа-nan-nan-nan-nan-nan','Электронная коммерция-Стартапы-nan-nan-nan-nan','Телекоммуникации-nan-nan-nan-nan-nan',\n",
        "         'Управление маркетингом-Бренд-менеджмент-Интернет-маркетинг-Электронная коммерция-CRM системы-Маркетинг','Авиационная промышленность-Системы автоматизированного проектирования-nan-nan-nan-nan',\n",
        "         'Сетевые технологии-Инженер-Сотовые, Беспроводные технологии-Телекоммуникации-Другое-Интернет',\n",
        "         'Информатика, Информационные системы-Математика-Другое-Инженерные науки-Телекоммуникации-Другое','Консалтинг, Аутсорсинг-Системы управления предприятием (ERP)-nan-nan-nan-nan',\n",
        "         'Информационные технологии-nan-nan-nan-nan-nan','Другое-Ввод данных-Системная интеграция-nan-nan-nan','Управленческое консультирование-Организационное консультирование-Консалтинг, Аутсорсинг-nan-nan-nan',\n",
        "         'Интернет-nan-nan-nan-nan-nan','Продажи', 'Другое-nan-nan-nan-nan-nan']\n",
        "def low(val):\n",
        "  for i in lows:\n",
        "    if i in val:\n",
        "        val = 'Низкий/начальный уровень'\n",
        "  return val\n",
        "  \n",
        "df_exp_3['sp8'] = df_exp_3['sp8'].apply(low)"
      ],
      "metadata": {
        "id": "GobTbEM-CwWd"
      },
      "execution_count": null,
      "outputs": []
    },
    {
      "cell_type": "code",
      "source": [
        "sysadmin = ['Системный администратор', 'Поддержка', 'Администратор баз данных', 'Инсталляция и настройка оборудования']\n",
        "def sysadminn(val):\n",
        "  for i in sysadmin:\n",
        "    if i in val:\n",
        "        val = 'Сисадмины и поддержка'\n",
        "  return val\n",
        "  \n",
        "df_exp_3['sp8'] = df_exp_3['sp8'].apply(sysadminn)"
      ],
      "metadata": {
        "id": "HbM05I_sUe8m"
      },
      "execution_count": null,
      "outputs": []
    },
    {
      "cell_type": "code",
      "source": [
        "security = ['Компьютерная безопасность', 'Экономическая и информационная безопасность']\n",
        "def secu(val):\n",
        "  for i in security:\n",
        "    if i in val:\n",
        "        val = 'Специалисты по ИБ'\n",
        "  return val\n",
        "  \n",
        "df_exp_3['sp8'] = df_exp_3['sp8'].apply(secu)"
      ],
      "metadata": {
        "id": "T8b9uVOtX2gA"
      },
      "execution_count": null,
      "outputs": []
    },
    {
      "cell_type": "code",
      "source": [
        "games = ['Игровое ПО', 'Разработка-Дизайн','Арт-директор','Дизайн, графика, живопись','Дизайнер']\n",
        "def gaming(val):\n",
        "  for i in games:\n",
        "    if i in val:\n",
        "        val = 'Дизайнеры/игровое ПО'\n",
        "  return val\n",
        "  \n",
        "df_exp_3['sp8'] = df_exp_3['sp8'].apply(gaming)"
      ],
      "metadata": {
        "id": "bdNuG9YsYqun"
      },
      "execution_count": null,
      "outputs": []
    },
    {
      "cell_type": "code",
      "source": [
        "tests = ['Тестирование']\n",
        "def testing(val):\n",
        "  for i in tests:\n",
        "    if i in val:\n",
        "        val = 'Тестировщики'\n",
        "  return val\n",
        "  \n",
        "df_exp_3['sp8'] = df_exp_3['sp8'].apply(testing)"
      ],
      "metadata": {
        "id": "ipgwjSdhZd0Z"
      },
      "execution_count": null,
      "outputs": []
    },
    {
      "cell_type": "code",
      "source": [
        "eng = ['Программирование, Разработка','Банковское ПО', 'Коммерческий банк','Web инженер-Web мастер-nan-nan-nan-nan',\n",
        "       'Инженер-nan-nan-nan-nan-nan', 'Другое-Инженер-nan-nan-nan-nan','Сетевые технологии-Инженер-Телекоммуникации-nan-nan-nan', \n",
        "       'Системная интеграция-nan-nan-nan-nan-nan','Инженер-Интернет-nan-nan-nan-nan','Инженер-Технолог-Инженер-nan-nan-nan','Сетевые технологии-Инженер-nan-nan-nan-nan']\n",
        "def engdev(val):\n",
        "  for i in eng:\n",
        "    if i in val:\n",
        "        val = 'Разработчики'\n",
        "  return val\n",
        "  \n",
        "df_exp_3['sp8'] = df_exp_3['sp8'].apply(engdev)"
      ],
      "metadata": {
        "id": "csnfLO_Pbs24"
      },
      "execution_count": null,
      "outputs": []
    },
    {
      "cell_type": "code",
      "source": [
        "analyt = ['Аналитик-Аналитик','Аналитик-nan-nan-nan-nan-nan','Аналитик-Сотрудник call-центра-Аналитик-nan-nan-nan', 'Аналитик']\n",
        "def spanalyt(val):\n",
        "  for i in analyt:\n",
        "    if i in val:\n",
        "        val = 'Аналитики'\n",
        "  return val\n",
        "  \n",
        "df_exp_3['sp8'] = df_exp_3['sp8'].apply(spanalyt)"
      ],
      "metadata": {
        "id": "I7TWZpBwcFqY"
      },
      "execution_count": null,
      "outputs": []
    },
    {
      "cell_type": "code",
      "source": [
        "prman = ['Product manager', 'Управление проектами']\n",
        "def prmann(val):\n",
        "  for i in prman:\n",
        "    if i in val:\n",
        "        val = 'Менеджеры проектов'\n",
        "  return val\n",
        "  \n",
        "df_exp_3['sp8'] = df_exp_3['sp8'].apply(prmann)"
      ],
      "metadata": {
        "id": "uSvN11XUc954"
      },
      "execution_count": null,
      "outputs": []
    },
    {
      "cell_type": "code",
      "source": [
        "df_exp_3['Объединенные специализации'] = df_exp_3['sp8']"
      ],
      "metadata": {
        "id": "8BYrMyXJDBJd"
      },
      "execution_count": null,
      "outputs": []
    },
    {
      "cell_type": "code",
      "source": [
        "new_dict_2 = dict(zip(df_exp_3['Number_1'], df_exp_3['Объединенные специализации']))"
      ],
      "metadata": {
        "id": "9CLWy47qDGr1"
      },
      "execution_count": null,
      "outputs": []
    },
    {
      "cell_type": "code",
      "source": [
        "dff_3['Объединенные специализации'] = dff_3['Number'].map(new_dict_2)"
      ],
      "metadata": {
        "colab": {
          "base_uri": "https://localhost:8080/"
        },
        "id": "SW1-0c18DJZh",
        "outputId": "940618e4-67f1-4995-d987-f38b6964ce86"
      },
      "execution_count": null,
      "outputs": [
        {
          "output_type": "stream",
          "name": "stderr",
          "text": [
            "<ipython-input-129-ab29f4320480>:1: SettingWithCopyWarning: \n",
            "A value is trying to be set on a copy of a slice from a DataFrame.\n",
            "Try using .loc[row_indexer,col_indexer] = value instead\n",
            "\n",
            "See the caveats in the documentation: https://pandas.pydata.org/pandas-docs/stable/user_guide/indexing.html#returning-a-view-versus-a-copy\n",
            "  dff_3['Объединенные специализации'] = dff_3['Number'].map(new_dict_2)\n"
          ]
        }
      ]
    },
    {
      "cell_type": "code",
      "source": [
        "dff_3['Объединенные специализации'].value_counts()"
      ],
      "metadata": {
        "colab": {
          "base_uri": "https://localhost:8080/"
        },
        "id": "Hr-JK-L4DMQt",
        "outputId": "6db7c2e7-0acd-4e5d-9692-f3816c3b49d5"
      },
      "execution_count": null,
      "outputs": [
        {
          "output_type": "execute_result",
          "data": {
            "text/plain": [
              "Разработчики                 16063\n",
              "Сисадмины и поддержка         8334\n",
              "Аналитики                     4995\n",
              "Низкий/начальный уровень      3856\n",
              "Менеджеры проектов            2763\n",
              "Дизайнеры/игровое ПО          2615\n",
              "Тестировщики                  2318\n",
              "Специалисты высого уровня      533\n",
              "Специалисты по ИБ               70\n",
              "Name: Объединенные специализации, dtype: int64"
            ]
          },
          "metadata": {},
          "execution_count": 130
        }
      ]
    },
    {
      "cell_type": "code",
      "source": [
        "dff_13 = dff_3.rename(columns={\"name\": \"Вакансия\", \"Исправленные скиллы\": \"Требуемые навыки\", \"spec_list\":'Специализация', 'Объединенные специализации': 'Профессиональные группы'})"
      ],
      "metadata": {
        "id": "NGVgh_4iDPX1"
      },
      "execution_count": null,
      "outputs": []
    },
    {
      "cell_type": "markdown",
      "source": [
        "#6.Сборка итогового датасета с выделнными профессиональными группами"
      ],
      "metadata": {
        "id": "kjrhkVaAOaLk"
      }
    },
    {
      "cell_type": "code",
      "source": [
        "df_vis_2 = dff_13[['Вакансия','Федеральный округ','Опыт работы', 'График работы', 'Город вакансии', 'Минимальная ЗП в рублях', 'Максимальная ЗП в рублях', 'Средняя ЗП в рублях','Специализация','Требуемые навыки','Количество скиллов', 'Профессиональные группы','Требования','Ответственность']]"
      ],
      "metadata": {
        "id": "zybk-Z_DDSL-"
      },
      "execution_count": null,
      "outputs": []
    },
    {
      "cell_type": "code",
      "source": [
        "df_vis_2.info()"
      ],
      "metadata": {
        "colab": {
          "base_uri": "https://localhost:8080/"
        },
        "id": "6Jn8wALyDm9t",
        "outputId": "05b31e49-f459-4d31-dd9b-7797cc42ff23"
      },
      "execution_count": null,
      "outputs": [
        {
          "output_type": "stream",
          "name": "stdout",
          "text": [
            "<class 'pandas.core.frame.DataFrame'>\n",
            "Int64Index: 41547 entries, 1 to 69655\n",
            "Data columns (total 14 columns):\n",
            " #   Column                    Non-Null Count  Dtype  \n",
            "---  ------                    --------------  -----  \n",
            " 0   Вакансия                  41547 non-null  object \n",
            " 1   Федеральный округ         41547 non-null  object \n",
            " 2   Опыт работы               41547 non-null  object \n",
            " 3   График работы             41547 non-null  object \n",
            " 4   Город вакансии            41547 non-null  object \n",
            " 5   Минимальная ЗП в рублях   16188 non-null  float64\n",
            " 6   Максимальная ЗП в рублях  10002 non-null  float64\n",
            " 7   Средняя ЗП в рублях       18253 non-null  float64\n",
            " 8   Специализация             41547 non-null  object \n",
            " 9   Требуемые навыки          41547 non-null  object \n",
            " 10  Количество скиллов        41547 non-null  int64  \n",
            " 11  Профессиональные группы   41547 non-null  object \n",
            " 12  Требования                41190 non-null  object \n",
            " 13  Ответственность           40769 non-null  object \n",
            "dtypes: float64(3), int64(1), object(10)\n",
            "memory usage: 4.8+ MB\n"
          ]
        }
      ]
    },
    {
      "cell_type": "code",
      "source": [
        "df_vis_2.to_excel('vac_stat.xlsx')"
      ],
      "metadata": {
        "id": "CSd7j9GlJmVW"
      },
      "execution_count": null,
      "outputs": []
    },
    {
      "cell_type": "code",
      "source": [
        "df_vis_2"
      ],
      "metadata": {
        "colab": {
          "base_uri": "https://localhost:8080/",
          "height": 850
        },
        "id": "CuG7kKxhWJRo",
        "outputId": "f81c3b99-a19d-4c58-f621-efaf7176b004"
      },
      "execution_count": null,
      "outputs": [
        {
          "output_type": "execute_result",
          "data": {
            "text/plain": [
              "                                                Вакансия  \\\n",
              "1                                            Тестировщик   \n",
              "2                                              Пентестер   \n",
              "3       Ведущий Специалист по информационным технологиям   \n",
              "4              Cпециалист по информационной безопасности   \n",
              "6       Ведущий специалист по информационным технологиям   \n",
              "...                                                  ...   \n",
              "69649                                    C++-разработчик   \n",
              "69650                                     Программист 1С   \n",
              "69652                                     Программист 1С   \n",
              "69653         Начальник отдела информационных технологий   \n",
              "69655  Начальник отдела по защите информации и информ...   \n",
              "\n",
              "                   Федеральный округ         Опыт работы График работы  \\\n",
              "1            Южный федеральный округ  От 1 года до 3 лет   Полный день   \n",
              "2            Южный федеральный округ       От 3 до 6 лет   Полный день   \n",
              "3            Южный федеральный округ           Нет опыта   Полный день   \n",
              "4            Южный федеральный округ           Нет опыта   Полный день   \n",
              "6            Южный федеральный округ       От 3 до 6 лет   Полный день   \n",
              "...                              ...                 ...           ...   \n",
              "69649  Центральный федеральный округ       От 3 до 6 лет   Полный день   \n",
              "69650  Центральный федеральный округ  От 1 года до 3 лет   Полный день   \n",
              "69652  Центральный федеральный округ  От 1 года до 3 лет   Полный день   \n",
              "69653  Центральный федеральный округ  От 1 года до 3 лет   Полный день   \n",
              "69655  Центральный федеральный округ         Более 6 лет   Полный день   \n",
              "\n",
              "      Город вакансии  Минимальная ЗП в рублях  Максимальная ЗП в рублях  \\\n",
              "1          Астрахань                  21750.0                   43500.0   \n",
              "2          Астрахань                      NaN                       NaN   \n",
              "3          Астрахань                  22620.0                       NaN   \n",
              "4          Астрахань                  20000.0                   20000.0   \n",
              "6          Астрахань                      NaN                       NaN   \n",
              "...              ...                      ...                       ...   \n",
              "69649           Тула                      NaN                  250000.0   \n",
              "69650           Тула                      NaN                       NaN   \n",
              "69652           Тула                 130000.0                       NaN   \n",
              "69653           Тула                  50000.0                       NaN   \n",
              "69655           Тула                      NaN                       NaN   \n",
              "\n",
              "       Средняя ЗП в рублях                                      Специализация  \\\n",
              "1                  32625.0  [Программирование, Разработка, Инженер, Тестир...   \n",
              "2                      NaN  [Программирование, Разработка, Инженер, Тестир...   \n",
              "3                  22620.0  [Компьютерная безопасность, Сетевые технологии...   \n",
              "4                  20000.0  [Компьютерная безопасность, Сетевые технологии...   \n",
              "6                      NaN  [Компьютерная безопасность, Сетевые технологии...   \n",
              "...                    ...                                                ...   \n",
              "69649             250000.0  [Программирование, Разработка, Системы управле...   \n",
              "69650                  NaN  [Программирование, Разработка, Системы управле...   \n",
              "69652             130000.0  [Программирование, Разработка, Системы управле...   \n",
              "69653              50000.0  [Информационные технологии, Интернет, Мультиме...   \n",
              "69655                  NaN  [Информационные технологии, Интернет, Мультиме...   \n",
              "\n",
              "                                        Требуемые навыки  Количество скиллов  \\\n",
              "1                      [GIT, SQL, Тестирование, C#, API]                   5   \n",
              "2      [SQL, Linux, Информационная безопасность, Рабо...                   5   \n",
              "3      [Пользователь ПК, Работа в команде, 1С: Предпр...                   5   \n",
              "4      [MS Dos, Диагностика ПК, Компьютер, Работа в у...                   8   \n",
              "6      [Администрирование сетевого оборудования, Заку...                   5   \n",
              "...                                                  ...                 ...   \n",
              "69649                      [STL, C/C++, C++, ООП, Boost]                   5   \n",
              "69650  [1С программирование, Обновление конфигурации ...                   5   \n",
              "69652  [1С: Управление Торговлей, 1С: Предприятие 8, ...                   5   \n",
              "69653  [Организаторские навыки, Работа в команде, Упр...                   7   \n",
              "69655  [Информационная безопасность, Аудит безопаснос...                   5   \n",
              "\n",
              "         Профессиональные группы  \\\n",
              "1                   Тестировщики   \n",
              "2                   Тестировщики   \n",
              "3          Сисадмины и поддержка   \n",
              "4          Сисадмины и поддержка   \n",
              "6          Сисадмины и поддержка   \n",
              "...                          ...   \n",
              "69649               Разработчики   \n",
              "69650               Разработчики   \n",
              "69652               Разработчики   \n",
              "69653  Специалисты высого уровня   \n",
              "69655  Специалисты высого уровня   \n",
              "\n",
              "                                              Требования  \\\n",
              "1      Мы ищем талантливого и амбициозного тестировщи...   \n",
              "2      Глубокие знания клиентских и серверных операци...   \n",
              "3                    Средне-профессиональное или высшее.   \n",
              "4      Медицинская комиссия, справка о наличие/отсутс...   \n",
              "6      Высшее профессиональное (техническое) образова...   \n",
              "...                                                  ...   \n",
              "69649  Общий опыт программирования – не менее 5лет. В...   \n",
              "69650  Высшее профессиональное образование. Опыт сопр...   \n",
              "69652  Доброжелательность и отзывчивость к коллегам. ...   \n",
              "69653  Знать нормативные и методические материалы по ...   \n",
              "69655  Знание английского языка не ниже среднего, вла...   \n",
              "\n",
              "                                         Ответственность  \n",
              "1      Написанием тест-кейсов по готовым требованиям....  \n",
              "2      Консультации разработчиков относительно дорабо...  \n",
              "3      Администрирование компьютерной сети. Организац...  \n",
              "4      Обеспечивает бесперебойное функционирование об...  \n",
              "6      1. Обеспечение работы локальной вычислительной...  \n",
              "...                                                  ...  \n",
              "69649                                               None  \n",
              "69650  Поддержка и внедрение систем на платформе 1С v...  \n",
              "69652  Поддержка и доработка различных конфигураций н...  \n",
              "69653  Руководить работниками отдела информационных т...  \n",
              "69655  Руководство деятельностью отдела по защите инф...  \n",
              "\n",
              "[41547 rows x 14 columns]"
            ],
            "text/html": [
              "\n",
              "  <div id=\"df-039bd718-a1a5-4eb1-bf70-06c250607645\">\n",
              "    <div class=\"colab-df-container\">\n",
              "      <div>\n",
              "<style scoped>\n",
              "    .dataframe tbody tr th:only-of-type {\n",
              "        vertical-align: middle;\n",
              "    }\n",
              "\n",
              "    .dataframe tbody tr th {\n",
              "        vertical-align: top;\n",
              "    }\n",
              "\n",
              "    .dataframe thead th {\n",
              "        text-align: right;\n",
              "    }\n",
              "</style>\n",
              "<table border=\"1\" class=\"dataframe\">\n",
              "  <thead>\n",
              "    <tr style=\"text-align: right;\">\n",
              "      <th></th>\n",
              "      <th>Вакансия</th>\n",
              "      <th>Федеральный округ</th>\n",
              "      <th>Опыт работы</th>\n",
              "      <th>График работы</th>\n",
              "      <th>Город вакансии</th>\n",
              "      <th>Минимальная ЗП в рублях</th>\n",
              "      <th>Максимальная ЗП в рублях</th>\n",
              "      <th>Средняя ЗП в рублях</th>\n",
              "      <th>Специализация</th>\n",
              "      <th>Требуемые навыки</th>\n",
              "      <th>Количество скиллов</th>\n",
              "      <th>Профессиональные группы</th>\n",
              "      <th>Требования</th>\n",
              "      <th>Ответственность</th>\n",
              "    </tr>\n",
              "  </thead>\n",
              "  <tbody>\n",
              "    <tr>\n",
              "      <th>1</th>\n",
              "      <td>Тестировщик</td>\n",
              "      <td>Южный федеральный округ</td>\n",
              "      <td>От 1 года до 3 лет</td>\n",
              "      <td>Полный день</td>\n",
              "      <td>Астрахань</td>\n",
              "      <td>21750.0</td>\n",
              "      <td>43500.0</td>\n",
              "      <td>32625.0</td>\n",
              "      <td>[Программирование, Разработка, Инженер, Тестир...</td>\n",
              "      <td>[GIT, SQL, Тестирование, C#, API]</td>\n",
              "      <td>5</td>\n",
              "      <td>Тестировщики</td>\n",
              "      <td>Мы ищем талантливого и амбициозного тестировщи...</td>\n",
              "      <td>Написанием тест-кейсов по готовым требованиям....</td>\n",
              "    </tr>\n",
              "    <tr>\n",
              "      <th>2</th>\n",
              "      <td>Пентестер</td>\n",
              "      <td>Южный федеральный округ</td>\n",
              "      <td>От 3 до 6 лет</td>\n",
              "      <td>Полный день</td>\n",
              "      <td>Астрахань</td>\n",
              "      <td>NaN</td>\n",
              "      <td>NaN</td>\n",
              "      <td>NaN</td>\n",
              "      <td>[Программирование, Разработка, Инженер, Тестир...</td>\n",
              "      <td>[SQL, Linux, Информационная безопасность, Рабо...</td>\n",
              "      <td>5</td>\n",
              "      <td>Тестировщики</td>\n",
              "      <td>Глубокие знания клиентских и серверных операци...</td>\n",
              "      <td>Консультации разработчиков относительно дорабо...</td>\n",
              "    </tr>\n",
              "    <tr>\n",
              "      <th>3</th>\n",
              "      <td>Ведущий Специалист по информационным технологиям</td>\n",
              "      <td>Южный федеральный округ</td>\n",
              "      <td>Нет опыта</td>\n",
              "      <td>Полный день</td>\n",
              "      <td>Астрахань</td>\n",
              "      <td>22620.0</td>\n",
              "      <td>NaN</td>\n",
              "      <td>22620.0</td>\n",
              "      <td>[Компьютерная безопасность, Сетевые технологии...</td>\n",
              "      <td>[Пользователь ПК, Работа в команде, 1С: Предпр...</td>\n",
              "      <td>5</td>\n",
              "      <td>Сисадмины и поддержка</td>\n",
              "      <td>Средне-профессиональное или высшее.</td>\n",
              "      <td>Администрирование компьютерной сети. Организац...</td>\n",
              "    </tr>\n",
              "    <tr>\n",
              "      <th>4</th>\n",
              "      <td>Cпециалист по информационной безопасности</td>\n",
              "      <td>Южный федеральный округ</td>\n",
              "      <td>Нет опыта</td>\n",
              "      <td>Полный день</td>\n",
              "      <td>Астрахань</td>\n",
              "      <td>20000.0</td>\n",
              "      <td>20000.0</td>\n",
              "      <td>20000.0</td>\n",
              "      <td>[Компьютерная безопасность, Сетевые технологии...</td>\n",
              "      <td>[MS Dos, Диагностика ПК, Компьютер, Работа в у...</td>\n",
              "      <td>8</td>\n",
              "      <td>Сисадмины и поддержка</td>\n",
              "      <td>Медицинская комиссия, справка о наличие/отсутс...</td>\n",
              "      <td>Обеспечивает бесперебойное функционирование об...</td>\n",
              "    </tr>\n",
              "    <tr>\n",
              "      <th>6</th>\n",
              "      <td>Ведущий специалист по информационным технологиям</td>\n",
              "      <td>Южный федеральный округ</td>\n",
              "      <td>От 3 до 6 лет</td>\n",
              "      <td>Полный день</td>\n",
              "      <td>Астрахань</td>\n",
              "      <td>NaN</td>\n",
              "      <td>NaN</td>\n",
              "      <td>NaN</td>\n",
              "      <td>[Компьютерная безопасность, Сетевые технологии...</td>\n",
              "      <td>[Администрирование сетевого оборудования, Заку...</td>\n",
              "      <td>5</td>\n",
              "      <td>Сисадмины и поддержка</td>\n",
              "      <td>Высшее профессиональное (техническое) образова...</td>\n",
              "      <td>1. Обеспечение работы локальной вычислительной...</td>\n",
              "    </tr>\n",
              "    <tr>\n",
              "      <th>...</th>\n",
              "      <td>...</td>\n",
              "      <td>...</td>\n",
              "      <td>...</td>\n",
              "      <td>...</td>\n",
              "      <td>...</td>\n",
              "      <td>...</td>\n",
              "      <td>...</td>\n",
              "      <td>...</td>\n",
              "      <td>...</td>\n",
              "      <td>...</td>\n",
              "      <td>...</td>\n",
              "      <td>...</td>\n",
              "      <td>...</td>\n",
              "      <td>...</td>\n",
              "    </tr>\n",
              "    <tr>\n",
              "      <th>69649</th>\n",
              "      <td>C++-разработчик</td>\n",
              "      <td>Центральный федеральный округ</td>\n",
              "      <td>От 3 до 6 лет</td>\n",
              "      <td>Полный день</td>\n",
              "      <td>Тула</td>\n",
              "      <td>NaN</td>\n",
              "      <td>250000.0</td>\n",
              "      <td>250000.0</td>\n",
              "      <td>[Программирование, Разработка, Системы управле...</td>\n",
              "      <td>[STL, C/C++, C++, ООП, Boost]</td>\n",
              "      <td>5</td>\n",
              "      <td>Разработчики</td>\n",
              "      <td>Общий опыт программирования – не менее 5лет. В...</td>\n",
              "      <td>None</td>\n",
              "    </tr>\n",
              "    <tr>\n",
              "      <th>69650</th>\n",
              "      <td>Программист 1С</td>\n",
              "      <td>Центральный федеральный округ</td>\n",
              "      <td>От 1 года до 3 лет</td>\n",
              "      <td>Полный день</td>\n",
              "      <td>Тула</td>\n",
              "      <td>NaN</td>\n",
              "      <td>NaN</td>\n",
              "      <td>NaN</td>\n",
              "      <td>[Программирование, Разработка, Системы управле...</td>\n",
              "      <td>[1С программирование, Обновление конфигурации ...</td>\n",
              "      <td>5</td>\n",
              "      <td>Разработчики</td>\n",
              "      <td>Высшее профессиональное образование. Опыт сопр...</td>\n",
              "      <td>Поддержка и внедрение систем на платформе 1С v...</td>\n",
              "    </tr>\n",
              "    <tr>\n",
              "      <th>69652</th>\n",
              "      <td>Программист 1С</td>\n",
              "      <td>Центральный федеральный округ</td>\n",
              "      <td>От 1 года до 3 лет</td>\n",
              "      <td>Полный день</td>\n",
              "      <td>Тула</td>\n",
              "      <td>130000.0</td>\n",
              "      <td>NaN</td>\n",
              "      <td>130000.0</td>\n",
              "      <td>[Программирование, Разработка, Системы управле...</td>\n",
              "      <td>[1С: Управление Торговлей, 1С: Предприятие 8, ...</td>\n",
              "      <td>5</td>\n",
              "      <td>Разработчики</td>\n",
              "      <td>Доброжелательность и отзывчивость к коллегам. ...</td>\n",
              "      <td>Поддержка и доработка различных конфигураций н...</td>\n",
              "    </tr>\n",
              "    <tr>\n",
              "      <th>69653</th>\n",
              "      <td>Начальник отдела информационных технологий</td>\n",
              "      <td>Центральный федеральный округ</td>\n",
              "      <td>От 1 года до 3 лет</td>\n",
              "      <td>Полный день</td>\n",
              "      <td>Тула</td>\n",
              "      <td>50000.0</td>\n",
              "      <td>NaN</td>\n",
              "      <td>50000.0</td>\n",
              "      <td>[Информационные технологии, Интернет, Мультиме...</td>\n",
              "      <td>[Организаторские навыки, Работа в команде, Упр...</td>\n",
              "      <td>7</td>\n",
              "      <td>Специалисты высого уровня</td>\n",
              "      <td>Знать нормативные и методические материалы по ...</td>\n",
              "      <td>Руководить работниками отдела информационных т...</td>\n",
              "    </tr>\n",
              "    <tr>\n",
              "      <th>69655</th>\n",
              "      <td>Начальник отдела по защите информации и информ...</td>\n",
              "      <td>Центральный федеральный округ</td>\n",
              "      <td>Более 6 лет</td>\n",
              "      <td>Полный день</td>\n",
              "      <td>Тула</td>\n",
              "      <td>NaN</td>\n",
              "      <td>NaN</td>\n",
              "      <td>NaN</td>\n",
              "      <td>[Информационные технологии, Интернет, Мультиме...</td>\n",
              "      <td>[Информационная безопасность, Аудит безопаснос...</td>\n",
              "      <td>5</td>\n",
              "      <td>Специалисты высого уровня</td>\n",
              "      <td>Знание английского языка не ниже среднего, вла...</td>\n",
              "      <td>Руководство деятельностью отдела по защите инф...</td>\n",
              "    </tr>\n",
              "  </tbody>\n",
              "</table>\n",
              "<p>41547 rows × 14 columns</p>\n",
              "</div>\n",
              "      <button class=\"colab-df-convert\" onclick=\"convertToInteractive('df-039bd718-a1a5-4eb1-bf70-06c250607645')\"\n",
              "              title=\"Convert this dataframe to an interactive table.\"\n",
              "              style=\"display:none;\">\n",
              "        \n",
              "  <svg xmlns=\"http://www.w3.org/2000/svg\" height=\"24px\"viewBox=\"0 0 24 24\"\n",
              "       width=\"24px\">\n",
              "    <path d=\"M0 0h24v24H0V0z\" fill=\"none\"/>\n",
              "    <path d=\"M18.56 5.44l.94 2.06.94-2.06 2.06-.94-2.06-.94-.94-2.06-.94 2.06-2.06.94zm-11 1L8.5 8.5l.94-2.06 2.06-.94-2.06-.94L8.5 2.5l-.94 2.06-2.06.94zm10 10l.94 2.06.94-2.06 2.06-.94-2.06-.94-.94-2.06-.94 2.06-2.06.94z\"/><path d=\"M17.41 7.96l-1.37-1.37c-.4-.4-.92-.59-1.43-.59-.52 0-1.04.2-1.43.59L10.3 9.45l-7.72 7.72c-.78.78-.78 2.05 0 2.83L4 21.41c.39.39.9.59 1.41.59.51 0 1.02-.2 1.41-.59l7.78-7.78 2.81-2.81c.8-.78.8-2.07 0-2.86zM5.41 20L4 18.59l7.72-7.72 1.47 1.35L5.41 20z\"/>\n",
              "  </svg>\n",
              "      </button>\n",
              "      \n",
              "  <style>\n",
              "    .colab-df-container {\n",
              "      display:flex;\n",
              "      flex-wrap:wrap;\n",
              "      gap: 12px;\n",
              "    }\n",
              "\n",
              "    .colab-df-convert {\n",
              "      background-color: #E8F0FE;\n",
              "      border: none;\n",
              "      border-radius: 50%;\n",
              "      cursor: pointer;\n",
              "      display: none;\n",
              "      fill: #1967D2;\n",
              "      height: 32px;\n",
              "      padding: 0 0 0 0;\n",
              "      width: 32px;\n",
              "    }\n",
              "\n",
              "    .colab-df-convert:hover {\n",
              "      background-color: #E2EBFA;\n",
              "      box-shadow: 0px 1px 2px rgba(60, 64, 67, 0.3), 0px 1px 3px 1px rgba(60, 64, 67, 0.15);\n",
              "      fill: #174EA6;\n",
              "    }\n",
              "\n",
              "    [theme=dark] .colab-df-convert {\n",
              "      background-color: #3B4455;\n",
              "      fill: #D2E3FC;\n",
              "    }\n",
              "\n",
              "    [theme=dark] .colab-df-convert:hover {\n",
              "      background-color: #434B5C;\n",
              "      box-shadow: 0px 1px 3px 1px rgba(0, 0, 0, 0.15);\n",
              "      filter: drop-shadow(0px 1px 2px rgba(0, 0, 0, 0.3));\n",
              "      fill: #FFFFFF;\n",
              "    }\n",
              "  </style>\n",
              "\n",
              "      <script>\n",
              "        const buttonEl =\n",
              "          document.querySelector('#df-039bd718-a1a5-4eb1-bf70-06c250607645 button.colab-df-convert');\n",
              "        buttonEl.style.display =\n",
              "          google.colab.kernel.accessAllowed ? 'block' : 'none';\n",
              "\n",
              "        async function convertToInteractive(key) {\n",
              "          const element = document.querySelector('#df-039bd718-a1a5-4eb1-bf70-06c250607645');\n",
              "          const dataTable =\n",
              "            await google.colab.kernel.invokeFunction('convertToInteractive',\n",
              "                                                     [key], {});\n",
              "          if (!dataTable) return;\n",
              "\n",
              "          const docLinkHtml = 'Like what you see? Visit the ' +\n",
              "            '<a target=\"_blank\" href=https://colab.research.google.com/notebooks/data_table.ipynb>data table notebook</a>'\n",
              "            + ' to learn more about interactive tables.';\n",
              "          element.innerHTML = '';\n",
              "          dataTable['output_type'] = 'display_data';\n",
              "          await google.colab.output.renderOutput(dataTable, element);\n",
              "          const docLink = document.createElement('div');\n",
              "          docLink.innerHTML = docLinkHtml;\n",
              "          element.appendChild(docLink);\n",
              "        }\n",
              "      </script>\n",
              "    </div>\n",
              "  </div>\n",
              "  "
            ]
          },
          "metadata": {},
          "execution_count": 145
        }
      ]
    }
  ]
}